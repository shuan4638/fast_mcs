{
 "cells": [
  {
   "cell_type": "code",
   "execution_count": 1,
   "id": "21ad1659",
   "metadata": {},
   "outputs": [],
   "source": [
    "from MCS_similarity import *\n",
    "import pandas as pd\n",
    "\n",
    "df = pd.read_csv('USPTO_mutations.csv')\n",
    "all_smiles = df['molecule'].tolist()\n",
    "all_mutations = df['mutations'].tolist()"
   ]
  },
  {
   "cell_type": "code",
   "execution_count": 2,
   "id": "53675b31",
   "metadata": {},
   "outputs": [
    {
     "data": {
      "text/plain": [
       "200"
      ]
     },
     "execution_count": 2,
     "metadata": {},
     "output_type": "execute_result"
    }
   ],
   "source": [
    "# df = pd.read_csv('outputs/hybrid_Sims.csv')\n",
    "# molecules = df['smiles'].tolist()\n",
    "# idxs = [i for i, smiles in enumerate(all_smiles) if smiles in molecules]\n",
    "idxs = np.random.choice(df.index.tolist(), 200)\n",
    "len(idxs)"
   ]
  },
  {
   "cell_type": "code",
   "execution_count": 3,
   "id": "e7c4cc6c",
   "metadata": {},
   "outputs": [
    {
     "name": "stdout",
     "output_type": "stream",
     "text": [
      "7161 O=C(Nc1ccc(-c2ccccc2)cc1C(=O)O)OCc1ccc(-c2ccccc2)cc1\n",
      "484 O=[N+]([O-])c1ccc(N(Cc2ccc3nonc3c2)n2cncn2)cc1\n",
      "35258 Cc1cnc(N2CCN(C(=O)c3ccc(Br)cc3[N+](=O)[O-])CC2)c(C)c1\n",
      "44053 CC(C)(NC(=O)Cn1nc(-c2ccc(Cl)cc2)n(C2CC2)c1=O)c1cccc(C(F)(F)F)c1\n",
      "16617 CN(C(=O)OC(C)(C)C)c1cc(Oc2ccc(C34CC5CC(CC(C5)C3)C4)cc2)ccc1NC(=O)COc1ccc(CC2SC(=O)NC2=O)cc1\n",
      "5349 CC(C)N(CCc1ccc(C(=O)N2CCN(C(=O)OC(C)(C)C)CC2)cc1)C(C)C\n",
      "19502 COC(=O)CCCCc1cc2c(o1)C[C@@H](OC1CCCCO1)[C@@H]2C=O\n",
      "38702 CC(C)(C)OC(=O)NC1=NC(C)(c2cccc(-c3cncc(C#N)c3)c2)COC1\n",
      "44726 Oc1cccc(-c2nc3c(NC4CCCC4)cccn3c2-c2ccnc(NC3CCCC3)n2)c1\n",
      "7293 C[C@](O)(C(=O)Nc1cccc2c1C(=O)c1sccc1CS2)C(F)(F)F\n",
      "8846 COC(=O)C(CC(C)C)c1cc(-c2cc(F)cc(C(F)(F)F)c2)cc(-c2cc(C(F)(F)F)cc(C(F)(F)F)c2)c1\n",
      "2022 COC(=O)[C@@H]1C[C@@H](Oc2nc(-c3ccccn3)nc3ccsc23)CN1C(=O)OC(C)(C)C\n",
      "27107 CC(=O)Nc1ccc(C)c2c1C(=O)CCN2CCN\n",
      "45603 Cn1c(CCN2CCC(COc3ccccc3F)CC2)cncc1=O\n",
      "47191 CCNc1ccccc1\n",
      "39263 Nc1ncnn2c([C@@H]3CCCNC3)cc(-c3ccc4cn(Cc5ccccc5)nc4c3)c12\n",
      "22787 COC(=O)c1cccc(CS(=O)(=O)N[C@@H](C(=O)N[C@@H](CC(C)C)C(=O)NCc2ccc(C#N)cc2)C(C)C)c1\n",
      "12432 CC(=O)CCc1cccc(Br)c1\n",
      "21909 CC(C)[C@H](N)C(=O)N1CCC1\n",
      "23932 COCCCN1CCOc2ccc(CO[C@H]3CN(C(=O)OCc4ccccc4)C[C@@H](COC(C)=O)[C@@H]3c3ccc(COC[C@@H](C)COC)cc3)cc21\n",
      "23639 CC1CSC2=C(O1)c1cc(-c3ccccc3)ccc1C(=O)C2=O\n",
      "29939 COCCn1nc(C(C)(C)C)nc1CC(=O)O\n",
      "9464 CON(C)C(=O)c1cc2cc(Cl)ccc2[nH]1\n",
      "22383 COc1ccc(Oc2cccc(CN3CCC(c4cccc(NC(=O)C(C)C)c4)CC3)c2)cc1\n",
      "29947 CN1CCC(Oc2cc(F)cc([N+](=O)[O-])c2)CC1\n",
      "47803 COc1ccc(C(=O)Nc2ccc(C3(CNC(=O)C(C)(C)C)CCCC3)cc2)cc1OC\n",
      "2066 CCCCCCCCCCCCCCCCNc1ccc(CC(N)=O)cc1\n",
      "10755 c1ccc(-c2c3ccccc3c(-c3ccccc3)c3cc(-c4ccc(-c5ccc6c(c5)nc(-c5ccccc5)n6-c5ccccc5)cc4)ccc23)cc1\n",
      "24471 CCNc1cc(C=C2SC(=O)NC2=O)ccc1[N+](=O)[O-]\n",
      "35745 O=[N+]([O-])c1cccnc1OCCO\n",
      "24601 CC(C)(CCc1ccc(Oc2ccc(C(N)=O)cc2)cc1)NC[C@H](O)COc1cn[nH]c1\n",
      "2007 CCCCCCC(CC=CCCCCCCCC(=O)OCC)OC\n",
      "19541 CCN(C)S(=O)(=O)c1ccc(-c2cnc(N)c(-c3ccc4c(c3)CCCNC4=O)n2)cc1\n",
      "39667 C#CCOc1nc(N)c(C(F)(F)F)cc1Cl\n",
      "5626 CC(C)(C)[SiH2]OC(C)(C)C1CC(O)(C#C[Si](C)(C)C)CCO1\n",
      "46676 COc1cc(N)ccc1C\n",
      "1477 O=C1CCN(c2ccc(CN3CCOCC3)cc2)CC1\n",
      "42254 CN(C)c1cccc(-c2ccc(Cl)c(C(N)=O)c2)n1\n",
      "44986 CC(C)(C)OC(=O)n1c(-c2ccc(Cl)c3c2C(=O)NC3)cc2cc(CNCc3ccccc3)ccc21\n",
      "39359 O=S1CCN(c2nc(N3CCNCC3)nc3c(SCc4ccc(Cl)cc4)ncnc23)CC1\n",
      "4349 Cc1ccc(CCC(=O)N2C[C@H](C)N(Cc3ccc(F)cc3)C[C@H]2C)c(OCC(=O)O)c1\n",
      "40202 CC(=O)NC(C)Cn1cc(-c2ccccc2)c2ccccc2c1=O\n",
      "19190 Cc1cc([C@@H](C)NC(=O)c2ccc3nc(C(F)(F)F)cc(N4CC[C@H](O)C4)c3c2)c(F)cc1NS(C)(=O)=O\n",
      "23736 Cc1ccccc1Sc1ccc2c(c1)OCC21CCN(CCC(=O)O)CC1\n",
      "35338 CC(=O)N1CCc2c(sc(C)c2CCN2CCC(c3nn(-c4ccc(F)cc4)c4cc(F)ccc34)CC2)C1\n",
      "40861 COc1ccc2c(C(=O)NCc3ccc(F)c(F)c3)c(C(C)C)n(Cc3ccccn3)c2c1\n",
      "33862 N#Cc1cc(C(O)CNC2CCC2)cc(Br)c1N\n",
      "10465 CC1(C)OCc2cc([C@@H](O)C(=O)N[C@H]3CCc4ccc(O)cc4C3)ccc2O1\n",
      "14950 CC(C)[C@@H](C(=O)O)N1Cc2ccc(-c3ccc(NC(=O)c4ccc(F)c(F)c4)cc3)cc2C1=O\n",
      "11088 CN1C(=O)Cn2cc(C(=O)NCc3ccc(Cl)cc3)c(=O)c3cc(I)cc1c32\n",
      "18819 CN(Cc1cc(CO)ccc1Oc1ccc(Cl)c(Cl)c1)C(=O)OC(C)(C)C\n",
      "34302 CSc1ccc(C2=CCC(N3CC(NC(=O)CNC(=O)c4cccc(C(F)(F)F)c4)C3)CC2)cc1\n",
      "9559 C[Si](C)(C)C#Cc1cccc(-c2c3cccc(C(F)(F)F)c3nn2Cc2c(F)cc(F)cc2F)c1\n",
      "42058 COC(=O)[C@H](CC(F)(F)Cc1ccccc1)NC(=O)N1CCOCC1\n",
      "31717 CN1C2CCC1CC(c1c[nH]c3cc(F)ccc13)C2\n",
      "7932 C=C(C)CC(NC(=O)OC(C)(C)C)C(=O)O\n",
      "32772 C=C(CC)C(=O)C(=O)OCC\n",
      "15783 CC(C)(C)OC(=O)Nc1cc(Cl)c(Cl)c(Cl)c1\n",
      "39908 Cn1c(N(Cc2ccc(C(=O)Nc3nnn[nH]3)cc2)C2CCC(C(C)(C)C)CC2)nc2cc(O)ccc21\n",
      "12874 CNC(=O)c1[nH]c2ccc3c(c2c1CCNC(=O)OC(C)(C)C)CCO3\n",
      "21044 CN(C(=O)OCc1ccccc1)[C@@H]1CC[C@H](O)CC1\n",
      "3899 COC(=O)c1ccc(COc2cc(Cl)ccc2-c2nc3cc(F)c(F)cc3n2CC2CCCCC2)cc1\n",
      "19293 OC1(c2ccccn2)CCN(c2ncc(Br)cc2Cl)CC1\n",
      "23147 CCNC(=O)Nc1cn2cc(Oc3cc(C)cc(NC(=O)c4cc(C)nn4C)c3)ccc2n1\n",
      "18306 O=C(NCCc1c[nH]c2ccc(O)cc12)c1cc(OCc2ccccc2)c(OCc2ccccc2)c(OCc2ccccc2)c1\n",
      "5523 O=S(=O)(Nc1ncc(Cl)nc1Cl)c1cccc(Cl)c1Cl\n",
      "3036 Nc1cccc(C(=O)N2CCOCC2)c1\n",
      "18138 CCC(O)c1cc(C(=O)N2CCN(c3cc(OC)cc(OC)c3)CC2)n(-c2ccccc2)n1\n",
      "9662 CC(C)(C)OC(=O)NC1CCCCCC=CC2CC2(C(=O)NS(=O)(=O)C2CC2)NC(=O)C2CC(OC(=O)c3ccc4ccccc4c3)CN2C1=O\n",
      "1278 COC(C)(C)C(NC(=O)OC(C)(C)C)C(=O)N1CCC(N2Cc3cnc(C)n3C2=O)CC1\n",
      "40358 COc1cc2ncnc(N3CCN(C(=O)N(c4ccccc4)c4ccccc4)CC3)c2cc1OC\n",
      "39283 CCOC(=O)c1cccc(Sc2c(C)n(-c3cnn(CCO[Si](C)(C)C(C)(C)C)c3)c3c(F)c(Cl)ccc23)c1\n",
      "34953 O=C(Nc1nc(-c2ccco2)c(N2CCOCC2)s1)c1cccnc1\n",
      "18835 CSc1ncc(-c2ccccc2C)c(C(=O)N(C)Cc2cc(Cl)cc(Cl)c2)n1\n",
      "32171 Cc1ccc(S(=O)(=O)Nc2cccc([N+](=O)[O-])c2N)cc1\n",
      "1332 COc1cccc(CCNC(=O)C(F)(F)F)c1\n",
      "15958 CC(C)n1nc(CNS(C)(=O)=O)c(Cc2ccncc2)c1Sc1cc(Cl)cc(Cl)c1\n",
      "11405 CC1(C)Cc2sc(C(=O)O)cc2C1=O\n",
      "11978 O=C(C1Cc2ccccc2N1c1ncccn1)N1CCCC1\n",
      "34169 N#Cc1ncc(Br)c(N(NC(=O)c2ccc(-c3ccc(CCl)cc3)nc2)C2CCCC2)n1\n",
      "17722 CC[C@H](CO)NCCCS(=O)(=O)N1CCC(Nc2ncc(C(=O)c3cc(F)ccc3OC)c(N)n2)CC1\n",
      "26390 CCOc1ccc(COc2ccc3oc(C(C)=O)cc3c2)cc1\n",
      "3735 Clc1ccc2c(c1)C1(CCNCC1)OC2\n",
      "22085 NC(=O)c1c(-c2ccc(Oc3ccccc3)cc2)nn(-c2cc([N+](=O)[O-])ccc2CO)c1N\n",
      "5742 O=c1c(Cc2cccnc2)cn2c3c(cc(OCc4cccnc4)cc13)Sc1cc(Br)ccc1-2\n",
      "31342 CCOC(=O)N1c2ccc(C(F)(F)F)cc2[C@@H](N(C#N)Cc2cc(C(F)(F)F)cc(C(F)(F)F)c2)C[C@H]1CC\n",
      "43728 Cc1cc(C)c2c(NC=C3C(=O)Nc4ccccc43)n[nH]c2n1\n",
      "3015 C=CCNCC(O)CC=C\n",
      "46228 CCN(CC)CCNC(=O)c1ccc(NC(=O)Nc2cccc(Cl)c2)cc1OC\n",
      "11239 Cc1ccc(C(=O)Nc2ccccc2)cc1\n",
      "40422 Cn1ncc(C(=O)O)c1NC(=O)c1ccc(Br)cc1\n",
      "28053 CC(C)NC(=O)C1CCN(c2nc(-c3ccnc(NC4CCOCC4)c3)cc3cnccc23)CC1\n",
      "16251 CCOC(=O)c1nc(CCOC)sc1Nc1cccnc1\n",
      "12908 Cc1noc(C)c1C(=O)N1CCN(c2c(C(C)N)cc(Cl)c3cccnc23)CC1\n",
      "21006 CCSC1CCSc2c(Cl)cc(C(=O)Oc3ccnn3CC)c(C)c21\n",
      "27517 Cc1cc(C(F)(F)F)c(N)c(Cl)n1\n",
      "33554 Cc1ccc(C=CC(=O)N2C[C@H](CC(C)C)NC(=O)[C@@H]2CC(C)C)cc1\n",
      "45618 COc1cccc(Nc2c(C(N)=O)cnc3c(C)cc(S(=O)(=O)c4cccc(C(=O)Nc5cccc(-c6ccc(CCCC=O)cc6)c5)c4)cc23)c1\n",
      "45784 CCOC(=O)C1(c2ccc(-c3ccc(-c4onc(C)c4NC(=O)OC(C)C4CC4)cc3)cc2)CC1\n",
      "3351 CNC1CN(c2c(F)cc3c(=O)c(C(=O)O)cn(C4CC4)c3c2F)CC1C\n",
      "34928 COCOc1ccc(N2CCCC2=O)cc1Cc1ccccc1\n",
      "26353 COc1ccc2c(c1)C=C(c1ocnc1C(=O)N1CCOCC1)Cn1c-2c(C2CCCCC2)c2ccc(C(=O)NS(=O)(=O)C3CC3)cc21\n",
      "5506 CCOC(=O)Cc1ccc(CCN2CCN(C(=O)C=Cc3cc(C(C)(C)C)c(O)c(C(C)(C)C)c3)CC2)cc1\n",
      "6957 Cn1ncc2cc(COS(C)(=O)=O)ccc21\n",
      "11702 COc1cccc(-c2ccc3c(ccn3Cc3ccc(C(C)(C)C)cc3)c2)c1\n",
      "26012 CCCCCCCCCCCCCCCCCCN1C(=O)CCC1=O\n",
      "3222 CCOc1ccc2ccccc2c1-c1c[nH]c(N)n1\n",
      "40225 CNc1ccc2c(c1)nc(C(F)(F)F)n2CC1CCOCC1\n",
      "9668 COc1ccc(N(Cc2cccnc2)c2ccc(N)c(C(=O)O)c2)cc1OC1CCCC1\n",
      "11587 CCNC(=O)N1CCC(c2cc(-c3ccc4sc(Cc5ccccc5)nc4c3)c3c(N)ncnn23)CC1\n",
      "12274 COc1c(C=O)cc(S(=O)(=O)NC(C)=O)cc1-c1cccc(S(=O)(=O)NC(C)(C)C)c1\n",
      "7269 COc1ccc(F)c(-c2ccc(CO)cc2C2CCCCCC2)c1\n",
      "40861 COc1ccc2c(C(=O)NCc3ccc(F)c(F)c3)c(C(C)C)n(Cc3ccccn3)c2c1\n",
      "20555 Nc1ncc(Cl)cc1F\n",
      "2544 CCCS(=O)(=O)N1CCC(c2ccccn2)(C(C)(C)NC(=O)c2c(F)ccc(F)c2Cl)CC1\n",
      "5923 Nc1nc(-c2ccccc2)cs1\n",
      "39249 O=C1COC[C@H]([C@@H](OC(=O)c2ccc([N+](=O)[O-])cc2)c2ccccc2)N1\n",
      "37649 CC(C)(C)OC(=O)Nc1ccc(CO)cn1\n",
      "32675 COc1cnnc(-c2ccc(F)c(Cl)c2)c1\n",
      "11651 CN1CCC(C(=O)NC2CCN(Cc3ccc4ncn(-c5nc(-c6cccc(Cl)c6)c(C(N)=O)s5)c4c3)CC2)CC1\n",
      "11122 CCOC(=O)c1cn(C2CC2)c2c(F)c(Br)c(F)c(F)c2c1=O\n",
      "39599 CC(C)(C)OC(=O)c1c(N)sc2c1CC(C(=O)O)OC2\n",
      "32667 O=C(O)c1cccn2cc(-c3ccc(C(F)F)cc3)nc12\n",
      "13050 CC(=O)c1cnc2ccc(-c3cc(F)c(O)c(Cl)c3)cc2c1Nc1ccc(N2CCN(C)CC2)nc1\n",
      "39795 CCN(CC)CCOc1cc(Cl)cc(N2CCNCC2)c1\n",
      "20573 CS(=O)(=O)OCCCc1ccc(SCc2coc(/C=C/c3ccccc3)n2)cc1\n",
      "4706 COC(=O)Cc1cccc(OCC(C)NCC(O)c2cccc(Cl)c2)c1\n",
      "25073 CNc1cccc(NC(=O)COC(C)=O)c1C#N\n",
      "25095 O=S(=O)([O-])CCCOc1cc(Cl)ccc1Cl\n",
      "30150 Nc1ccc2sc(-c3cccnc3)nc2c1\n",
      "12805 C#CCOc1ccc(C(=O)NC(C)(C#N)C(C)C)cc1F\n",
      "35723 COc1ccc2ncc(=O)n(CCCCO)c2n1\n",
      "40782 Nc1ccc(N2CCOCC2)nc1NCc1cccc2ccccc12\n",
      "17437 Nc1onc(-c2ccccc2Cl)c1C(=O)N1CCN(c2cccc(C(F)(F)F)c2)CC1\n",
      "34378 COC(=O)c1ccc(Nc2ccc(C)nc2)nc1\n",
      "15213 O=C(O)C(Cc1cccc(C(F)(F)F)c1)c1ccc(C(F)(F)F)cc1\n",
      "42481 CCCS(=O)(=O)c1cccc(C#Cc2cc(-c3c(C)nn(C)c3C)ccc2OCC(=O)OC(C)(C)C)c1\n",
      "21013 CCNc1ccc2c(c1)C(C)(C)CCC2(C)C\n",
      "39371 Nc1nc2ccccc2c2c1ncn2CCCCNC(=O)c1ccncc1\n",
      "3389 CN1Cc2cc(-c3ccc(-c4ccnc(N)c4)s3)ccc2C1=O\n",
      "25457 CN1CCN(Cc2cccc([N+](=O)[O-])c2)CC1\n",
      "4975 NC(=O)c1cnc(C2CCC3(CC2)OCCO3)s1\n",
      "34787 CN1CCN(c2ccc(C(=O)Nc3n[nH]c4ncc(Sc5cc(F)cc(F)c5)cc34)c(N(C(=O)C(F)(F)F)C3CCOCC3)c2)CC1\n",
      "9544 Cc1csc(N2C(=O)C(Cc3ccccc3)NC2=S)n1\n",
      "16848 CC(C)(C)[Si](C)(C)Oc1ccccc1-c1cc(-c2cccc(N)c2)c(C#N)c(N)n1\n",
      "34735 COc1ccc2nc(Sc3ccc(NC(=S)Nc4ccc(Cl)c(C(F)(F)F)c4)cc3)ccc2c1\n",
      "31143 CC(C)c1csc(CO)n1\n",
      "18031 COc1ccc(-n2nc(C(=O)N3CCOCC3)cc2-n2ccc(CO)c2)cn1\n",
      "22662 Cc1ccc(C(=O)NC2CC2)cc1-c1ccc2c(NC3CCCCC3)nncc2c1\n",
      "34807 Cc1cccc(NC(=O)NCC(=O)N(CC(=O)OC(C)(C)C)c2cccc(Cl)c2Cl)c1\n",
      "11819 CS(=O)(=O)Nc1ccccc1CCN\n",
      "34533 CCOc1ccc(CC(C(=O)OC)C(=O)OC)cc1COC(=O)Nc1ccc(Cl)cc1Cl\n",
      "13436 Cc1nc(C(=O)NCC(=O)O)c(O)c2sc(-c3ccccc3)nc12\n",
      "31597 CCCC(O)(CNC(=O)c1nccc(Sc2cnc(Nc3ccc(CNC(=O)OC(C)(C)C)cn3)s2)c1F)c1ccccc1\n"
     ]
    },
    {
     "name": "stdout",
     "output_type": "stream",
     "text": [
      "42823 CC(C)C[C@@H](C(=O)O)N(C)C(=O)CC1(c2ccccc2)C(=O)Oc2ccc(Cl)cc21\n",
      "41231 C[C@H](NC[C@@H](O)[C@H](Cc1ccccc1)NC(=O)c1cc(N)cc(N2CCCC2=O)c1)C(=O)NC1CCCCC1\n",
      "12142 CS(=O)c1cc(N2CCC3(CC2)OCCO3)nc2sc(C(N)=O)c(N)c12\n",
      "39303 CN1C(=O)NC(=O)C1=Cc1cnn2ccc(Nc3cccc(Cl)c3)nc12\n",
      "47643 Nc1ccc2c(c1)CC(=O)c1ccccc1S2\n",
      "1627 CCc1cnc(NCCc2ccc(OC)c(Br)c2)nc1\n",
      "32311 CCCC(C(=O)O)c1c(C)nc2cc(C(C)(C)C)nn2c1-c1ccc(Cl)cc1OC\n",
      "23948 O=CNc1nc(Cl)cc(Cl)n1\n",
      "47690 CC(C)(C)OC(=O)[C@@H]1C[C@H](COc2cccc(Cl)c2)CN1C(=O)OC(C)(C)C\n",
      "7576 N#Cc1cc(-c2cc(C(=O)O)sc2-c2cc(F)cc(Cl)c2)ccc1F\n",
      "16456 CCOC(=O)c1cccc(-c2cc3cc(OC)ccc3s2)c1\n",
      "32271 c1ccc(CN(Cc2ccccc2)CC2CO2)cc1\n",
      "6141 Nc1nc2cc(OS(=O)(=O)c3c(Cl)cccc3Cl)ccc2[nH]1\n",
      "45643 CSc1ncc2cc(-c3ccccc3C)c(=O)n([C@H]3CCNC3)c2n1\n",
      "12926 O=[N+]([O-])c1ccc2c(c1)C(c1cccc[n+]1[O-])=CC(C(F)(F)F)(C(F)(F)F)O2\n",
      "43256 COCOc1cc(COCc2ccccc2)c(C=O)c(OCOC)c1\n",
      "32028 CC[C@H](C)Nc1cc(C(=O)OC)cc(S(=O)(=O)C(C)C)n1\n",
      "11229 CC(C)(C)OC(=O)N1CC(C(=O)N2CCC(C#N)(Cc3ccc(F)nc3)CC2)Oc2cc(O)c(Cl)cc21\n",
      "5134 O=C(c1cnc2ccc(-c3cc(Cl)c(O)c(Cl)c3)cc2c1Nc1cccc(CCN2CCCC2)c1)C1CC1\n",
      "9895 OCc1ccc2cc[nH]c2c1\n",
      "27878 CCN(CC)C(=O)N[C@H]1C[C@@H]2c3cc([N+](=O)[O-])cc4c3c(cn4C(C)=O)C[C@H]2N(C)C1\n",
      "23702 O=C1NCCc2cc(-c3ccc(F)cc3)sc21\n",
      "33771 Cc1cc(/C=C/CC[C@@H](NC(=O)OCc2ccccc2)c2cc(C(F)(F)F)ccc2Br)cc(C(F)(F)F)c1\n",
      "13104 Cc1sc(N2CCN(C(=O)OC(C)(C)C)[C@@H](CC(C)C)C2)nc1C(=O)c1cccnc1F\n",
      "18884 CCCCCCCCCCO\n",
      "18641 CC1(C)CCCC(N2CCN(C3CCC(C(C)(C)C)CC3)CC2)C1\n",
      "20755 Cc1c(N2C(=O)N3CCC(=NO)[C@H]3[C@H]2C(F)(F)F)ccc(C#N)c1Cl\n",
      "2586 CCC[C@@H](C)COS(C)(=O)=O\n",
      "35500 NCc1cc2ccc(OCC3CC3)cc2[nH]1\n",
      "35799 CCC(=O)Oc1ccc(C[C@H]([NH3+])C(N)=O)cc1OC(=O)CC\n",
      "21782 ON=Cc1ccccc1\n",
      "19834 Clc1ccc2[nH]c(C3CN(c4cc(C5CCOCC5)ncn4)C3)nc2c1\n",
      "12327 N#CCC1COc2ccc(S)cc2C1\n",
      "40794 CCOC(=O)CCc1cc(OCc2cccc(OCc3nc(-c4ccccc4)oc3C)c2)nn1-c1ccccc1\n",
      "17663 CC[C@H](NC(=O)OC(C)(C)C)c1ccnc(C(N)=O)c1\n",
      "8374 CC(C)c1ccnc(NC(=S)NCCC2=CCCCC2)c1\n",
      "2270 CC(=Nc1ccccc1)NS(=O)(=O)c1cc(I)cc(C#N)c1\n",
      "9276 CCCC[Sn](CCCC)(CCCC)c1coc2ccccc12\n",
      "17153 CC(C)(C)c1cc(NC(=O)Cc2ccc(OCc3ccccc3)cc2)on1\n",
      "15569 O=[N+]([O-])c1cccc(/C=C/c2cncc(Cl)c2)c1\n",
      "9966 CCOC(=O)CCNc1ccc2c(c1)CCC2\n",
      "23897 CC(C)(C)OC(=O)N1CCC(=NO)C1\n",
      "12649 COC(=O)[C@@H]1CNCCN1C(=O)c1cc2ccccc2cc1NC(=O)Nc1c(C)cc(C)cc1C\n",
      "40247 CC(C)(C)OC(=O)N1CCc2cc([N+](=O)[O-])c(F)cc2C1\n",
      "36804 Cc1cccc2nc(SCc3ccc(C(=O)c4ccc(OCCCN(C)C)cc4)cc3)n(C)c(=O)c12\n",
      "3227 Oc1ccc(Cc2cc(Br)ccc2Cl)cc1\n"
     ]
    }
   ],
   "source": [
    "# finding the most similar molecule in dataset\n",
    "import math\n",
    "from tqdm import tqdm\n",
    "\n",
    "Tam_Sims = {}\n",
    "rdkit_MCS_Sims = {}\n",
    "fast_MCS_Sims = {}\n",
    "hybrid_Sims = {}\n",
    "\n",
    "for i in idxs:\n",
    "    smi1 = all_smiles[i]\n",
    "    mol1 = Chem.MolFromSmiles(smi1)\n",
    "    print (i, smi1)\n",
    "    recorder1 = sim_recorder(smi1)\n",
    "    recorder2 = sim_recorder(smi1)\n",
    "    recorder3 = sim_recorder(smi1)\n",
    "    recorder4 = sim_recorder(smi1)\n",
    "    mutations = eval(all_mutations[i])\n",
    "    for smi2 in mutations:\n",
    "        mol2 = Chem.MolFromSmiles(smi2)\n",
    "        t1, sim1 = Tam_Sim(mol1, mol2)\n",
    "        t2, sim2 = rdkit_MCS_Sim(mol1, mol2)\n",
    "        t3, sim3 = fast_MCS_Sim(mol1, mol2)\n",
    "        t4 = t1+t3\n",
    "        sim4 = math.sqrt(sim1*sim3) # hybrid similarity\n",
    "        recorder1.record(t1, sim1)\n",
    "        recorder2.record(t2, sim2)\n",
    "        recorder3.record(t3, sim3)\n",
    "        recorder4.record(t4, sim4)\n",
    "    Tam_Sims[i] = recorder1.summerize(mutations)\n",
    "    rdkit_MCS_Sims[i] = recorder2.summerize(mutations)\n",
    "    fast_MCS_Sims[i] = recorder3.summerize(mutations)\n",
    "    hybrid_Sims[i] = recorder4.summerize(mutations)"
   ]
  },
  {
   "cell_type": "code",
   "execution_count": null,
   "id": "cd93b315",
   "metadata": {},
   "outputs": [],
   "source": [
    "import numpy as np\n",
    "\n",
    "# Tam_Sims, rdkit_MCS_Sims, fast_MCS_Sims, hybrid_Sims\n",
    "\n",
    "def get_average_time(d):\n",
    "    return np.mean([v[0] for v in d.values()])\n",
    "\n",
    "get_average_time(rdkit_MCS_Sims), get_average_time(fast_MCS_Sims)"
   ]
  },
  {
   "cell_type": "code",
   "execution_count": 10,
   "id": "60512604",
   "metadata": {},
   "outputs": [
    {
     "data": {
      "text/plain": [
       "199"
      ]
     },
     "execution_count": 10,
     "metadata": {},
     "output_type": "execute_result"
    }
   ],
   "source": [
    "len(fast_MCS_Sims)"
   ]
  },
  {
   "cell_type": "code",
   "execution_count": 5,
   "id": "1f3ebf34",
   "metadata": {},
   "outputs": [],
   "source": [
    "smiles_list = [all_smiles[i] for i in idxs]"
   ]
  },
  {
   "cell_type": "code",
   "execution_count": 11,
   "id": "138fb320",
   "metadata": {},
   "outputs": [
    {
     "name": "stdout",
     "output_type": "stream",
     "text": [
      "Tam\n",
      "fast_MCS\n",
      "rdkit_MCS\n",
      "hybrid\n"
     ]
    }
   ],
   "source": [
    "output_dict = {'Tam': Tam_Sims, 'fast_MCS': fast_MCS_Sims, 'rdkit_MCS':rdkit_MCS_Sims, 'hybrid': hybrid_Sims}\n",
    "for k, v in output_dict.items():\n",
    "    print (k)\n",
    "    df = pd.DataFrame.from_dict(v, orient = 'index')\n",
    "    df.columns = ['time', 'similar_mols']\n",
    "    df['smiles'] = [all_smiles[i] for i in v.keys()]\n",
    "    df.to_csv('outputs/%s_Mutations2.csv' % k)"
   ]
  },
  {
   "cell_type": "code",
   "execution_count": null,
   "id": "a7ebddac",
   "metadata": {},
   "outputs": [],
   "source": [
    "df = pd.DataFrame.from_dict(hybrid_Sims, orient = 'index')\n",
    "df.columns = ['time', 'similar_mols']\n",
    "df['smiles'] = smiles_list\n",
    "# df['time'] = [tt in enumerate(df['time'])]\n",
    "df.to_csv('hybrid_Mutations.csv')\n",
    "df"
   ]
  },
  {
   "cell_type": "code",
   "execution_count": 84,
   "id": "7b315bf2",
   "metadata": {},
   "outputs": [
    {
     "name": "stdout",
     "output_type": "stream",
     "text": [
      "Cc1ccc(CCC(=O)N2C[C@H](C)N(Cc3ccc(F)cc3)C[C@H]2C)c(OCC(=O)O)c1\n",
      "[5, 0, 9, 2, 3, 16, 17, 20, 21, 33, 25, 6, 8, 31, 32, 13, 18, 12, 24, 14, 11, 23, 10, 22, 1, 19, 7, 4, 15]\n",
      "{0, 1, 2, 3, 4, 5, 6, 7, 8, 9, 10, 11, 12, 13, 14, 15, 16, 17, 18, 19, 20, 21, 22, 23, 24, 25, 26, 28, 29, 30, 31}\n",
      "{0, 1, 2, 3, 4, 5, 6, 7, 8, 9, 10, 11, 12, 13, 14, 15, 16, 17, 18, 19, 20, 21, 22, 23, 24, 25, 26, 27, 28, 29, 30, 31}\n",
      "{0, 1, 2, 3, 4, 5, 6, 7, 8, 9, 10, 11, 12, 13, 14, 15, 16, 17, 18, 19, 20, 21, 22, 23, 24, 25, 26, 30, 31, 32, 33}\n",
      "{0, 1, 2, 3, 4, 5, 6, 7, 8, 9, 10, 11, 12, 13, 14, 15, 16, 17, 18, 19, 20, 21, 22, 23, 24, 25, 26, 27, 30, 31, 32, 33}\n",
      "[[0, 1, 2, 3, 4, 5, 6, 7, 8, 9, 10, 11, 12, 13, 14, 15, 16, 17, 18, 19, 20, 21, 22, 23, 24, 25, 26, 27, 28, 29, 30, 31]] [[0, 1, 2, 3, 4, 5, 6, 7, 8, 9, 10, 11, 12, 13, 14, 15, 16, 17, 18, 19, 20, 21, 22, 23, 24, 25, 26, 27, 30, 31, 32, 33]]\n",
      "32 32\n",
      "[#6&!R]-&!@[#6&R]1:&@[#6&R]:&@[#6&R]:&@[#6&R](:&@[#6&R](:&@[#6&R]:&@1)-&!@[#8&!R]-&!@[#6&!R]-&!@[#6&!R](=&!@[#8&!R])-&!@[#8&!R])-&!@[#6&!R]-&!@[#6&!R]-&!@[#6&!R](=&!@[#8&!R])-&!@[#7&R]1-&@[#6&R]-&@[#6&R](-&!@[#6&!R])-&@[#7&R](-&@[#6&R]-&@[#6&R]-&@1-&!@[#6&!R])-&!@[#6&!R]-&!@[#6&R]1:&@[#6&R]:&@[#6&R]:&@[#6&R](:&@[#6&R]:&@[#6&R]:&@1)-&!@[#9&!R]\n",
      "Cc1ccc(CCC(=O)N2C[C@H](C)N(Cc3ccc(F)cc3)C[C@H]2C)c(OC(C)(C)C(=O)O)c1 32 32\n"
     ]
    }
   ],
   "source": [
    "def search_frags_with_atoms2(mol, atoms_to_use):\n",
    "    if len(atoms_to_use) == 0:\n",
    "        return [[]]\n",
    "    graph = {atom.GetIdx(): [n.GetIdx() for n in atom.GetNeighbors()] for atom in mol.GetAtoms()}\n",
    "    expanded_atoms_to_use1 = set(atoms_to_use)\n",
    "    [expanded_atoms_to_use1.update(graph[idx]) for idx in atoms_to_use]\n",
    "    expanded_atoms_to_use2 = expanded_atoms_to_use1.copy()\n",
    "    [expanded_atoms_to_use2.update(graph[idx]) for idx in expanded_atoms_to_use1]\n",
    "    subgraphs = search_subgraphs(graph, expanded_atoms_to_use2)\n",
    "    return subgraphs\n",
    "\n",
    "def fast_MCS_Sim2(mol1, mol2, radius = 1, print_frag = False):\n",
    "    info1, info2 = {}, {}\n",
    "    fp1 = AllChem.GetMorganFingerprint(mol1, radius, bitInfo=info1)\n",
    "    fp2 = AllChem.GetMorganFingerprint(mol2, radius, bitInfo=info2)\n",
    "    common_atoms1, common_atoms2 = [], []\n",
    "    for fp, irs in info1.items():\n",
    "        if fp in info2 and irs[0][1] == radius:\n",
    "            common_atoms1 += [ir[0] for ir in irs]\n",
    "            common_atoms2 += [ir[0] for ir in info2[fp]]\n",
    "    print (common_atoms2) \n",
    "    frags1, frags2 = search_frags_with_atoms2(mol1, common_atoms1), search_frags_with_atoms2(mol2, common_atoms2)\n",
    "    print (frags1, frags2)\n",
    "    if print_frag: print (frags1, frags2)\n",
    "    max_frag1, max_frag2 = max([len(frag) for frag in frags1]), max([len(frag) for frag in frags2])\n",
    "    print (max_frag1, max_frag2)\n",
    "    return min([max_frag1, max_frag2])\n",
    "\n",
    "def rdkit_MCS_Sim2(mol1, mol2):\n",
    "    res = rdFMCS.FindMCS([mol1, mol2], ringMatchesRingOnly=True,completeRingsOnly=True)\n",
    "    print (res.smartsString)\n",
    "    return res.numAtoms\n",
    "\n",
    "i = 40\n",
    "i = idxs[i]\n",
    "smi1 = all_smiles[i]\n",
    "print (smi1)\n",
    "mol1 = Chem.MolFromSmiles(smi1)\n",
    "mutations = eval(all_mutations[i])\n",
    "smi2 = mutations[3]\n",
    "mol2 = Chem.MolFromSmiles(smi2)    \n",
    "print (smi2, fast_MCS_Sim2(mol1, mol2), rdkit_MCS_Sim2(mol1, mol2))"
   ]
  },
  {
   "cell_type": "code",
   "execution_count": 74,
   "id": "eeeb4d64",
   "metadata": {},
   "outputs": [
    {
     "data": {
      "image/png": "[encoded data removed]",
      "text/plain": [
       "<rdkit.Chem.rdchem.Mol at 0x1a5d5086dc0>"
      ]
     },
     "execution_count": 74,
     "metadata": {},
     "output_type": "execute_result"
    }
   ],
   "source": [
    "Chem.MolFromSmarts('[#6&!R]-&!@[#6&R]1:&@[#6&R]:&@[#6&R]:&@[#6&R](:&@[#6&R](:&@[#6&R]:&@1)-&!@[#8&!R]-&!@[#6&!R]-&!@[#6&!R](=&!@[#8&!R])-&!@[#8&!R])-&!@[#6&!R]-&!@[#6&!R]-&!@[#6&!R](=&!@[#8&!R])-&!@[#7&R]1-&@[#6&R]-&@[#6&R](-&!@[#6&!R])-&@[#7&R](-&@[#6&R]-&@[#6&R]-&@1-&!@[#6&!R])-&!@[#6&!R]-&!@[#6&R]1:&@[#6&R]:&@[#6&R]:&@[#6&R](:&@[#6&R]:&@[#6&R]:&@1)-&!@[#9&!R]')"
   ]
  },
  {
   "cell_type": "code",
   "execution_count": 75,
   "id": "6a50a457",
   "metadata": {},
   "outputs": [
    {
     "data": {
      "image/png": "[encoded data removed]",
      "text/plain": [
       "<rdkit.Chem.rdchem.Mol at 0x1a5d4f72c40>"
      ]
     },
     "execution_count": 75,
     "metadata": {},
     "output_type": "execute_result"
    }
   ],
   "source": [
    "Chem.MolFromSmiles(smi1)"
   ]
  },
  {
   "cell_type": "code",
   "execution_count": 82,
   "id": "7dabe19d",
   "metadata": {},
   "outputs": [
    {
     "data": {
      "image/png": "[encoded data removed]",
      "text/plain": [
       "<rdkit.Chem.rdchem.Mol at 0x1a5d5086d00>"
      ]
     },
     "execution_count": 82,
     "metadata": {},
     "output_type": "execute_result"
    }
   ],
   "source": [
    "m = Chem.MolFromSmiles(smi2)\n",
    "[atom.SetAtomMapNum(atom.GetIdx()) for atom in m.GetAtoms()]\n",
    "m"
   ]
  },
  {
   "cell_type": "code",
   "execution_count": null,
   "id": "5b099e4a",
   "metadata": {},
   "outputs": [],
   "source": []
  },
  {
   "cell_type": "code",
   "execution_count": null,
   "id": "8d38b429",
   "metadata": {},
   "outputs": [],
   "source": []
  }
 ],
 "metadata": {
  "kernelspec": {
   "display_name": "Python 3 (ipykernel)",
   "language": "python",
   "name": "python3"
  },
  "language_info": {
   "codemirror_mode": {
    "name": "ipython",
    "version": 3
   },
   "file_extension": ".py",
   "mimetype": "text/x-python",
   "name": "python",
   "nbconvert_exporter": "python",
   "pygments_lexer": "ipython3",
   "version": "3.9.7"
  }
 },
 "nbformat": 4,
 "nbformat_minor": 5
}
