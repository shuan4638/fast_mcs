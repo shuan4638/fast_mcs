{
 "cells": [
  {
   "cell_type": "code",
   "execution_count": 1,
   "id": "21ad1659",
   "metadata": {},
   "outputs": [],
   "source": [
    "from MCS_similarity import *\n",
    "import pandas as pd\n",
    "\n",
    "df = pd.read_csv('USPTO_mutations.csv')\n",
    "all_smiles = df['molecule'].tolist()\n",
    "all_mutations = df['mutations'].tolist()"
   ]
  },
  {
   "cell_type": "code",
   "execution_count": 2,
   "id": "23d32901",
   "metadata": {},
   "outputs": [
    {
     "ename": "TypeError",
     "evalue": "list.append() takes exactly one argument (2 given)",
     "output_type": "error",
     "traceback": [
      "\u001b[1;31m---------------------------------------------------------------------------\u001b[0m",
      "\u001b[1;31mTypeError\u001b[0m                                 Traceback (most recent call last)",
      "Input \u001b[1;32mIn [2]\u001b[0m, in \u001b[0;36m<module>\u001b[1;34m\u001b[0m\n\u001b[0;32m     11\u001b[0m t1, MCS1 \u001b[38;5;241m=\u001b[39m rdkit_MCS(mol1, mol2)\n\u001b[0;32m     12\u001b[0m t2, MCS2 \u001b[38;5;241m=\u001b[39m fast_MCS(mol1, mol2)\n\u001b[1;32m---> 13\u001b[0m \u001b[43mcomp\u001b[49m\u001b[38;5;241;43m.\u001b[39;49m\u001b[43mappend\u001b[49m\u001b[43m(\u001b[49m\u001b[43m(\u001b[49m\u001b[43mt1\u001b[49m\u001b[38;5;241;43m-\u001b[39;49m\u001b[43mt2\u001b[49m\u001b[43m)\u001b[49m\u001b[43m,\u001b[49m\u001b[43m \u001b[49m\u001b[43m(\u001b[49m\u001b[43mMCS1\u001b[49m\u001b[38;5;241;43m==\u001b[39;49m\u001b[43mMCS2\u001b[49m\u001b[43m)\u001b[49m\u001b[43m)\u001b[49m\n",
      "\u001b[1;31mTypeError\u001b[0m: list.append() takes exactly one argument (2 given)"
     ]
    }
   ],
   "source": [
    "idxs = np.random.choice(len(df), 200)\n",
    "\n",
    "comps = {}\n",
    "for i in idxs:\n",
    "    smi1 = all_smiles[i]\n",
    "    mol1 = Chem.MolFromSmiles(smi1)\n",
    "    mutations = eval(all_mutations[i])\n",
    "    comp = []\n",
    "    for smi2 in mutations:\n",
    "        mol2 = Chem.MolFromSmiles(smi2)\n",
    "        t1, MCS1 = rdkit_MCS(mol1, mol2)\n",
    "        t2, MCS2 = fast_MCS(mol1, mol2)\n",
    "        comp.append((t1-t2), (MCS1.smartsString==MCS2.smartsString))"
   ]
  },
  {
   "cell_type": "code",
   "execution_count": 5,
   "id": "c8303758",
   "metadata": {},
   "outputs": [
    {
     "data": {
      "text/plain": [
       "'[#6&!R]-&!@[#6&R]1:&@[#6&R]:&@[#6&R]:&@[#6&R]2:&@[#6&R](:&@[#7&R]:&@1):&@[#7&R]:&@[#6&R]:&@[#6&R]:&@2-&!@[#6&!R]=&!@[#6&R]1-&@[#8&R]-&@[#6&R]2:&@[#6&R](-&@[#6&R]-&@1=&!@[#8&!R]):&@[#6&R]:&@[#6&R]:&@[#6&R](:&@[#6&R]:&@2-&!@[#6&!R])-&!@[#8&!R]'"
      ]
     },
     "execution_count": 5,
     "metadata": {},
     "output_type": "execute_result"
    }
   ],
   "source": [
    "MCS1.smartsString"
   ]
  },
  {
   "cell_type": "code",
   "execution_count": 6,
   "id": "123f9747",
   "metadata": {},
   "outputs": [
    {
     "data": {
      "text/plain": [
       "'[#6&!R]-&!@[#6&!R]1:&!@[#6&!R]:&!@[#6&!R]:&!@[#6&!R]:&!@[#6&!R](:&!@[#6&!R]:&!@[#7&!R]:&!@[#6&!R]:&!@[#7&!R]:&!@1)-&!@[#6&!R]=&!@[#6&!R]-&!@[#8&!R]-&!@[#6&!R]:&!@[#6&!R]:&!@[#6&!R]:&!@[#6&!R]:&!@[#6&!R](-&!@[#8&!R]):&!@[#6&!R]-&!@[#6&!R]'"
      ]
     },
     "execution_count": 6,
     "metadata": {},
     "output_type": "execute_result"
    }
   ],
   "source": [
    "MCS2.smartsString"
   ]
  },
  {
   "cell_type": "code",
   "execution_count": null,
   "id": "e7c4cc6c",
   "metadata": {},
   "outputs": [
    {
     "name": "stdout",
     "output_type": "stream",
     "text": [
      "732 C[SiH](C)Oc1c(C(=O)c2cn(C(c3ccccc3)(c3ccccc3)c3ccccc3)cn2)ccc2cc(C(C)(C)C)ccc12\n"
     ]
    }
   ],
   "source": [
    "# finding the most similar molecule in dataset\n",
    "import math\n",
    "from tqdm import tqdm\n",
    "\n",
    "Tam_Sims = {}\n",
    "rdkit_MCS_Sims = {}\n",
    "fast_MCS_Sims = {}\n",
    "hybrid_Sims = {}\n",
    "\n",
    "for i in idxs:\n",
    "    smi1 = all_smiles[i]\n",
    "    mol1 = Chem.MolFromSmiles(smi1)\n",
    "    print (i, smi1)\n",
    "    recorder1 = sim_recorder(smi1)\n",
    "    recorder2 = sim_recorder(smi1)\n",
    "    recorder3 = sim_recorder(smi1)\n",
    "    recorder4 = sim_recorder(smi1)\n",
    "    mutations = eval(all_mutations[i])\n",
    "    for smi2 in mutations:\n",
    "        mol2 = Chem.MolFromSmiles(smi2)\n",
    "        t1, sim1 = Tam_Sim(mol1, mol2)\n",
    "        t2, sim2 = rdkit_MCS_Sim(mol1, mol2)\n",
    "        t3, sim3 = fast_MCS_Sim(mol1, mol2)\n",
    "        t4 = t1+t3\n",
    "        sim4 = math.sqrt(sim1*sim3) # hybrid similarity\n",
    "        recorder1.record(t1, sim1)\n",
    "        recorder2.record(t2, sim2)\n",
    "        recorder3.record(t3, sim3)\n",
    "        recorder4.record(t4, sim4)\n",
    "    Tam_Sims[i] = recorder1.summerize(mutations)\n",
    "    rdkit_MCS_Sims[i] = recorder2.summerize(mutations)\n",
    "    fast_MCS_Sims[i] = recorder3.summerize(mutations)\n",
    "    hybrid_Sims[i] = recorder4.summerize(mutations)"
   ]
  },
  {
   "cell_type": "code",
   "execution_count": 4,
   "id": "cd93b315",
   "metadata": {},
   "outputs": [
    {
     "data": {
      "text/plain": [
       "(0.0002039817112299545, 0.0002039817112299545)"
      ]
     },
     "execution_count": 4,
     "metadata": {},
     "output_type": "execute_result"
    }
   ],
   "source": [
    "import numpy as np\n",
    "\n",
    "# Tam_Sims, rdkit_MCS_Sims, fast_MCS_Sims, hybrid_Sims\n",
    "\n",
    "def get_average_time(d):\n",
    "    return np.mean([v[0] for v in d.values()])\n",
    "\n",
    "get_average_time(rdkit_MCS_Sims), get_average_time(fast_MCS_Sims)"
   ]
  },
  {
   "cell_type": "code",
   "execution_count": 5,
   "id": "1f3ebf34",
   "metadata": {},
   "outputs": [],
   "source": [
    "smiles_list = [all_smiles[i] for i in idxs]"
   ]
  },
  {
   "cell_type": "code",
   "execution_count": 6,
   "id": "a7ebddac",
   "metadata": {},
   "outputs": [
    {
     "data": {
      "text/html": [
       "<div>\n",
       "<style scoped>\n",
       "    .dataframe tbody tr th:only-of-type {\n",
       "        vertical-align: middle;\n",
       "    }\n",
       "\n",
       "    .dataframe tbody tr th {\n",
       "        vertical-align: top;\n",
       "    }\n",
       "\n",
       "    .dataframe thead th {\n",
       "        text-align: right;\n",
       "    }\n",
       "</style>\n",
       "<table border=\"1\" class=\"dataframe\">\n",
       "  <thead>\n",
       "    <tr style=\"text-align: right;\">\n",
       "      <th></th>\n",
       "      <th>time</th>\n",
       "      <th>similar_mols</th>\n",
       "      <th>smiles</th>\n",
       "    </tr>\n",
       "  </thead>\n",
       "  <tbody>\n",
       "    <tr>\n",
       "      <th>732</th>\n",
       "      <td>0.000323</td>\n",
       "      <td>[(C=CCOc1ccc2c(O[SiH](C)C)c(C(=O)c3cn(C(c4cccc...</td>\n",
       "      <td>C[SiH](C)Oc1c(C(=O)c2cn(C(c3ccccc3)(c3ccccc3)c...</td>\n",
       "    </tr>\n",
       "    <tr>\n",
       "      <th>773</th>\n",
       "      <td>0.000335</td>\n",
       "      <td>[(C[C@H]1COCCN1c1cc(C2(S(=O)(=O)c3cccnc3C(=O)N...</td>\n",
       "      <td>C[C@H]1COCCN1c1cc(C2(S(=O)(=O)c3cccnc3C(=O)N(C...</td>\n",
       "    </tr>\n",
       "    <tr>\n",
       "      <th>800</th>\n",
       "      <td>0.000187</td>\n",
       "      <td>[(CC1(COCc2coc(-c3ccc(F)cc3)n2)COCOC1, 0.93333...</td>\n",
       "      <td>OCC1(COCc2coc(-c3ccc(F)cc3)n2)COCOC1</td>\n",
       "    </tr>\n",
       "    <tr>\n",
       "      <th>881</th>\n",
       "      <td>0.000193</td>\n",
       "      <td>[(O=C(c1ccc2c(CO)cnc(-c3c(F)cc(F)cc3F)c2c1)C1C...</td>\n",
       "      <td>COC(=O)c1ccc2c(CO)cnc(-c3c(F)cc(F)cc3F)c2c1</td>\n",
       "    </tr>\n",
       "    <tr>\n",
       "      <th>1705</th>\n",
       "      <td>0.000170</td>\n",
       "      <td>[(C=COC(=O)C1CCCn2c(C(=O)c3ccccc3)ccc21, 0.930...</td>\n",
       "      <td>COC(=O)C1CCCn2c(C(=O)c3ccccc3)ccc21</td>\n",
       "    </tr>\n",
       "    <tr>\n",
       "      <th>...</th>\n",
       "      <td>...</td>\n",
       "      <td>...</td>\n",
       "      <td>...</td>\n",
       "    </tr>\n",
       "    <tr>\n",
       "      <th>45707</th>\n",
       "      <td>0.000224</td>\n",
       "      <td>[(C=CCCOC(=O)C1CN(CCCN2c3ccccc3CCc3ccccc32)CCN...</td>\n",
       "      <td>CCOC(=O)C1CN(CCCN2c3ccccc3CCc3ccccc32)CCN1</td>\n",
       "    </tr>\n",
       "    <tr>\n",
       "      <th>45949</th>\n",
       "      <td>0.000146</td>\n",
       "      <td>[(CCCCOc1cc(/C=C/C(=O)O)ccc1I, 0.9142857142857...</td>\n",
       "      <td>CCCCOc1cc(/C=C/C(=O)OC)ccc1I</td>\n",
       "    </tr>\n",
       "    <tr>\n",
       "      <th>46045</th>\n",
       "      <td>0.000242</td>\n",
       "      <td>[(COC(=O)c1cc2cc(OCCN3CCOCC3)ccc2n1S(=O)(=O)c1...</td>\n",
       "      <td>COC(=O)c1cc2cc(OCc3ccccc3)ccc2n1S(=O)(=O)c1ccc...</td>\n",
       "    </tr>\n",
       "    <tr>\n",
       "      <th>47013</th>\n",
       "      <td>0.000142</td>\n",
       "      <td>[(C=CCc1ccc(N(C)C(=O)[C@H]2CCCNC2)cc1, 0.88888...</td>\n",
       "      <td>CN(C(=O)[C@H]1CCCNC1)c1ccc(F)cc1</td>\n",
       "    </tr>\n",
       "    <tr>\n",
       "      <th>47366</th>\n",
       "      <td>0.000216</td>\n",
       "      <td>[(Cc1ccc(Oc2cncc(-c3cc(CCCOc4ccccc4)no3)c2)cn1...</td>\n",
       "      <td>CN1CCC[C@H]1COc1cncc(-c2cc(CCCOc3ccccc3)no2)c1</td>\n",
       "    </tr>\n",
       "  </tbody>\n",
       "</table>\n",
       "<p>187 rows × 3 columns</p>\n",
       "</div>"
      ],
      "text/plain": [
       "           time                                       similar_mols  \\\n",
       "732    0.000323  [(C=CCOc1ccc2c(O[SiH](C)C)c(C(=O)c3cn(C(c4cccc...   \n",
       "773    0.000335  [(C[C@H]1COCCN1c1cc(C2(S(=O)(=O)c3cccnc3C(=O)N...   \n",
       "800    0.000187  [(CC1(COCc2coc(-c3ccc(F)cc3)n2)COCOC1, 0.93333...   \n",
       "881    0.000193  [(O=C(c1ccc2c(CO)cnc(-c3c(F)cc(F)cc3F)c2c1)C1C...   \n",
       "1705   0.000170  [(C=COC(=O)C1CCCn2c(C(=O)c3ccccc3)ccc21, 0.930...   \n",
       "...         ...                                                ...   \n",
       "45707  0.000224  [(C=CCCOC(=O)C1CN(CCCN2c3ccccc3CCc3ccccc32)CCN...   \n",
       "45949  0.000146  [(CCCCOc1cc(/C=C/C(=O)O)ccc1I, 0.9142857142857...   \n",
       "46045  0.000242  [(COC(=O)c1cc2cc(OCCN3CCOCC3)ccc2n1S(=O)(=O)c1...   \n",
       "47013  0.000142  [(C=CCc1ccc(N(C)C(=O)[C@H]2CCCNC2)cc1, 0.88888...   \n",
       "47366  0.000216  [(Cc1ccc(Oc2cncc(-c3cc(CCCOc4ccccc4)no3)c2)cn1...   \n",
       "\n",
       "                                                  smiles  \n",
       "732    C[SiH](C)Oc1c(C(=O)c2cn(C(c3ccccc3)(c3ccccc3)c...  \n",
       "773    C[C@H]1COCCN1c1cc(C2(S(=O)(=O)c3cccnc3C(=O)N(C...  \n",
       "800                 OCC1(COCc2coc(-c3ccc(F)cc3)n2)COCOC1  \n",
       "881          COC(=O)c1ccc2c(CO)cnc(-c3c(F)cc(F)cc3F)c2c1  \n",
       "1705                 COC(=O)C1CCCn2c(C(=O)c3ccccc3)ccc21  \n",
       "...                                                  ...  \n",
       "45707         CCOC(=O)C1CN(CCCN2c3ccccc3CCc3ccccc32)CCN1  \n",
       "45949                       CCCCOc1cc(/C=C/C(=O)OC)ccc1I  \n",
       "46045  COC(=O)c1cc2cc(OCc3ccccc3)ccc2n1S(=O)(=O)c1ccc...  \n",
       "47013                   CN(C(=O)[C@H]1CCCNC1)c1ccc(F)cc1  \n",
       "47366     CN1CCC[C@H]1COc1cncc(-c2cc(CCCOc3ccccc3)no2)c1  \n",
       "\n",
       "[187 rows x 3 columns]"
      ]
     },
     "execution_count": 6,
     "metadata": {},
     "output_type": "execute_result"
    }
   ],
   "source": [
    "df = pd.DataFrame.from_dict(fast_MCS_Sims, orient = 'index')\n",
    "df.columns = ['time', 'similar_mols']\n",
    "df['smiles'] = smiles_list\n",
    "# df['time'] = [tt in enumerate(df['time'])]\n",
    "df.to_csv('fast_MCS_Mutations.csv')\n",
    "df"
   ]
  },
  {
   "cell_type": "code",
   "execution_count": null,
   "id": "6d4344b5",
   "metadata": {},
   "outputs": [],
   "source": []
  }
 ],
 "metadata": {
  "kernelspec": {
   "display_name": "Python 3 (ipykernel)",
   "language": "python",
   "name": "python3"
  },
  "language_info": {
   "codemirror_mode": {
    "name": "ipython",
    "version": 3
   },
   "file_extension": ".py",
   "mimetype": "text/x-python",
   "name": "python",
   "nbconvert_exporter": "python",
   "pygments_lexer": "ipython3",
   "version": "3.9.7"
  }
 },
 "nbformat": 4,
 "nbformat_minor": 5
}
