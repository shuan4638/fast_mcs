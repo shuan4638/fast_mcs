{
 "cells": [
  {
   "cell_type": "code",
   "execution_count": 1,
   "id": "21ad1659",
   "metadata": {},
   "outputs": [],
   "source": [
    "from MCS_similarity import *\n",
    "import pandas as pd\n",
    "\n",
    "df = pd.read_csv('USPTO_products.csv')\n",
    "all_smiles = df['Product'].tolist()\n",
    "all_molecules = [Chem.MolFromSmiles(smi) for smi in all_smiles]"
   ]
  },
  {
   "cell_type": "code",
   "execution_count": 2,
   "id": "e7c4cc6c",
   "metadata": {},
   "outputs": [
    {
     "name": "stdout",
     "output_type": "stream",
     "text": [
      "0 CN(CC(=O)O)C1CCCc2cccnc21\n"
     ]
    },
    {
     "name": "stderr",
     "output_type": "stream",
     "text": [
      "100%|███████████████████████████████████████████████████████████████████████████| 50016/50016 [02:03<00:00, 405.92it/s]\n"
     ]
    },
    {
     "name": "stdout",
     "output_type": "stream",
     "text": [
      "1 O=C1CCCCN1c1ccc(CO)cc1\n"
     ]
    },
    {
     "name": "stderr",
     "output_type": "stream",
     "text": [
      "100%|███████████████████████████████████████████████████████████████████████████| 50016/50016 [01:40<00:00, 499.08it/s]\n"
     ]
    },
    {
     "name": "stdout",
     "output_type": "stream",
     "text": [
      "2 CC(C)(C)OCCCCl\n"
     ]
    },
    {
     "name": "stderr",
     "output_type": "stream",
     "text": [
      "100%|██████████████████████████████████████████████████████████████████████████| 50016/50016 [00:21<00:00, 2366.29it/s]\n"
     ]
    },
    {
     "name": "stdout",
     "output_type": "stream",
     "text": [
      "3 CCN(CC)CCc1c[nH]c2ccc(N(CC)S(=O)(=O)c3ccc4ccccc4c3)cc12\n"
     ]
    },
    {
     "name": "stderr",
     "output_type": "stream",
     "text": [
      "100%|███████████████████████████████████████████████████████████████████████████| 50016/50016 [05:34<00:00, 149.37it/s]\n"
     ]
    },
    {
     "name": "stdout",
     "output_type": "stream",
     "text": [
      "4 C=C(C)OC(=O)Nc1cc(-c2cc3cnc(SC)nc3nc2C)c(Br)cc1F\n"
     ]
    },
    {
     "name": "stderr",
     "output_type": "stream",
     "text": [
      "100%|███████████████████████████████████████████████████████████████████████████| 50016/50016 [04:43<00:00, 176.62it/s]\n"
     ]
    },
    {
     "name": "stdout",
     "output_type": "stream",
     "text": [
      "5 N#C[C@H](CCc1ccccc1)NC(=O)C(F)(F)CCCc1ccccc1\n"
     ]
    },
    {
     "name": "stderr",
     "output_type": "stream",
     "text": [
      "100%|███████████████████████████████████████████████████████████████████████████| 50016/50016 [01:03<00:00, 783.96it/s]\n"
     ]
    },
    {
     "name": "stdout",
     "output_type": "stream",
     "text": [
      "6 Brc1ccc(Oc2ccccc2)nc1\n"
     ]
    },
    {
     "name": "stderr",
     "output_type": "stream",
     "text": [
      "100%|███████████████████████████████████████████████████████████████████████████| 50016/50016 [00:54<00:00, 921.35it/s]\n"
     ]
    },
    {
     "name": "stdout",
     "output_type": "stream",
     "text": [
      "7 CC(C)CCNC(=O)c1ccc(N2CCN(C(=O)c3cc(Cl)ccc3Cl)CC2)nn1\n"
     ]
    },
    {
     "name": "stderr",
     "output_type": "stream",
     "text": [
      "100%|███████████████████████████████████████████████████████████████████████████| 50016/50016 [03:06<00:00, 268.17it/s]\n"
     ]
    },
    {
     "name": "stdout",
     "output_type": "stream",
     "text": [
      "8 Cc1cc(C(=O)CC(c2ccccc2)c2ccccc2)ccn1\n"
     ]
    },
    {
     "name": "stderr",
     "output_type": "stream",
     "text": [
      "100%|███████████████████████████████████████████████████████████████████████████| 50016/50016 [01:35<00:00, 522.46it/s]\n"
     ]
    },
    {
     "name": "stdout",
     "output_type": "stream",
     "text": [
      "9 O=C(O)COC(=O)OCc1ccc([N+](=O)[O-])cc1\n"
     ]
    },
    {
     "name": "stderr",
     "output_type": "stream",
     "text": [
      "100%|███████████████████████████████████████████████████████████████████████████| 50016/50016 [00:53<00:00, 929.15it/s]\n"
     ]
    },
    {
     "name": "stdout",
     "output_type": "stream",
     "text": [
      "10 O=C(Nc1cc(Oc2ccc3nc(NC(=O)C4CC4)cn3n2)c(Cl)cc1F)c1cccc(C(F)(F)F)c1\n"
     ]
    },
    {
     "name": "stderr",
     "output_type": "stream",
     "text": [
      "100%|███████████████████████████████████████████████████████████████████████████| 50016/50016 [08:07<00:00, 102.59it/s]\n"
     ]
    },
    {
     "name": "stdout",
     "output_type": "stream",
     "text": [
      "11 OCC1(COCc2coc(-c3ccc(F)cc3)n2)COCOC1\n"
     ]
    },
    {
     "name": "stderr",
     "output_type": "stream",
     "text": [
      "100%|███████████████████████████████████████████████████████████████████████████| 50016/50016 [01:10<00:00, 705.92it/s]\n"
     ]
    },
    {
     "name": "stdout",
     "output_type": "stream",
     "text": [
      "12 CC(O)Cn1cc(-c2ccccc2)c2ccccc2c1=O\n"
     ]
    },
    {
     "name": "stderr",
     "output_type": "stream",
     "text": [
      "100%|███████████████████████████████████████████████████████████████████████████| 50016/50016 [05:16<00:00, 157.96it/s]\n"
     ]
    },
    {
     "name": "stdout",
     "output_type": "stream",
     "text": [
      "13 CC(C)(C)OC(=O)Nc1nc2c(Br)cc(Cn3cccn3)cc2s1\n"
     ]
    },
    {
     "name": "stderr",
     "output_type": "stream",
     "text": [
      "100%|███████████████████████████████████████████████████████████████████████████| 50016/50016 [01:45<00:00, 474.47it/s]\n"
     ]
    },
    {
     "name": "stdout",
     "output_type": "stream",
     "text": [
      "14 CCCCCCOc1cc2c(cc1N(CC)c1ccc(C(=O)O)cc1)C(C)=CCC2(C)C\n"
     ]
    },
    {
     "name": "stderr",
     "output_type": "stream",
     "text": [
      "100%|███████████████████████████████████████████████████████████████████████████| 50016/50016 [05:10<00:00, 160.90it/s]\n"
     ]
    },
    {
     "name": "stdout",
     "output_type": "stream",
     "text": [
      "15 Cc1cc(F)c(N=C(c2ccco2)N(C)C)cc1SCC(F)(F)F\n"
     ]
    },
    {
     "name": "stderr",
     "output_type": "stream",
     "text": [
      "100%|███████████████████████████████████████████████████████████████████████████| 50016/50016 [01:04<00:00, 772.03it/s]\n"
     ]
    },
    {
     "name": "stdout",
     "output_type": "stream",
     "text": [
      "16 Nc1cc(OCc2ccccc2)ncn1\n"
     ]
    },
    {
     "name": "stderr",
     "output_type": "stream",
     "text": [
      "100%|███████████████████████████████████████████████████████████████████████████| 50016/50016 [00:53<00:00, 935.67it/s]\n"
     ]
    },
    {
     "name": "stdout",
     "output_type": "stream",
     "text": [
      "17 O=c1[nH]c(=O)n(CCCN2CC3CC3(c3ccc(Cl)cc3)C2)cc1I\n"
     ]
    },
    {
     "name": "stderr",
     "output_type": "stream",
     "text": [
      "100%|███████████████████████████████████████████████████████████████████████████| 50016/50016 [03:02<00:00, 274.39it/s]\n"
     ]
    },
    {
     "name": "stdout",
     "output_type": "stream",
     "text": [
      "18 CCOC(=O)C(F)(F)C(O)C(Cc1ccccc1)NC(=O)OCc1ccccc1\n"
     ]
    },
    {
     "name": "stderr",
     "output_type": "stream",
     "text": [
      "100%|███████████████████████████████████████████████████████████████████████████| 50016/50016 [01:14<00:00, 675.13it/s]\n"
     ]
    },
    {
     "name": "stdout",
     "output_type": "stream",
     "text": [
      "19 CCOC(=O)N1CC[C@H](Oc2ccccc2F)[C@H](c2ccccc2)C1\n"
     ]
    },
    {
     "name": "stderr",
     "output_type": "stream",
     "text": [
      "100%|███████████████████████████████████████████████████████████████████████████| 50016/50016 [02:36<00:00, 319.52it/s]\n"
     ]
    },
    {
     "name": "stdout",
     "output_type": "stream",
     "text": [
      "20 CCOc1ccc2c(C(=O)c3cc(OC)c(OC)c(OC)c3)cncc2c1NC(=O)OCC(C)C\n"
     ]
    },
    {
     "name": "stderr",
     "output_type": "stream",
     "text": [
      "100%|███████████████████████████████████████████████████████████████████████████| 50016/50016 [06:37<00:00, 125.71it/s]\n"
     ]
    },
    {
     "name": "stdout",
     "output_type": "stream",
     "text": [
      "21 C#CCN1CCN(C(=O)OC(C)(C)C)CC1\n"
     ]
    },
    {
     "name": "stderr",
     "output_type": "stream",
     "text": [
      "100%|██████████████████████████████████████████████████████████████████████████| 50016/50016 [00:49<00:00, 1011.43it/s]\n"
     ]
    },
    {
     "name": "stdout",
     "output_type": "stream",
     "text": [
      "22 N#Cc1ccc(NC2CCN(CCC(c3ccccc3)c3ccccc3)CC2)c(N)c1\n"
     ]
    },
    {
     "name": "stderr",
     "output_type": "stream",
     "text": [
      "100%|███████████████████████████████████████████████████████████████████████████| 50016/50016 [02:25<00:00, 342.94it/s]\n"
     ]
    },
    {
     "name": "stdout",
     "output_type": "stream",
     "text": [
      "23 CSc1cc(C=O)ccc1C\n"
     ]
    },
    {
     "name": "stderr",
     "output_type": "stream",
     "text": [
      "100%|███████████████████████████████████████████████████████████████████████████| 50016/50016 [00:55<00:00, 901.18it/s]\n"
     ]
    },
    {
     "name": "stdout",
     "output_type": "stream",
     "text": [
      "24 c1cc2c(ccn2CC2CC3CCC2N3)cc1-c1cnn(C2CCCCO2)c1\n"
     ]
    },
    {
     "name": "stderr",
     "output_type": "stream",
     "text": [
      "100%|███████████████████████████████████████████████████████████████████████████| 50016/50016 [07:58<00:00, 104.61it/s]\n"
     ]
    },
    {
     "name": "stdout",
     "output_type": "stream",
     "text": [
      "25 CCNC(=O)Nc1nc2cc(-c3cnc(N4CCC(C)(C(=O)O)CC4)nc3)cc(Br)c2s1\n"
     ]
    },
    {
     "name": "stderr",
     "output_type": "stream",
     "text": [
      "100%|███████████████████████████████████████████████████████████████████████████| 50016/50016 [03:11<00:00, 260.83it/s]\n"
     ]
    },
    {
     "name": "stdout",
     "output_type": "stream",
     "text": [
      "26 COc1cc2nccc(Oc3ccc(C)cc3C(=O)C3CCCCC3)c2cc1OC\n"
     ]
    },
    {
     "name": "stderr",
     "output_type": "stream",
     "text": [
      "100%|███████████████████████████████████████████████████████████████████████████| 50016/50016 [07:17<00:00, 114.26it/s]\n"
     ]
    },
    {
     "name": "stdout",
     "output_type": "stream",
     "text": [
      "27 CSc1ncc2cc(-c3ccc(-c4cncc(C)n4)cc3Cl)c(=O)n(CCN3CCN(C4COC4)CC3)c2n1\n"
     ]
    },
    {
     "name": "stderr",
     "output_type": "stream",
     "text": [
      "100%|████████████████████████████████████████████████████████████████████████████| 50016/50016 [16:28<00:00, 50.59it/s]\n"
     ]
    },
    {
     "name": "stdout",
     "output_type": "stream",
     "text": [
      "28 CN1CCC(C(=O)c2cccc(Br)n2)CC1\n"
     ]
    },
    {
     "name": "stderr",
     "output_type": "stream",
     "text": [
      "100%|███████████████████████████████████████████████████████████████████████████| 50016/50016 [01:18<00:00, 639.18it/s]\n"
     ]
    },
    {
     "name": "stdout",
     "output_type": "stream",
     "text": [
      "29 CC(C)C1=C(C(=O)N2CCC[C@H]2C(=O)NN)SC2=N[C@@](C)(c3ccc(Cl)cc3)[C@@H](c3ccc(Cl)cc3)N21\n"
     ]
    },
    {
     "name": "stderr",
     "output_type": "stream",
     "text": [
      "100%|████████████████████████████████████████████████████████████████████████████| 50016/50016 [17:57<00:00, 46.40it/s]\n"
     ]
    },
    {
     "name": "stdout",
     "output_type": "stream",
     "text": [
      "30 O=C(O)c1ccc(N(Cc2ccc(OC(F)(F)F)cc2)Cc2ccc(C3CCCCC3)cc2)cc1\n"
     ]
    },
    {
     "name": "stderr",
     "output_type": "stream",
     "text": [
      "100%|███████████████████████████████████████████████████████████████████████████| 50016/50016 [04:30<00:00, 185.01it/s]\n"
     ]
    },
    {
     "name": "stdout",
     "output_type": "stream",
     "text": [
      "31 CCn1nc(C)c2c1C(=O)NCC(c1cccc(O)c1)=N2\n"
     ]
    },
    {
     "name": "stderr",
     "output_type": "stream",
     "text": [
      "100%|███████████████████████████████████████████████████████████████████████████| 50016/50016 [01:38<00:00, 505.50it/s]\n"
     ]
    },
    {
     "name": "stdout",
     "output_type": "stream",
     "text": [
      "32 N#C[C@@H]1C[C@H](F)CN1C(=O)CNC12CCC(C(=O)OCc3ccc(Cl)cc3)(CC1)CC2\n"
     ]
    },
    {
     "name": "stderr",
     "output_type": "stream",
     "text": [
      "100%|███████████████████████████████████████████████████████████████████████████| 50016/50016 [03:44<00:00, 222.33it/s]\n"
     ]
    },
    {
     "name": "stdout",
     "output_type": "stream",
     "text": [
      "33 Cc1ccc(S(=O)(=O)OC[C@@](C)(O)C(=O)[C@H](CC(C)C)NC(=O)[C@H](Cc2ccccc2)NC(=O)[C@H](CC(C)C)NC(=O)[C@H](CCc2ccccc2)NC(=O)CN2CCOCC2)cc1\n"
     ]
    },
    {
     "name": "stderr",
     "output_type": "stream",
     "text": [
      "100%|████████████████████████████████████████████████████████████████████████████| 50016/50016 [09:05<00:00, 91.76it/s]\n"
     ]
    },
    {
     "name": "stdout",
     "output_type": "stream",
     "text": [
      "34 CN(CCN1CCOCC1)c1ccc(OCc2ccccc2)c(C(=O)Nc2cc(-c3ccccc3)ccc2C(=O)OC(C)(C)C)c1\n"
     ]
    },
    {
     "name": "stderr",
     "output_type": "stream",
     "text": [
      "100%|███████████████████████████████████████████████████████████████████████████| 50016/50016 [07:15<00:00, 114.72it/s]\n"
     ]
    },
    {
     "name": "stdout",
     "output_type": "stream",
     "text": [
      "35 O=c1n(Cc2ccc(-c3ccno3)cc2)nc2c(-n3ccnc3)c(-c3ccc(Cl)cc3)cnn12\n"
     ]
    },
    {
     "name": "stderr",
     "output_type": "stream",
     "text": [
      "100%|███████████████████████████████████████████████████████████████████████████| 50016/50016 [03:51<00:00, 216.17it/s]\n"
     ]
    },
    {
     "name": "stdout",
     "output_type": "stream",
     "text": [
      "36 O=C(NCc1cc(F)c(N2CCOCC2)c(F)c1)Nc1cccc2cnccc12\n"
     ]
    },
    {
     "name": "stderr",
     "output_type": "stream",
     "text": [
      "100%|███████████████████████████████████████████████████████████████████████████| 50016/50016 [03:18<00:00, 252.55it/s]\n"
     ]
    },
    {
     "name": "stdout",
     "output_type": "stream",
     "text": [
      "37 COC(=O)c1nnn(Cc2ccccc2F)c1C(=O)OC\n"
     ]
    },
    {
     "name": "stderr",
     "output_type": "stream",
     "text": [
      "100%|███████████████████████████████████████████████████████████████████████████| 50016/50016 [01:06<00:00, 754.87it/s]\n"
     ]
    },
    {
     "name": "stdout",
     "output_type": "stream",
     "text": [
      "38 CCC(c1ccc(Cl)c2nc3n(c12)CCCN3c1ccc(Cl)cc1Cl)N(C)C(C)=O\n"
     ]
    },
    {
     "name": "stderr",
     "output_type": "stream",
     "text": [
      "100%|███████████████████████████████████████████████████████████████████████████| 50016/50016 [05:28<00:00, 152.23it/s]\n"
     ]
    },
    {
     "name": "stdout",
     "output_type": "stream",
     "text": [
      "39 CCc1n[nH]c2c1C(=O)CC(c1ccccc1Cl)C2\n"
     ]
    },
    {
     "name": "stderr",
     "output_type": "stream",
     "text": [
      "100%|███████████████████████████████████████████████████████████████████████████| 50016/50016 [03:40<00:00, 227.05it/s]\n"
     ]
    },
    {
     "name": "stdout",
     "output_type": "stream",
     "text": [
      "40 COC(=O)c1cc(CBr)ccn1\n"
     ]
    },
    {
     "name": "stderr",
     "output_type": "stream",
     "text": [
      "100%|███████████████████████████████████████████████████████████████████████████| 50016/50016 [00:52<00:00, 948.25it/s]\n"
     ]
    },
    {
     "name": "stdout",
     "output_type": "stream",
     "text": [
      "41 CCOC(=O)N=C(CC(C)C)OCC\n"
     ]
    },
    {
     "name": "stderr",
     "output_type": "stream",
     "text": [
      "100%|██████████████████████████████████████████████████████████████████████████| 50016/50016 [00:25<00:00, 1970.83it/s]\n"
     ]
    },
    {
     "name": "stdout",
     "output_type": "stream",
     "text": [
      "42 Nc1sc(-c2ccccn2)cc1C(=O)N1CCC(N2CCCC3(CC(=O)N(C4CCC4)C3=O)C2)CC1\n"
     ]
    },
    {
     "name": "stderr",
     "output_type": "stream",
     "text": [
      "100%|████████████████████████████████████████████████████████████████████████████| 50016/50016 [09:54<00:00, 84.11it/s]\n"
     ]
    },
    {
     "name": "stdout",
     "output_type": "stream",
     "text": [
      "43 CC[C@@H](C)n1cc(C(=O)NCc2ccc(S(C)(=O)=O)cn2)c(=O)c(Br)c1C\n"
     ]
    },
    {
     "name": "stderr",
     "output_type": "stream",
     "text": [
      "100%|███████████████████████████████████████████████████████████████████████████| 50016/50016 [01:58<00:00, 420.46it/s]\n"
     ]
    },
    {
     "name": "stdout",
     "output_type": "stream",
     "text": [
      "44 COC(C)(C)Cn1cc(-c2ccc3cnc(Cl)cc3c2)cn1\n"
     ]
    },
    {
     "name": "stderr",
     "output_type": "stream",
     "text": [
      "100%|███████████████████████████████████████████████████████████████████████████| 50016/50016 [03:25<00:00, 242.92it/s]\n"
     ]
    },
    {
     "name": "stdout",
     "output_type": "stream",
     "text": [
      "45 COc1ccc2cc(C(=O)C(C)N3CCN(Cc4ccccc4)CC3)ccc2c1\n"
     ]
    },
    {
     "name": "stderr",
     "output_type": "stream",
     "text": [
      "100%|███████████████████████████████████████████████████████████████████████████| 50016/50016 [05:05<00:00, 163.70it/s]\n"
     ]
    },
    {
     "name": "stdout",
     "output_type": "stream",
     "text": [
      "46 CC(C)n1ncc2cc(O[C@H](c3ccccc3)[C@H](C)N)ccc21\n"
     ]
    },
    {
     "name": "stderr",
     "output_type": "stream",
     "text": [
      "100%|███████████████████████████████████████████████████████████████████████████| 50016/50016 [02:27<00:00, 339.06it/s]\n"
     ]
    },
    {
     "name": "stdout",
     "output_type": "stream",
     "text": [
      "47 O=C(Nc1cccc2cnccc12)c1cc([N+](=O)[O-])c(Sc2c(Cl)cncc2Cl)s1\n"
     ]
    },
    {
     "name": "stderr",
     "output_type": "stream",
     "text": [
      "100%|███████████████████████████████████████████████████████████████████████████| 50016/50016 [03:26<00:00, 241.79it/s]\n"
     ]
    },
    {
     "name": "stdout",
     "output_type": "stream",
     "text": [
      "48 CCOC(=O)CCc1ccc2c(c1)nc(N)c1ncc(CCc3ccc(OCCCC(F)(F)P(=O)(OCC)OCC)cc3C)cc12\n"
     ]
    },
    {
     "name": "stderr",
     "output_type": "stream",
     "text": [
      "100%|███████████████████████████████████████████████████████████████████████████| 50016/50016 [07:06<00:00, 117.37it/s]\n"
     ]
    },
    {
     "name": "stdout",
     "output_type": "stream",
     "text": [
      "49 COC(=O)c1ccc(-c2nc(NCc3cccc([N+](=O)[O-])c3)c3c4c(sc3n2)CCCC4)cc1\n"
     ]
    },
    {
     "name": "stderr",
     "output_type": "stream",
     "text": [
      "100%|███████████████████████████████████████████████████████████████████████████| 50016/50016 [05:15<00:00, 158.62it/s]\n"
     ]
    },
    {
     "name": "stdout",
     "output_type": "stream",
     "text": [
      "50 CC1(C)Cc2cccc(NC3=Nc4ccc(NCc5ncc[nH]5)cc4CO3)c2O1\n"
     ]
    },
    {
     "name": "stderr",
     "output_type": "stream",
     "text": [
      "100%|███████████████████████████████████████████████████████████████████████████| 50016/50016 [02:53<00:00, 288.51it/s]\n"
     ]
    },
    {
     "name": "stdout",
     "output_type": "stream",
     "text": [
      "51 Cc1c(-c2noc(-c3cnc(OC(C)C)c(C#N)c3)n2)ccc2c1CCN(C(=O)[C@@H](NC(=O)OC(C)(C)C)[C@@H](C)O)C2\n"
     ]
    },
    {
     "name": "stderr",
     "output_type": "stream",
     "text": [
      "100%|██████████████████████████████████████████████████████████████████████████| 50016/50016 [2:08:51<00:00,  6.47it/s]\n"
     ]
    },
    {
     "name": "stdout",
     "output_type": "stream",
     "text": [
      "52 Nc1nccn2c(C3CCC3)nc(-c3ccc4[nH]ccc4c3)c12\n"
     ]
    },
    {
     "name": "stderr",
     "output_type": "stream",
     "text": [
      "100%|███████████████████████████████████████████████████████████████████████████| 50016/50016 [06:48<00:00, 122.39it/s]\n"
     ]
    },
    {
     "name": "stdout",
     "output_type": "stream",
     "text": [
      "53 Cc1c(Cc2ccc(C#N)cc2)c(O)nc2c(Cl)ccc(O)c12\n"
     ]
    },
    {
     "name": "stderr",
     "output_type": "stream",
     "text": [
      "100%|███████████████████████████████████████████████████████████████████████████| 50016/50016 [05:29<00:00, 151.58it/s]\n"
     ]
    },
    {
     "name": "stdout",
     "output_type": "stream",
     "text": [
      "54 NCCNc1ccnc2c1CC1(CN3CCC1CC3)O2\n"
     ]
    },
    {
     "name": "stderr",
     "output_type": "stream",
     "text": [
      "100%|███████████████████████████████████████████████████████████████████████████| 50016/50016 [06:36<00:00, 126.07it/s]\n"
     ]
    },
    {
     "name": "stdout",
     "output_type": "stream",
     "text": [
      "55 O=S([O-])c1ccc(I)cc1\n"
     ]
    },
    {
     "name": "stderr",
     "output_type": "stream",
     "text": [
      "100%|██████████████████████████████████████████████████████████████████████████| 50016/50016 [00:45<00:00, 1103.01it/s]\n"
     ]
    },
    {
     "name": "stdout",
     "output_type": "stream",
     "text": [
      "56 CC(C)(C)OC(=O)N1CCC[C@H](C(=O)O)C1\n"
     ]
    },
    {
     "name": "stderr",
     "output_type": "stream",
     "text": [
      "100%|███████████████████████████████████████████████████████████████████████████| 50016/50016 [01:38<00:00, 508.20it/s]\n"
     ]
    },
    {
     "name": "stdout",
     "output_type": "stream",
     "text": [
      "57 CC(C)(C)OC(=O)N1CCCC(COS(C)(=O)=O)C1\n"
     ]
    },
    {
     "name": "stderr",
     "output_type": "stream",
     "text": [
      "100%|███████████████████████████████████████████████████████████████████████████| 50016/50016 [01:36<00:00, 516.86it/s]\n"
     ]
    },
    {
     "name": "stdout",
     "output_type": "stream",
     "text": [
      "58 CC(C)(C)[S@@](=O)/N=C/C(F)c1ccccc1\n"
     ]
    },
    {
     "name": "stderr",
     "output_type": "stream",
     "text": [
      "100%|███████████████████████████████████████████████████████████████████████████| 50016/50016 [00:57<00:00, 862.90it/s]\n"
     ]
    },
    {
     "name": "stdout",
     "output_type": "stream",
     "text": [
      "59 CC(C)CN(CC(C)C)C(=O)C(C)(C)c1ccc([N+](=O)[O-])c(Cl)c1\n"
     ]
    },
    {
     "name": "stderr",
     "output_type": "stream",
     "text": [
      "100%|███████████████████████████████████████████████████████████████████████████| 50016/50016 [01:38<00:00, 505.55it/s]\n"
     ]
    },
    {
     "name": "stdout",
     "output_type": "stream",
     "text": [
      "60 Cc1cc(C)c(N2CCN(C(=O)c3ccc(N4C(=O)NCC4C)cc3F)CC2)nc1C\n"
     ]
    },
    {
     "name": "stderr",
     "output_type": "stream",
     "text": [
      "100%|████████████████████████████████████████████████████████████████████████████| 50016/50016 [14:14<00:00, 58.51it/s]\n"
     ]
    },
    {
     "name": "stdout",
     "output_type": "stream",
     "text": [
      "61 CCOC(=O)[C@H](C)N([C@H]1CCN(c2ccc3c(c2)CCCNC3)C1=O)S(=O)(=O)/C=C/c1ccc(Cl)s1\n"
     ]
    },
    {
     "name": "stderr",
     "output_type": "stream",
     "text": [
      "100%|███████████████████████████████████████████████████████████████████████████| 50016/50016 [06:10<00:00, 135.04it/s]\n"
     ]
    },
    {
     "name": "stdout",
     "output_type": "stream",
     "text": [
      "62 CNC1CN(c2c(-c3ccccc3)c(C)c(C#N)c3nc4ncccc4n23)C1\n"
     ]
    },
    {
     "name": "stderr",
     "output_type": "stream",
     "text": [
      "100%|███████████████████████████████████████████████████████████████████████████| 50016/50016 [07:40<00:00, 108.70it/s]\n"
     ]
    },
    {
     "name": "stdout",
     "output_type": "stream",
     "text": [
      "63 CC(C)(N)CN1CCC[C@@H]1C(=O)NC1C2CC3CC(C2)CC1C3\n"
     ]
    },
    {
     "name": "stderr",
     "output_type": "stream",
     "text": [
      "100%|████████████████████████████████████████████████████████████████████████████| 50016/50016 [08:41<00:00, 95.93it/s]\n"
     ]
    },
    {
     "name": "stdout",
     "output_type": "stream",
     "text": [
      "64 CN(C)c1ccc(CNc2ccc3ncc(C#N)c(Nc4ccc(F)c(Cl)c4)c3c2)c(Br)c1\n"
     ]
    },
    {
     "name": "stderr",
     "output_type": "stream",
     "text": [
      "100%|████████████████████████████████████████████████████████████████████████████| 50016/50016 [08:57<00:00, 93.04it/s]\n"
     ]
    },
    {
     "name": "stdout",
     "output_type": "stream",
     "text": [
      "65 Cc1c[nH]c2c(/C=C/C(=O)O)cccc12\n"
     ]
    },
    {
     "name": "stderr",
     "output_type": "stream",
     "text": [
      "100%|███████████████████████████████████████████████████████████████████████████| 50016/50016 [02:58<00:00, 280.62it/s]\n"
     ]
    },
    {
     "name": "stdout",
     "output_type": "stream",
     "text": [
      "66 O=C(/C=C/c1ccccc1SC1CCCCC1)NC1CCCCC1O\n"
     ]
    },
    {
     "name": "stderr",
     "output_type": "stream",
     "text": [
      "100%|███████████████████████████████████████████████████████████████████████████| 50016/50016 [01:45<00:00, 474.65it/s]\n"
     ]
    },
    {
     "name": "stdout",
     "output_type": "stream",
     "text": [
      "67 CCOC(=O)CC(=O)CC(O)C=CC(=C(c1ccc(F)cc1)c1ccc(F)cc1)c1nnnn1CC\n"
     ]
    },
    {
     "name": "stderr",
     "output_type": "stream",
     "text": [
      "100%|███████████████████████████████████████████████████████████████████████████| 50016/50016 [02:19<00:00, 359.69it/s]\n"
     ]
    },
    {
     "name": "stdout",
     "output_type": "stream",
     "text": [
      "68 CC(C)(C)OC(=O)N1[C@H](CO)CC[C@@H]1c1ccccc1\n"
     ]
    },
    {
     "name": "stderr",
     "output_type": "stream",
     "text": [
      "100%|███████████████████████████████████████████████████████████████████████████| 50016/50016 [02:36<00:00, 319.41it/s]\n"
     ]
    },
    {
     "name": "stdout",
     "output_type": "stream",
     "text": [
      "69 Cc1cc(NCCOc2c(C)cc(C=O)cc2C)no1\n"
     ]
    },
    {
     "name": "stderr",
     "output_type": "stream",
     "text": [
      "100%|███████████████████████████████████████████████████████████████████████████| 50016/50016 [01:54<00:00, 437.28it/s]\n"
     ]
    },
    {
     "name": "stdout",
     "output_type": "stream",
     "text": [
      "70 COc1cc(Cl)ccc1-c1csc(C=O)c1-c1ccc(NS(C)(=O)=O)cc1C\n"
     ]
    },
    {
     "name": "stderr",
     "output_type": "stream",
     "text": [
      "100%|███████████████████████████████████████████████████████████████████████████| 50016/50016 [04:25<00:00, 188.56it/s]\n"
     ]
    },
    {
     "name": "stdout",
     "output_type": "stream",
     "text": [
      "71 C#CCS(=O)c1c(O)cc(C)oc1=O\n"
     ]
    },
    {
     "name": "stderr",
     "output_type": "stream",
     "text": [
      "100%|███████████████████████████████████████████████████████████████████████████| 50016/50016 [00:57<00:00, 872.55it/s]\n"
     ]
    },
    {
     "name": "stdout",
     "output_type": "stream",
     "text": [
      "72 CCOc1ccc(C(=O)CCC(=O)Nc2cc(-c3ccc(OCCN4CCOCC4)cc3)c3ccccc3n2)cc1OCC\n"
     ]
    },
    {
     "name": "stderr",
     "output_type": "stream",
     "text": [
      "100%|████████████████████████████████████████████████████████████████████████████| 50016/50016 [10:24<00:00, 80.13it/s]\n"
     ]
    },
    {
     "name": "stdout",
     "output_type": "stream",
     "text": [
      "73 Nc1c(O)c(Cl)cc(F)c1-n1ncc(C(F)(F)F)cc1=O\n"
     ]
    },
    {
     "name": "stderr",
     "output_type": "stream",
     "text": [
      "100%|███████████████████████████████████████████████████████████████████████████| 50016/50016 [02:08<00:00, 390.31it/s]\n"
     ]
    },
    {
     "name": "stdout",
     "output_type": "stream",
     "text": [
      "74 CCN1CCC(C(=O)N=S(C)(=O)c2ccccc2-c2ccc(C(=O)Nc3ccc(Cl)cc3C(=O)Nc3ccc(Cl)cn3)cc2)CC1\n"
     ]
    },
    {
     "name": "stderr",
     "output_type": "stream",
     "text": [
      "100%|███████████████████████████████████████████████████████████████████████████| 50016/50016 [06:52<00:00, 121.28it/s]\n"
     ]
    },
    {
     "name": "stdout",
     "output_type": "stream",
     "text": [
      "75 CCOC(=O)CS(=O)(=O)c1ccc(-c2ccc(CCN3CCC[C@H]3C)cc2)cc1\n"
     ]
    },
    {
     "name": "stderr",
     "output_type": "stream",
     "text": [
      "100%|███████████████████████████████████████████████████████████████████████████| 50016/50016 [04:05<00:00, 203.62it/s]\n"
     ]
    },
    {
     "name": "stdout",
     "output_type": "stream",
     "text": [
      "76 COc1c(NCC#N)cc(C(C)=O)cc1C(C)(C)C\n"
     ]
    },
    {
     "name": "stderr",
     "output_type": "stream",
     "text": [
      "100%|███████████████████████████████████████████████████████████████████████████| 50016/50016 [02:38<00:00, 315.63it/s]\n"
     ]
    },
    {
     "name": "stdout",
     "output_type": "stream",
     "text": [
      "77 CC(=O)N1CCc2cc(Br)cc(N)c21\n"
     ]
    },
    {
     "name": "stderr",
     "output_type": "stream",
     "text": [
      "100%|███████████████████████████████████████████████████████████████████████████| 50016/50016 [02:40<00:00, 310.95it/s]\n"
     ]
    },
    {
     "name": "stdout",
     "output_type": "stream",
     "text": [
      "78 CCOC(=O)c1cn(CC(C)C)nc1C(F)(F)F\n"
     ]
    },
    {
     "name": "stderr",
     "output_type": "stream",
     "text": [
      "100%|███████████████████████████████████████████████████████████████████████████| 50016/50016 [01:09<00:00, 721.72it/s]\n"
     ]
    },
    {
     "name": "stdout",
     "output_type": "stream",
     "text": [
      "79 COc1ccc(N)cc1OCCN1CCCCC1\n"
     ]
    },
    {
     "name": "stderr",
     "output_type": "stream",
     "text": [
      "100%|███████████████████████████████████████████████████████████████████████████| 50016/50016 [01:34<00:00, 527.19it/s]\n"
     ]
    },
    {
     "name": "stdout",
     "output_type": "stream",
     "text": [
      "80 C[SiH](C)O[C@@]1(CCOc2ccc(F)cc2CCc2ccc(F)c(F)c2)C[C@H](C(C)(C)C)CN1C(=O)OC(C)(C)C\n"
     ]
    },
    {
     "name": "stderr",
     "output_type": "stream",
     "text": [
      "100%|███████████████████████████████████████████████████████████████████████████| 50016/50016 [03:26<00:00, 242.39it/s]\n"
     ]
    },
    {
     "name": "stdout",
     "output_type": "stream",
     "text": [
      "81 C1CC(N2CCC(Oc3nc4c(s3)CNCC4)CC2)C1\n"
     ]
    },
    {
     "name": "stderr",
     "output_type": "stream",
     "text": [
      "100%|███████████████████████████████████████████████████████████████████████████| 50016/50016 [02:03<00:00, 403.79it/s]\n"
     ]
    },
    {
     "name": "stdout",
     "output_type": "stream",
     "text": [
      "82 CC(=O)Nc1ccc(N)c(C(O)c2ccccc2Cl)c1\n"
     ]
    },
    {
     "name": "stderr",
     "output_type": "stream",
     "text": [
      "100%|███████████████████████████████████████████████████████████████████████████| 50016/50016 [02:29<00:00, 335.52it/s]\n"
     ]
    },
    {
     "name": "stdout",
     "output_type": "stream",
     "text": [
      "83 CNCC[C@H](c1ccccc1)c1c[nH]c2ncccc12\n"
     ]
    },
    {
     "name": "stderr",
     "output_type": "stream",
     "text": [
      "100%|███████████████████████████████████████████████████████████████████████████| 50016/50016 [02:49<00:00, 295.12it/s]\n"
     ]
    },
    {
     "name": "stdout",
     "output_type": "stream",
     "text": [
      "84 COc1cc(CN2C(=O)CN=C(c3ccccc3)c3ccccc32)cc(OC)c1\n"
     ]
    },
    {
     "name": "stderr",
     "output_type": "stream",
     "text": [
      "100%|████████████████████████████████████████████████████████████████████████████| 50016/50016 [09:28<00:00, 88.03it/s]\n"
     ]
    },
    {
     "name": "stdout",
     "output_type": "stream",
     "text": [
      "85 CCN1CC(C)(C)OC(=O)C1CC(=O)Nc1ccc(C(C)C)cc1\n"
     ]
    },
    {
     "name": "stderr",
     "output_type": "stream",
     "text": [
      "100%|███████████████████████████████████████████████████████████████████████████| 50016/50016 [02:08<00:00, 389.16it/s]\n"
     ]
    },
    {
     "name": "stdout",
     "output_type": "stream",
     "text": [
      "86 c1cncc(-c2ccnc3nc(N4CCNCC4)nn23)c1\n"
     ]
    },
    {
     "name": "stderr",
     "output_type": "stream",
     "text": [
      "100%|███████████████████████████████████████████████████████████████████████████| 50016/50016 [02:30<00:00, 331.81it/s]\n"
     ]
    },
    {
     "name": "stdout",
     "output_type": "stream",
     "text": [
      "87 CCCSc1nccc(NN)n1\n"
     ]
    },
    {
     "name": "stderr",
     "output_type": "stream",
     "text": [
      "100%|███████████████████████████████████████████████████████████████████████████| 50016/50016 [00:50<00:00, 986.00it/s]\n"
     ]
    },
    {
     "name": "stdout",
     "output_type": "stream",
     "text": [
      "88 CC(=O)Nc1cccc2c1OCCO2\n"
     ]
    },
    {
     "name": "stderr",
     "output_type": "stream",
     "text": [
      "100%|███████████████████████████████████████████████████████████████████████████| 50016/50016 [01:22<00:00, 603.38it/s]\n"
     ]
    },
    {
     "name": "stdout",
     "output_type": "stream",
     "text": [
      "89 O=C(O)COc1ccc(SCc2ccc(Cc3ccc(C(F)(F)F)cc3)cc2)c2c1CCC2\n"
     ]
    },
    {
     "name": "stderr",
     "output_type": "stream",
     "text": [
      "100%|███████████████████████████████████████████████████████████████████████████| 50016/50016 [04:11<00:00, 198.75it/s]\n"
     ]
    },
    {
     "name": "stdout",
     "output_type": "stream",
     "text": [
      "90 Fc1cnc(-c2cc(-c3ccc(F)c(-c4ccccc4C(F)(F)F)c3)cnn2)c(F)c1\n"
     ]
    },
    {
     "name": "stderr",
     "output_type": "stream",
     "text": [
      "100%|███████████████████████████████████████████████████████████████████████████| 50016/50016 [05:33<00:00, 149.84it/s]\n"
     ]
    },
    {
     "name": "stdout",
     "output_type": "stream",
     "text": [
      "91 COC(=O)c1cncc(-c2ccco2)n1\n"
     ]
    },
    {
     "name": "stderr",
     "output_type": "stream",
     "text": [
      "100%|███████████████████████████████████████████████████████████████████████████| 50016/50016 [01:17<00:00, 642.23it/s]\n"
     ]
    },
    {
     "name": "stdout",
     "output_type": "stream",
     "text": [
      "92 COC(=O)C1CCCn2c(C(=O)c3ccccc3)ccc21\n"
     ]
    },
    {
     "name": "stderr",
     "output_type": "stream",
     "text": [
      "100%|███████████████████████████████████████████████████████████████████████████| 50016/50016 [03:53<00:00, 213.83it/s]\n"
     ]
    },
    {
     "name": "stdout",
     "output_type": "stream",
     "text": [
      "93 CCS(=O)(=O)c1ccc(O)c(NC(=O)c2cc3cc(F)ccc3[nH]2)c1\n"
     ]
    },
    {
     "name": "stderr",
     "output_type": "stream",
     "text": [
      "100%|███████████████████████████████████████████████████████████████████████████| 50016/50016 [04:31<00:00, 184.13it/s]\n"
     ]
    },
    {
     "name": "stdout",
     "output_type": "stream",
     "text": [
      "94 CCN(CC)CCn1ccc2cc(NS(=O)(=O)c3ccc4ccccc4c3)ccc21\n"
     ]
    },
    {
     "name": "stderr",
     "output_type": "stream",
     "text": [
      "100%|███████████████████████████████████████████████████████████████████████████| 50016/50016 [05:42<00:00, 146.07it/s]\n"
     ]
    },
    {
     "name": "stdout",
     "output_type": "stream",
     "text": [
      "95 Cc1ccccc1CNc1cc(C(N)=O)cn2c(C)c(C)nc12\n"
     ]
    },
    {
     "name": "stderr",
     "output_type": "stream",
     "text": [
      "100%|███████████████████████████████████████████████████████████████████████████| 50016/50016 [03:58<00:00, 210.04it/s]\n"
     ]
    },
    {
     "name": "stdout",
     "output_type": "stream",
     "text": [
      "96 O=C(Nc1cccc(-c2ncccc2Cl)c1F)[C@@H]1C[C@@H](F)CN1\n"
     ]
    },
    {
     "name": "stderr",
     "output_type": "stream",
     "text": [
      "100%|███████████████████████████████████████████████████████████████████████████| 50016/50016 [03:28<00:00, 239.74it/s]\n"
     ]
    },
    {
     "name": "stdout",
     "output_type": "stream",
     "text": [
      "97 CS(=O)(=O)NC(=O)Cc1csc2cc(OCc3ccc(Cl)cc3Cl)ccc12\n"
     ]
    },
    {
     "name": "stderr",
     "output_type": "stream",
     "text": [
      "100%|███████████████████████████████████████████████████████████████████████████| 50016/50016 [03:14<00:00, 256.92it/s]\n"
     ]
    },
    {
     "name": "stdout",
     "output_type": "stream",
     "text": [
      "98 COCCn1nc(C(C)(C)C)nc1CC(=O)O\n"
     ]
    },
    {
     "name": "stderr",
     "output_type": "stream",
     "text": [
      "100%|███████████████████████████████████████████████████████████████████████████| 50016/50016 [00:55<00:00, 903.84it/s]\n"
     ]
    },
    {
     "name": "stdout",
     "output_type": "stream",
     "text": [
      "99 Cc1ccc(S(=O)(=O)OCC[C@]2(O)CCc3cc(F)ccc3[C@H]2C(C)C)cc1\n"
     ]
    },
    {
     "name": "stderr",
     "output_type": "stream",
     "text": [
      "100%|███████████████████████████████████████████████████████████████████████████| 50016/50016 [05:11<00:00, 160.66it/s]\n"
     ]
    },
    {
     "name": "stdout",
     "output_type": "stream",
     "text": [
      "100 COc1cc(C)nc(-n2cncn2)n1\n"
     ]
    },
    {
     "name": "stderr",
     "output_type": "stream",
     "text": [
      "100%|███████████████████████████████████████████████████████████████████████████| 50016/50016 [01:03<00:00, 788.96it/s]\n"
     ]
    },
    {
     "name": "stdout",
     "output_type": "stream",
     "text": [
      "101 CS(=O)(=O)N1CC(c2c[nH]c3cc(F)ccc23)C2NCCC21\n"
     ]
    },
    {
     "name": "stderr",
     "output_type": "stream",
     "text": [
      "100%|███████████████████████████████████████████████████████████████████████████| 50016/50016 [05:51<00:00, 142.35it/s]\n"
     ]
    },
    {
     "name": "stdout",
     "output_type": "stream",
     "text": [
      "102 COc1cccc(C=NNc2cc(N3CCOCC3)n3nc(-c4ccccc4)cc3n2)c1\n"
     ]
    },
    {
     "name": "stderr",
     "output_type": "stream",
     "text": [
      "100%|███████████████████████████████████████████████████████████████████████████| 50016/50016 [04:20<00:00, 191.66it/s]\n"
     ]
    },
    {
     "name": "stdout",
     "output_type": "stream",
     "text": [
      "103 COc1ccc(Cn2c(C)cc(OCc3ccccc3CN)c(C)c2=O)c(OC)c1\n"
     ]
    },
    {
     "name": "stderr",
     "output_type": "stream",
     "text": [
      "100%|███████████████████████████████████████████████████████████████████████████| 50016/50016 [04:37<00:00, 180.13it/s]\n"
     ]
    },
    {
     "name": "stdout",
     "output_type": "stream",
     "text": [
      "104 CCn1c(=O)n(-c2ccc(O)cc2)c2ncc(Cl)cc21\n"
     ]
    },
    {
     "name": "stderr",
     "output_type": "stream",
     "text": [
      "100%|███████████████████████████████████████████████████████████████████████████| 50016/50016 [03:08<00:00, 265.39it/s]\n"
     ]
    },
    {
     "name": "stdout",
     "output_type": "stream",
     "text": [
      "105 O=C(NCc1ccncc1)c1cc(-c2ccncc2)n[nH]c1=O\n"
     ]
    },
    {
     "name": "stderr",
     "output_type": "stream",
     "text": [
      "100%|███████████████████████████████████████████████████████████████████████████| 50016/50016 [02:33<00:00, 325.72it/s]\n"
     ]
    },
    {
     "name": "stdout",
     "output_type": "stream",
     "text": [
      "106 O=c1[nH]cc(Br)nc1N1CCOCC1\n"
     ]
    },
    {
     "name": "stderr",
     "output_type": "stream",
     "text": [
      "100%|███████████████████████████████████████████████████████████████████████████| 50016/50016 [01:01<00:00, 819.55it/s]\n"
     ]
    },
    {
     "name": "stdout",
     "output_type": "stream",
     "text": [
      "107 COC(=O)C(Cc1cc(OC)cc(OC)c1)c1ccc(Oc2ccc(CC3SC(=O)NC3=O)cc2)cc1\n"
     ]
    },
    {
     "name": "stderr",
     "output_type": "stream",
     "text": [
      "100%|███████████████████████████████████████████████████████████████████████████| 50016/50016 [03:31<00:00, 235.94it/s]\n"
     ]
    },
    {
     "name": "stdout",
     "output_type": "stream",
     "text": [
      "108 CN1CCC[C@H]1COc1cncc(-c2cc(CCCOc3ccccc3)no2)c1\n"
     ]
    },
    {
     "name": "stderr",
     "output_type": "stream",
     "text": [
      "100%|███████████████████████████████████████████████████████████████████████████| 50016/50016 [02:47<00:00, 299.41it/s]\n"
     ]
    },
    {
     "name": "stdout",
     "output_type": "stream",
     "text": [
      "109 CCC(C)(O)C#Cc1ccc(C(CC2CCCC2)C(=O)Nc2nccs2)cc1\n"
     ]
    },
    {
     "name": "stderr",
     "output_type": "stream",
     "text": [
      "100%|███████████████████████████████████████████████████████████████████████████| 50016/50016 [02:23<00:00, 348.52it/s]\n"
     ]
    },
    {
     "name": "stdout",
     "output_type": "stream",
     "text": [
      "110 COC(=O)[C@H](CCN(C(=O)OC(C)(C)C)c1ncc(C=O)s1)NC(=O)OC(C)(C)C\n"
     ]
    },
    {
     "name": "stderr",
     "output_type": "stream",
     "text": [
      "100%|███████████████████████████████████████████████████████████████████████████| 50016/50016 [01:17<00:00, 647.60it/s]\n"
     ]
    },
    {
     "name": "stdout",
     "output_type": "stream",
     "text": [
      "111 Cc1cccc(C)c1C(=O)NC(c1ccccc1)C1(N(Cc2ccccc2)Cc2ccccc2)CCCC1\n"
     ]
    },
    {
     "name": "stderr",
     "output_type": "stream",
     "text": [
      "100%|███████████████████████████████████████████████████████████████████████████| 50016/50016 [04:20<00:00, 192.02it/s]\n"
     ]
    },
    {
     "name": "stdout",
     "output_type": "stream",
     "text": [
      "112 OCC#CCBr\n"
     ]
    },
    {
     "name": "stderr",
     "output_type": "stream",
     "text": [
      "100%|██████████████████████████████████████████████████████████████████████████| 50016/50016 [00:22<00:00, 2229.68it/s]\n"
     ]
    },
    {
     "name": "stdout",
     "output_type": "stream",
     "text": [
      "113 CC(C)(C)OC(=O)NC1CCCCCC=CC2CC2(C(=O)NS(=O)(=O)C2CC2)NC(=O)C2CC(OC(=O)c3ccc4c(c3)OCCO4)CN2C1=O\n"
     ]
    },
    {
     "name": "stderr",
     "output_type": "stream",
     "text": [
      "100%|██████████████████████████████████████████████████████████████████████████| 50016/50016 [2:45:26<00:00,  5.04it/s]\n"
     ]
    },
    {
     "name": "stdout",
     "output_type": "stream",
     "text": [
      "114 CC(C)(C)OC(=O)N1CCC(O)(c2ccccc2S)CC1\n"
     ]
    },
    {
     "name": "stderr",
     "output_type": "stream",
     "text": [
      "100%|███████████████████████████████████████████████████████████████████████████| 50016/50016 [02:47<00:00, 299.09it/s]\n"
     ]
    },
    {
     "name": "stdout",
     "output_type": "stream",
     "text": [
      "115 FC(F)C1CCNc2ccccc21\n"
     ]
    },
    {
     "name": "stderr",
     "output_type": "stream",
     "text": [
      "100%|███████████████████████████████████████████████████████████████████████████| 50016/50016 [02:58<00:00, 279.55it/s]\n"
     ]
    },
    {
     "name": "stdout",
     "output_type": "stream",
     "text": [
      "116 CCS(=O)(=O)CCOc1cc(C(=O)O)c(O)c2ccccc12\n"
     ]
    },
    {
     "name": "stderr",
     "output_type": "stream",
     "text": [
      "100%|███████████████████████████████████████████████████████████████████████████| 50016/50016 [04:53<00:00, 170.31it/s]\n"
     ]
    },
    {
     "name": "stdout",
     "output_type": "stream",
     "text": [
      "117 COc1cc(C=O)ccc1OCc1nnn(Cc2cccc(C(F)(F)F)c2)c1I\n"
     ]
    },
    {
     "name": "stderr",
     "output_type": "stream",
     "text": [
      "100%|███████████████████████████████████████████████████████████████████████████| 50016/50016 [02:41<00:00, 309.05it/s]\n"
     ]
    },
    {
     "name": "stdout",
     "output_type": "stream",
     "text": [
      "118 CCN(CC)CCNC(=O)c1cc(C)[nH]c1C=O\n"
     ]
    },
    {
     "name": "stderr",
     "output_type": "stream",
     "text": [
      "100%|███████████████████████████████████████████████████████████████████████████| 50016/50016 [01:35<00:00, 524.34it/s]\n"
     ]
    },
    {
     "name": "stdout",
     "output_type": "stream",
     "text": [
      "119 COc1ncc(F)nc1C#N\n"
     ]
    },
    {
     "name": "stderr",
     "output_type": "stream",
     "text": [
      "100%|███████████████████████████████████████████████████████████████████████████| 50016/50016 [00:51<00:00, 963.89it/s]\n"
     ]
    },
    {
     "name": "stdout",
     "output_type": "stream",
     "text": [
      "120 COC(=O)c1cc2cc(OCc3ccccc3)ccc2n1S(=O)(=O)c1ccc(Cl)c(Cl)c1\n"
     ]
    },
    {
     "name": "stderr",
     "output_type": "stream",
     "text": [
      "100%|███████████████████████████████████████████████████████████████████████████| 50016/50016 [06:19<00:00, 131.76it/s]\n"
     ]
    },
    {
     "name": "stdout",
     "output_type": "stream",
     "text": [
      "121 COc1cccc([C@H]2C[C@@H](NC(C)(C)c3cccc(C(F)(F)F)n3)C(=O)N2c2ccc(C(F)(F)F)cc2)c1\n"
     ]
    },
    {
     "name": "stderr",
     "output_type": "stream",
     "text": [
      "100%|███████████████████████████████████████████████████████████████████████████| 50016/50016 [06:58<00:00, 119.50it/s]\n"
     ]
    },
    {
     "name": "stdout",
     "output_type": "stream",
     "text": [
      "122 CC(C)Oc1ccc(Nc2ccc(C#N)cc2)c(C(F)(F)F)c1\n"
     ]
    },
    {
     "name": "stderr",
     "output_type": "stream",
     "text": [
      "100%|███████████████████████████████████████████████████████████████████████████| 50016/50016 [02:29<00:00, 333.93it/s]\n"
     ]
    },
    {
     "name": "stdout",
     "output_type": "stream",
     "text": [
      "123 Oc1ccccc1N=Cc1ccc(-c2ccccc2C(F)(F)F)o1\n"
     ]
    },
    {
     "name": "stderr",
     "output_type": "stream",
     "text": [
      "100%|███████████████████████████████████████████████████████████████████████████| 50016/50016 [02:25<00:00, 344.26it/s]\n"
     ]
    },
    {
     "name": "stdout",
     "output_type": "stream",
     "text": [
      "124 CCOC(=O)CCN1CCN(c2nsc3cc(F)ccc23)CC1\n"
     ]
    },
    {
     "name": "stderr",
     "output_type": "stream",
     "text": [
      "100%|███████████████████████████████████████████████████████████████████████████| 50016/50016 [02:39<00:00, 313.97it/s]\n"
     ]
    },
    {
     "name": "stdout",
     "output_type": "stream",
     "text": [
      "125 COC(=O)c1cccn1[Si](C(C)C)(C(C)C)C(C)C\n"
     ]
    },
    {
     "name": "stderr",
     "output_type": "stream",
     "text": [
      "100%|███████████████████████████████████████████████████████████████████████████| 50016/50016 [01:09<00:00, 718.70it/s]\n"
     ]
    },
    {
     "name": "stdout",
     "output_type": "stream",
     "text": [
      "126 CN(C)Cc1c(OCC2CC2)ccc2c(CCC3CCN(Cc4ccc(Cl)cc4)CC3)noc12\n"
     ]
    },
    {
     "name": "stderr",
     "output_type": "stream",
     "text": [
      "100%|███████████████████████████████████████████████████████████████████████████| 50016/50016 [05:55<00:00, 140.56it/s]\n"
     ]
    },
    {
     "name": "stdout",
     "output_type": "stream",
     "text": [
      "127 CCCCC(NC(=O)c1ccccc1)C(O)CN(C)C(=O)N1CCC[C@H]1C(=O)O\n"
     ]
    },
    {
     "name": "stderr",
     "output_type": "stream",
     "text": [
      "100%|███████████████████████████████████████████████████████████████████████████| 50016/50016 [01:55<00:00, 432.09it/s]\n"
     ]
    },
    {
     "name": "stdout",
     "output_type": "stream",
     "text": [
      "128 O=C(NC1CCCc2c1[nH]c1ccc(Br)cc21)OCc1ccccc1\n"
     ]
    },
    {
     "name": "stderr",
     "output_type": "stream",
     "text": [
      "100%|███████████████████████████████████████████████████████████████████████████| 50016/50016 [07:15<00:00, 114.83it/s]\n"
     ]
    },
    {
     "name": "stdout",
     "output_type": "stream",
     "text": [
      "129 C[SiH](C)Oc1c(C(=O)c2cn(C(c3ccccc3)(c3ccccc3)c3ccccc3)cn2)ccc2cc(C(C)(C)C)ccc12\n"
     ]
    },
    {
     "name": "stderr",
     "output_type": "stream",
     "text": [
      "100%|████████████████████████████████████████████████████████████████████████████| 50016/50016 [23:52<00:00, 34.92it/s]\n"
     ]
    },
    {
     "name": "stdout",
     "output_type": "stream",
     "text": [
      "130 O=C1Nc2ccc(F)cc2C1=C1OC(c2ccccc2)c2cc(CO)ccc21\n"
     ]
    },
    {
     "name": "stderr",
     "output_type": "stream",
     "text": [
      "100%|███████████████████████████████████████████████████████████████████████████| 50016/50016 [06:09<00:00, 135.41it/s]\n"
     ]
    },
    {
     "name": "stdout",
     "output_type": "stream",
     "text": [
      "131 CCOC(=O)C1CN(CCCN2c3ccccc3CCc3ccccc32)CCN1\n"
     ]
    },
    {
     "name": "stderr",
     "output_type": "stream",
     "text": [
      "100%|███████████████████████████████████████████████████████████████████████████| 50016/50016 [07:57<00:00, 104.77it/s]\n"
     ]
    },
    {
     "name": "stdout",
     "output_type": "stream",
     "text": [
      "132 CCOC(=O)CC[C@H](NC(=O)CCc1cc(Cl)ccc1C(=O)CCCNC(C)=O)C(=O)OCC\n"
     ]
    },
    {
     "name": "stderr",
     "output_type": "stream",
     "text": [
      "100%|███████████████████████████████████████████████████████████████████████████| 50016/50016 [02:09<00:00, 385.23it/s]\n"
     ]
    },
    {
     "name": "stdout",
     "output_type": "stream",
     "text": [
      "133 N#Cc1ccc(F)cc1N1CCNCC1\n"
     ]
    },
    {
     "name": "stderr",
     "output_type": "stream",
     "text": [
      "100%|███████████████████████████████████████████████████████████████████████████| 50016/50016 [01:48<00:00, 463.07it/s]\n"
     ]
    },
    {
     "name": "stdout",
     "output_type": "stream",
     "text": [
      "134 CS(=O)(=O)c1ccnc2c1c(Sc1ccc(Cl)cc1)c1n2CCCC1CC(=O)O\n"
     ]
    },
    {
     "name": "stderr",
     "output_type": "stream",
     "text": [
      "100%|███████████████████████████████████████████████████████████████████████████| 50016/50016 [06:55<00:00, 120.32it/s]\n"
     ]
    },
    {
     "name": "stdout",
     "output_type": "stream",
     "text": [
      "135 COC(=O)c1cccc2cc(-c3ccc(OCc4c(-c5c(Cl)cccc5Cl)noc4C4CCC4)cc3)ccc12\n"
     ]
    },
    {
     "name": "stderr",
     "output_type": "stream",
     "text": [
      "100%|██████████████████████████████████████████████████████████████████████████| 50016/50016 [1:13:49<00:00, 11.29it/s]\n"
     ]
    },
    {
     "name": "stdout",
     "output_type": "stream",
     "text": [
      "136 Oc1ccc(-c2cc(Cl)c3cc(O)c(Br)cc3c2)cc1\n"
     ]
    },
    {
     "name": "stderr",
     "output_type": "stream",
     "text": [
      "100%|████████████████████████████████████████████████████████████████████████████| 50016/50016 [09:15<00:00, 90.11it/s]\n"
     ]
    },
    {
     "name": "stdout",
     "output_type": "stream",
     "text": [
      "137 CC(C)(C)OC(=O)N1CCNC(C(=O)Nc2ccc3ccccc3c2)C1\n"
     ]
    },
    {
     "name": "stderr",
     "output_type": "stream",
     "text": [
      "100%|███████████████████████████████████████████████████████████████████████████| 50016/50016 [04:16<00:00, 194.66it/s]\n"
     ]
    },
    {
     "name": "stdout",
     "output_type": "stream",
     "text": [
      "138 Nc1c(Br)cccc1[N+](=O)[O-]\n"
     ]
    },
    {
     "name": "stderr",
     "output_type": "stream",
     "text": [
      "100%|███████████████████████████████████████████████████████████████████████████| 50016/50016 [00:54<00:00, 915.30it/s]\n"
     ]
    },
    {
     "name": "stdout",
     "output_type": "stream",
     "text": [
      "139 CCCCCC/C=C/C(=O)NCC1(CC)COCOC1\n"
     ]
    },
    {
     "name": "stderr",
     "output_type": "stream",
     "text": [
      "100%|███████████████████████████████████████████████████████████████████████████| 50016/50016 [00:58<00:00, 858.23it/s]\n"
     ]
    },
    {
     "name": "stdout",
     "output_type": "stream",
     "text": [
      "140 CC(C)C[C@@]1(C(=O)O)C[C@H](c2cnccn2)[C@H](c2cccc(-c3ccccc3)c2)N1C(=O)c1ccc(C(C)(C)C)cc1\n"
     ]
    },
    {
     "name": "stderr",
     "output_type": "stream",
     "text": [
      "100%|████████████████████████████████████████████████████████████████████████████| 50016/50016 [08:36<00:00, 96.88it/s]\n"
     ]
    },
    {
     "name": "stdout",
     "output_type": "stream",
     "text": [
      "141 COC(=O)c1cc(F)cc(CBr)c1\n"
     ]
    },
    {
     "name": "stderr",
     "output_type": "stream",
     "text": [
      "100%|███████████████████████████████████████████████████████████████████████████| 50016/50016 [01:16<00:00, 651.09it/s]\n"
     ]
    },
    {
     "name": "stdout",
     "output_type": "stream",
     "text": [
      "142 CN(C(=O)[C@H]1CCCNC1)c1ccc(F)cc1\n"
     ]
    },
    {
     "name": "stderr",
     "output_type": "stream",
     "text": [
      "100%|███████████████████████████████████████████████████████████████████████████| 50016/50016 [01:54<00:00, 437.45it/s]\n"
     ]
    },
    {
     "name": "stdout",
     "output_type": "stream",
     "text": [
      "143 CCC(=O)Nc1c(OC)ccc(C(=O)CC)c1O\n"
     ]
    },
    {
     "name": "stderr",
     "output_type": "stream",
     "text": [
      "100%|███████████████████████████████████████████████████████████████████████████| 50016/50016 [02:03<00:00, 404.14it/s]\n"
     ]
    },
    {
     "name": "stdout",
     "output_type": "stream",
     "text": [
      "144 COc1cccc2cnccc12\n"
     ]
    },
    {
     "name": "stderr",
     "output_type": "stream",
     "text": [
      "100%|███████████████████████████████████████████████████████████████████████████| 50016/50016 [02:45<00:00, 301.89it/s]\n"
     ]
    },
    {
     "name": "stdout",
     "output_type": "stream",
     "text": [
      "145 C[Si](C)(C)C#Cc1ncn2c(C(F)(F)F)cc(-c3ccc(C(F)(F)F)cc3)nc12\n"
     ]
    },
    {
     "name": "stderr",
     "output_type": "stream",
     "text": [
      "100%|███████████████████████████████████████████████████████████████████████████| 50016/50016 [04:18<00:00, 193.28it/s]\n"
     ]
    },
    {
     "name": "stdout",
     "output_type": "stream",
     "text": [
      "146 CCOc1cc2ncc(C#N)c(NCc3ccc(F)c(F)c3)c2cc1OCC\n"
     ]
    },
    {
     "name": "stderr",
     "output_type": "stream",
     "text": [
      "100%|███████████████████████████████████████████████████████████████████████████| 50016/50016 [06:25<00:00, 129.70it/s]\n"
     ]
    },
    {
     "name": "stdout",
     "output_type": "stream",
     "text": [
      "147 CC#CCOc1cc(NCc2ccccc2)ncn1\n"
     ]
    },
    {
     "name": "stderr",
     "output_type": "stream",
     "text": [
      "100%|███████████████████████████████████████████████████████████████████████████| 50016/50016 [01:28<00:00, 564.55it/s]\n"
     ]
    },
    {
     "name": "stdout",
     "output_type": "stream",
     "text": [
      "148 COc1cnccc1CC(CO)NC(=S)NC(C)(C)C\n"
     ]
    },
    {
     "name": "stderr",
     "output_type": "stream",
     "text": [
      "100%|███████████████████████████████████████████████████████████████████████████| 50016/50016 [01:36<00:00, 519.36it/s]\n"
     ]
    },
    {
     "name": "stdout",
     "output_type": "stream",
     "text": [
      "149 CN1CCc2c(n(CC(=O)Nc3ccc(F)cc3)c3cccc(Cl)c23)C1\n"
     ]
    },
    {
     "name": "stderr",
     "output_type": "stream",
     "text": [
      "100%|███████████████████████████████████████████████████████████████████████████| 50016/50016 [07:28<00:00, 111.46it/s]\n"
     ]
    },
    {
     "name": "stdout",
     "output_type": "stream",
     "text": [
      "150 CCCC[Sn](/C=C/CN(CCO)CCO)(CCCC)CCCC\n"
     ]
    },
    {
     "name": "stderr",
     "output_type": "stream",
     "text": [
      "100%|██████████████████████████████████████████████████████████████████████████| 50016/50016 [00:42<00:00, 1178.14it/s]\n"
     ]
    },
    {
     "name": "stdout",
     "output_type": "stream",
     "text": [
      "151 N#CSCCCCC(CC(F)(C(F)(F)F)C(F)(F)F)C(F)(F)F\n"
     ]
    },
    {
     "name": "stderr",
     "output_type": "stream",
     "text": [
      "100%|██████████████████████████████████████████████████████████████████████████| 50016/50016 [00:44<00:00, 1114.44it/s]\n"
     ]
    },
    {
     "name": "stdout",
     "output_type": "stream",
     "text": [
      "152 C#Cc1ccccc1C(=NOC)C(=O)NC\n"
     ]
    },
    {
     "name": "stderr",
     "output_type": "stream",
     "text": [
      "100%|███████████████████████████████████████████████████████████████████████████| 50016/50016 [01:29<00:00, 560.35it/s]\n"
     ]
    },
    {
     "name": "stdout",
     "output_type": "stream",
     "text": [
      "153 COC(=O)C1CCCC1NCc1ccc(F)cc1\n"
     ]
    },
    {
     "name": "stderr",
     "output_type": "stream",
     "text": [
      "100%|███████████████████████████████████████████████████████████████████████████| 50016/50016 [02:17<00:00, 363.36it/s]\n"
     ]
    },
    {
     "name": "stdout",
     "output_type": "stream",
     "text": [
      "154 COC(=O)c1ccc(OCC2CC2)c(OC)c1\n"
     ]
    },
    {
     "name": "stderr",
     "output_type": "stream",
     "text": [
      "100%|███████████████████████████████████████████████████████████████████████████| 50016/50016 [01:57<00:00, 424.41it/s]\n"
     ]
    },
    {
     "name": "stdout",
     "output_type": "stream",
     "text": [
      "155 Clc1ncc(CNc2nccc3ccccc23)s1\n"
     ]
    },
    {
     "name": "stderr",
     "output_type": "stream",
     "text": [
      "100%|███████████████████████████████████████████████████████████████████████████| 50016/50016 [02:38<00:00, 315.90it/s]\n"
     ]
    },
    {
     "name": "stdout",
     "output_type": "stream",
     "text": [
      "156 COC(=O)c1sc2cc(C3CN(C(=O)OCc4ccccc4)C3)cnc2c1NC(=O)OC(C)(C)C\n"
     ]
    },
    {
     "name": "stderr",
     "output_type": "stream",
     "text": [
      "100%|███████████████████████████████████████████████████████████████████████████| 50016/50016 [04:23<00:00, 190.01it/s]\n"
     ]
    },
    {
     "name": "stdout",
     "output_type": "stream",
     "text": [
      "157 C[C@H](Nc1ncnc2c1ncn2[C@@H]1O[C@H](CO)[C@@H](O)[C@H]1O)c1ccc(Cl)cc1\n"
     ]
    },
    {
     "name": "stderr",
     "output_type": "stream",
     "text": [
      "100%|███████████████████████████████████████████████████████████████████████████| 50016/50016 [03:39<00:00, 228.34it/s]\n"
     ]
    },
    {
     "name": "stdout",
     "output_type": "stream",
     "text": [
      "158 CCOC(=O)c1sc(-c2ccc(Cl)cc2)cc1-c1ccc(S(N)(=O)=O)cc1\n"
     ]
    },
    {
     "name": "stderr",
     "output_type": "stream",
     "text": [
      "100%|███████████████████████████████████████████████████████████████████████████| 50016/50016 [02:58<00:00, 280.13it/s]\n"
     ]
    },
    {
     "name": "stdout",
     "output_type": "stream",
     "text": [
      "159 CCCCOc1cc(/C=C/C(=O)OC)ccc1I\n"
     ]
    },
    {
     "name": "stderr",
     "output_type": "stream",
     "text": [
      "100%|███████████████████████████████████████████████████████████████████████████| 50016/50016 [01:16<00:00, 654.91it/s]\n"
     ]
    },
    {
     "name": "stdout",
     "output_type": "stream",
     "text": [
      "160 N#Cc1cccc(CN2CC[C@H](NS(=O)(=O)C=Cc3ccccc3)C2=O)c1\n"
     ]
    },
    {
     "name": "stderr",
     "output_type": "stream",
     "text": [
      "100%|███████████████████████████████████████████████████████████████████████████| 50016/50016 [02:36<00:00, 320.38it/s]\n"
     ]
    },
    {
     "name": "stdout",
     "output_type": "stream",
     "text": [
      "161 COCc1cnn(-c2c(Cl)cc(C(F)(F)F)cc2Cl)n1\n"
     ]
    },
    {
     "name": "stderr",
     "output_type": "stream",
     "text": [
      "100%|███████████████████████████████████████████████████████████████████████████| 50016/50016 [01:29<00:00, 561.53it/s]\n"
     ]
    },
    {
     "name": "stdout",
     "output_type": "stream",
     "text": [
      "162 O=[N+]([O-])c1ccccc1Oc1cncc(Cl)c1\n"
     ]
    },
    {
     "name": "stderr",
     "output_type": "stream",
     "text": [
      "100%|███████████████████████████████████████████████████████████████████████████| 50016/50016 [01:39<00:00, 504.02it/s]\n"
     ]
    },
    {
     "name": "stdout",
     "output_type": "stream",
     "text": [
      "163 O=C(Nc1cnn2cccnc12)c1csc2cnc(Cl)nc12\n"
     ]
    },
    {
     "name": "stderr",
     "output_type": "stream",
     "text": [
      "100%|███████████████████████████████████████████████████████████████████████████| 50016/50016 [02:31<00:00, 329.53it/s]\n"
     ]
    },
    {
     "name": "stdout",
     "output_type": "stream",
     "text": [
      "164 CC(C)(C)OC(=O)Nc1ccc(-c2cnc(CCCO)nc2)cc1\n"
     ]
    },
    {
     "name": "stderr",
     "output_type": "stream",
     "text": [
      "100%|███████████████████████████████████████████████████████████████████████████| 50016/50016 [02:49<00:00, 294.58it/s]\n"
     ]
    },
    {
     "name": "stdout",
     "output_type": "stream",
     "text": [
      "165 CC(C)(C)OC(=O)N1Cc2ccccc2Oc2ccc(Cl)cc21\n"
     ]
    },
    {
     "name": "stderr",
     "output_type": "stream",
     "text": [
      "100%|███████████████████████████████████████████████████████████████████████████| 50016/50016 [04:46<00:00, 174.40it/s]\n"
     ]
    },
    {
     "name": "stdout",
     "output_type": "stream",
     "text": [
      "166 C[C@H]1COCCN1c1cc(C2(S(=O)(=O)c3cccnc3C(=O)N(C)C)CC2)nc(-c2ccc(NC(=O)Oc3ccccc3)cc2)n1\n"
     ]
    },
    {
     "name": "stderr",
     "output_type": "stream",
     "text": [
      "100%|██████████████████████████████████████████████████████████████████████████| 50016/50016 [2:30:16<00:00,  5.55it/s]\n"
     ]
    },
    {
     "name": "stdout",
     "output_type": "stream",
     "text": [
      "167 CN1CCN(c2ccc([N+](=O)[O-])cc2CC(=O)N[C@@H]2C[C@@H]3C[C@H]2[C@@H](Nc2nc(Cl)ncc2F)[C@H]3C(N)=O)CC1\n"
     ]
    },
    {
     "name": "stderr",
     "output_type": "stream",
     "text": [
      "100%|███████████████████████████████████████████████████████████████████████████| 50016/50016 [05:51<00:00, 142.25it/s]\n"
     ]
    },
    {
     "name": "stdout",
     "output_type": "stream",
     "text": [
      "168 COc1ccc(Cn2ccc(NC(=O)c3c(F)cccc3F)n2)c(Cl)c1\n"
     ]
    },
    {
     "name": "stderr",
     "output_type": "stream",
     "text": [
      "100%|███████████████████████████████████████████████████████████████████████████| 50016/50016 [02:41<00:00, 310.25it/s]\n"
     ]
    },
    {
     "name": "stdout",
     "output_type": "stream",
     "text": [
      "169 O=c1[nH]c2ccccc2cc1C1CCNCC1\n"
     ]
    },
    {
     "name": "stderr",
     "output_type": "stream",
     "text": [
      "100%|███████████████████████████████████████████████████████████████████████████| 50016/50016 [04:28<00:00, 186.15it/s]\n"
     ]
    },
    {
     "name": "stdout",
     "output_type": "stream",
     "text": [
      "170 CC(=O)N1CCC(NS(=O)(=O)c2ccc(OCc3cc(C)nc4ccccc34)cc2)C(C(=O)O)C1\n"
     ]
    },
    {
     "name": "stderr",
     "output_type": "stream",
     "text": [
      "100%|███████████████████████████████████████████████████████████████████████████| 50016/50016 [08:07<00:00, 102.69it/s]\n"
     ]
    },
    {
     "name": "stdout",
     "output_type": "stream",
     "text": [
      "171 C=CCCP(=O)(OCC)OCC\n"
     ]
    },
    {
     "name": "stderr",
     "output_type": "stream",
     "text": [
      "100%|██████████████████████████████████████████████████████████████████████████| 50016/50016 [00:28<00:00, 1733.50it/s]\n"
     ]
    },
    {
     "name": "stdout",
     "output_type": "stream",
     "text": [
      "172 OC1C[N+]2(c3nc(Oc4ccccc4)nc(Oc4ccccc4)n3)CCC1CC2\n"
     ]
    },
    {
     "name": "stderr",
     "output_type": "stream",
     "text": [
      "100%|███████████████████████████████████████████████████████████████████████████| 50016/50016 [02:51<00:00, 291.69it/s]\n"
     ]
    },
    {
     "name": "stdout",
     "output_type": "stream",
     "text": [
      "173 CC(C)(C)c1nc(N2CCC(F)(F)C2)c2nnn(C(=O)c3ccccc3Cl)c2n1\n"
     ]
    },
    {
     "name": "stderr",
     "output_type": "stream",
     "text": [
      "100%|███████████████████████████████████████████████████████████████████████████| 50016/50016 [04:14<00:00, 196.76it/s]\n"
     ]
    },
    {
     "name": "stdout",
     "output_type": "stream",
     "text": [
      "174 CCOC(=O)N1C2CCC1CC(c1ccnc3c(-c4cccc5[nH]ccc45)c(-c4ccncc4)nn13)C2\n"
     ]
    },
    {
     "name": "stderr",
     "output_type": "stream",
     "text": [
      "100%|████████████████████████████████████████████████████████████████████████████| 50016/50016 [45:40<00:00, 18.25it/s]\n"
     ]
    },
    {
     "name": "stdout",
     "output_type": "stream",
     "text": [
      "175 Cc1cc(C(=O)N(C)C)ccc1C(=O)Nc1ccc(Cl)c(-c2ccccn2)c1\n"
     ]
    },
    {
     "name": "stderr",
     "output_type": "stream",
     "text": [
      "100%|███████████████████████████████████████████████████████████████████████████| 50016/50016 [05:09<00:00, 161.59it/s]\n"
     ]
    },
    {
     "name": "stdout",
     "output_type": "stream",
     "text": [
      "176 COC(=O)c1ccc2c(C3CCCCC3)c(-c3ccc4nc(-c5sc(C)nc5C)ccc4c3)n(CC(=O)N(C)C)c2c1\n"
     ]
    },
    {
     "name": "stderr",
     "output_type": "stream",
     "text": [
      "100%|████████████████████████████████████████████████████████████████████████████| 50016/50016 [30:00<00:00, 27.78it/s]\n"
     ]
    },
    {
     "name": "stdout",
     "output_type": "stream",
     "text": [
      "177 CC(O)[C@H]1CC[C@H](CNC(=O)OCc2ccccc2)CC1\n"
     ]
    },
    {
     "name": "stderr",
     "output_type": "stream",
     "text": [
      "100%|███████████████████████████████████████████████████████████████████████████| 50016/50016 [01:51<00:00, 448.45it/s]\n"
     ]
    },
    {
     "name": "stdout",
     "output_type": "stream",
     "text": [
      "178 CC[C@H](C)[C@@H](CN(CC(=O)N[C@@H](CCSC)C(=O)OC)Cc1cccc2ccccc12)NC(=O)COCc1ccccc1\n"
     ]
    },
    {
     "name": "stderr",
     "output_type": "stream",
     "text": [
      "100%|███████████████████████████████████████████████████████████████████████████| 50016/50016 [03:32<00:00, 235.24it/s]\n"
     ]
    },
    {
     "name": "stdout",
     "output_type": "stream",
     "text": [
      "179 CNC(=O)[C@H]1CCCN(CC(=O)NCC(=O)N(C)c2ccc(Cl)c(COc3cccc4c3nc(OC)n4Cc3ccccn3)c2Cl)C1\n"
     ]
    },
    {
     "name": "stderr",
     "output_type": "stream",
     "text": [
      "100%|██████████████████████████████████████████████████████████████████████████| 50016/50016 [1:51:06<00:00,  7.50it/s]\n"
     ]
    },
    {
     "name": "stdout",
     "output_type": "stream",
     "text": [
      "180 O=C1C[C@H](COC(=O)c2ccccc2)[C@@H](COC(=O)c2ccccc2)C1\n"
     ]
    },
    {
     "name": "stderr",
     "output_type": "stream",
     "text": [
      "100%|███████████████████████████████████████████████████████████████████████████| 50016/50016 [02:41<00:00, 309.30it/s]\n"
     ]
    },
    {
     "name": "stdout",
     "output_type": "stream",
     "text": [
      "181 Cc1ccc(C(NC(=O)Cc2ccc3oc(C(=O)c4c(C)noc4C)cc3c2)c2ccccc2)c(C)c1\n"
     ]
    },
    {
     "name": "stderr",
     "output_type": "stream",
     "text": [
      "100%|████████████████████████████████████████████████████████████████████████████| 50016/50016 [10:11<00:00, 81.82it/s]\n"
     ]
    },
    {
     "name": "stdout",
     "output_type": "stream",
     "text": [
      "182 CC(C)CNC1CCN(C(=O)OC(C)(C)C)CC1\n"
     ]
    },
    {
     "name": "stderr",
     "output_type": "stream",
     "text": [
      "100%|███████████████████████████████████████████████████████████████████████████| 50016/50016 [02:19<00:00, 358.54it/s]\n"
     ]
    },
    {
     "name": "stdout",
     "output_type": "stream",
     "text": [
      "183 COC(=O)c1ccc2c(CO)cnc(-c3c(F)cc(F)cc3F)c2c1\n"
     ]
    },
    {
     "name": "stderr",
     "output_type": "stream",
     "text": [
      "100%|████████████████████████████████████████████████████████████████████████████| 50016/50016 [11:00<00:00, 75.71it/s]\n"
     ]
    },
    {
     "name": "stdout",
     "output_type": "stream",
     "text": [
      "184 CC(C)[C@H]1CC[C@@H](Oc2ccc3cc(CN4CCN(c5ccccn5)CC4)ccc3c2)CC1\n"
     ]
    },
    {
     "name": "stderr",
     "output_type": "stream",
     "text": [
      "100%|████████████████████████████████████████████████████████████████████████████| 50016/50016 [08:58<00:00, 92.91it/s]\n"
     ]
    },
    {
     "name": "stdout",
     "output_type": "stream",
     "text": [
      "185 CCOP(=O)(Cc1ccccc1C=NNC(N)=S)OCC\n"
     ]
    },
    {
     "name": "stderr",
     "output_type": "stream",
     "text": [
      "100%|███████████████████████████████████████████████████████████████████████████| 50016/50016 [01:27<00:00, 570.13it/s]\n"
     ]
    },
    {
     "name": "stdout",
     "output_type": "stream",
     "text": [
      "186 FC(F)(F)c1ccc(N2CCN(Cc3cn4cc(Cl)ccc4n3)CC2)nc1\n"
     ]
    },
    {
     "name": "stderr",
     "output_type": "stream",
     "text": [
      "100%|███████████████████████████████████████████████████████████████████████████| 50016/50016 [04:08<00:00, 201.03it/s]\n"
     ]
    },
    {
     "name": "stdout",
     "output_type": "stream",
     "text": [
      "187 CCCc1nc2c(C)cc(-c3nc4ccccc4n3C)cc2n1Cc1ccc(-c2ccccc2C(=O)O)cc1\n"
     ]
    },
    {
     "name": "stderr",
     "output_type": "stream",
     "text": [
      "100%|████████████████████████████████████████████████████████████████████████████| 50016/50016 [18:23<00:00, 45.31it/s]\n"
     ]
    },
    {
     "name": "stdout",
     "output_type": "stream",
     "text": [
      "188 CCOC(=O)C(=Cc1cn(C(=O)OCc2ccccc2)c2ccc(C(=O)OC)cc12)[N+](=O)[O-]\n"
     ]
    },
    {
     "name": "stderr",
     "output_type": "stream",
     "text": [
      "100%|███████████████████████████████████████████████████████████████████████████| 50016/50016 [05:47<00:00, 143.98it/s]\n"
     ]
    },
    {
     "name": "stdout",
     "output_type": "stream",
     "text": [
      "189 COc1ccc(CN(c2ncns2)S(=O)(=O)c2ccc(Cc3ccc(C(F)(F)F)cc3OC)c(C#N)c2)c(OC)c1\n"
     ]
    },
    {
     "name": "stderr",
     "output_type": "stream",
     "text": [
      "100%|███████████████████████████████████████████████████████████████████████████| 50016/50016 [05:03<00:00, 165.01it/s]\n"
     ]
    },
    {
     "name": "stdout",
     "output_type": "stream",
     "text": [
      "190 C#CC1CN(c2cc3c(cc2F)c(=O)c(C(=O)O)cn3CC)CCN1\n"
     ]
    },
    {
     "name": "stderr",
     "output_type": "stream",
     "text": [
      "100%|████████████████████████████████████████████████████████████████████████████| 50016/50016 [08:39<00:00, 96.31it/s]\n"
     ]
    },
    {
     "name": "stdout",
     "output_type": "stream",
     "text": [
      "191 COc1ccc(C(=O)O)c(-c2ccc(F)cc2)c1\n"
     ]
    },
    {
     "name": "stderr",
     "output_type": "stream",
     "text": [
      "100%|███████████████████████████████████████████████████████████████████████████| 50016/50016 [03:48<00:00, 218.57it/s]\n"
     ]
    },
    {
     "name": "stdout",
     "output_type": "stream",
     "text": [
      "192 OC/C(=C/C1CCCC1)c1ccc(Br)cc1\n"
     ]
    },
    {
     "name": "stderr",
     "output_type": "stream",
     "text": [
      "100%|███████████████████████████████████████████████████████████████████████████| 50016/50016 [01:28<00:00, 562.54it/s]\n"
     ]
    },
    {
     "name": "stdout",
     "output_type": "stream",
     "text": [
      "193 COc1ccc(S(=O)(=O)Nc2cccc3c2Nc2ccccc2CN3C(C)=O)cc1\n"
     ]
    },
    {
     "name": "stderr",
     "output_type": "stream",
     "text": [
      "100%|███████████████████████████████████████████████████████████████████████████| 50016/50016 [07:56<00:00, 105.07it/s]\n"
     ]
    },
    {
     "name": "stdout",
     "output_type": "stream",
     "text": [
      "194 NCc1ccc(OCc2ccccn2)cc1\n"
     ]
    },
    {
     "name": "stderr",
     "output_type": "stream",
     "text": [
      "100%|███████████████████████████████████████████████████████████████████████████| 50016/50016 [02:01<00:00, 411.95it/s]\n"
     ]
    },
    {
     "name": "stdout",
     "output_type": "stream",
     "text": [
      "195 O=S(CCCCCOc1ccc(C2=C(c3ccccc3)CCCc3cc(O)ccc32)cc1)CCCC(F)(F)F\n"
     ]
    },
    {
     "name": "stderr",
     "output_type": "stream",
     "text": [
      "100%|███████████████████████████████████████████████████████████████████████████| 50016/50016 [07:51<00:00, 106.01it/s]\n"
     ]
    },
    {
     "name": "stdout",
     "output_type": "stream",
     "text": [
      "196 CCOC(=O)[C@@H](CCCCCC1CCN(C(=O)OCc2ccccc2)CC1)N[C@H]1COc2ccccc2N(CC(=O)OC(C)(C)C)C1=O\n"
     ]
    },
    {
     "name": "stderr",
     "output_type": "stream",
     "text": [
      "100%|███████████████████████████████████████████████████████████████████████████| 50016/50016 [06:58<00:00, 119.54it/s]\n"
     ]
    },
    {
     "name": "stdout",
     "output_type": "stream",
     "text": [
      "197 O=C(N/N=C/c1ccccc1C(F)(F)F)c1ccc2ccccc2c1\n"
     ]
    },
    {
     "name": "stderr",
     "output_type": "stream",
     "text": [
      "100%|███████████████████████████████████████████████████████████████████████████| 50016/50016 [05:13<00:00, 159.77it/s]\n"
     ]
    },
    {
     "name": "stdout",
     "output_type": "stream",
     "text": [
      "198 COC(=O)c1ccccc1CSc1ccccc1NS(=O)(=O)c1cc2ccccc2o1\n"
     ]
    },
    {
     "name": "stderr",
     "output_type": "stream",
     "text": [
      "100%|███████████████████████████████████████████████████████████████████████████| 50016/50016 [04:23<00:00, 189.82it/s]\n"
     ]
    },
    {
     "name": "stdout",
     "output_type": "stream",
     "text": [
      "199 O=C(NCC(=O)N1CCC(Oc2cccc(C(F)(F)F)c2)CC1)c1cn(-c2ccccc2)cn1\n"
     ]
    },
    {
     "name": "stderr",
     "output_type": "stream",
     "text": [
      "100%|███████████████████████████████████████████████████████████████████████████| 50016/50016 [05:26<00:00, 153.01it/s]\n"
     ]
    }
   ],
   "source": [
    "# finding the most similar molecule in dataset\n",
    "import math\n",
    "from tqdm import tqdm\n",
    "\n",
    "Tam_Sims = {}\n",
    "rdkit_MCS_Sims = {}\n",
    "fast_MCS_Sims = {}\n",
    "hybrid_Sims = {}\n",
    "\n",
    "molecules = np.random.choice(all_molecules, 200)\n",
    "for i, mol1 in enumerate(molecules):\n",
    "    smiles = Chem.MolToSmiles(mol1)\n",
    "    print (i, smiles)\n",
    "    recorder1 = sim_recorder(all_smiles[i])\n",
    "    recorder2 = sim_recorder(all_smiles[i])\n",
    "    recorder3 = sim_recorder(all_smiles[i])\n",
    "    recorder4 = sim_recorder(all_smiles[i])\n",
    "    for j, mol2 in tqdm(enumerate(all_molecules), total=len(all_molecules)):\n",
    "        if all_smiles[j] == smiles:\n",
    "            t1, t2, t3, t4 = 0, 0, 0, 0\n",
    "            sim1, sim2, sim3, sim4 = 0, 0, 0, 0\n",
    "        else:\n",
    "            t1, sim1 = Tam_Sim(mol1, mol2)\n",
    "            t2, sim2 = rdkit_MCS_Sim(mol1, mol2)\n",
    "            t3, sim3 = fast_MCS_Sim(mol1, mol2)\n",
    "            t4 = t1+t3\n",
    "            sim4 = math.sqrt(sim1*sim3) # hybrid similarity\n",
    "        recorder1.record(t1, sim1)\n",
    "        recorder2.record(t2, sim2)\n",
    "        recorder3.record(t3, sim3)\n",
    "        recorder4.record(t4, sim4)\n",
    "    Tam_Sims[i] = recorder1.summerize(all_smiles)\n",
    "    rdkit_MCS_Sims[i] = recorder2.summerize(all_smiles)\n",
    "    fast_MCS_Sims[i] = recorder3.summerize(all_smiles)\n",
    "    hybrid_Sims[i] = recorder4.summerize(all_smiles)"
   ]
  },
  {
   "cell_type": "code",
   "execution_count": 3,
   "id": "cd93b315",
   "metadata": {},
   "outputs": [
    {
     "data": {
      "text/plain": [
       "(0.008061747652379126, 0.0003404199156263734)"
      ]
     },
     "execution_count": 3,
     "metadata": {},
     "output_type": "execute_result"
    }
   ],
   "source": [
    "import numpy as np\n",
    "\n",
    "def get_average_time(d):\n",
    "    return np.mean([v[0] for v in d.values()])\n",
    "\n",
    "get_average_time(rdkit_MCS_Sims), get_average_time(fast_MCS_Sims)"
   ]
  },
  {
   "cell_type": "code",
   "execution_count": 10,
   "id": "1f3ebf34",
   "metadata": {},
   "outputs": [],
   "source": [
    "smiles_list = [Chem.MolToSmiles(mol) for mol in molecules]"
   ]
  },
  {
   "cell_type": "code",
   "execution_count": 19,
   "id": "a7ebddac",
   "metadata": {},
   "outputs": [
    {
     "data": {
      "text/html": [
       "<div>\n",
       "<style scoped>\n",
       "    .dataframe tbody tr th:only-of-type {\n",
       "        vertical-align: middle;\n",
       "    }\n",
       "\n",
       "    .dataframe tbody tr th {\n",
       "        vertical-align: top;\n",
       "    }\n",
       "\n",
       "    .dataframe thead th {\n",
       "        text-align: right;\n",
       "    }\n",
       "</style>\n",
       "<table border=\"1\" class=\"dataframe\">\n",
       "  <thead>\n",
       "    <tr style=\"text-align: right;\">\n",
       "      <th></th>\n",
       "      <th>time</th>\n",
       "      <th>similar_mols</th>\n",
       "      <th>smiles</th>\n",
       "    </tr>\n",
       "  </thead>\n",
       "  <tbody>\n",
       "    <tr>\n",
       "      <th>0</th>\n",
       "      <td>5.878342</td>\n",
       "      <td>[(CN(Cc1nc2c(C(=O)O)cccc2[nH]1)C1CCCc2cccnc21,...</td>\n",
       "      <td>CN(CC(=O)O)C1CCCc2cccnc21</td>\n",
       "    </tr>\n",
       "    <tr>\n",
       "      <th>1</th>\n",
       "      <td>5.742337</td>\n",
       "      <td>[(O=C(O)c1ccc(N2CCCC2=O)cc1, 0.571428571428571...</td>\n",
       "      <td>O=C1CCCCN1c1ccc(CO)cc1</td>\n",
       "    </tr>\n",
       "    <tr>\n",
       "      <th>2</th>\n",
       "      <td>4.818929</td>\n",
       "      <td>[(CC(C)(C)OCC(F)(F)F, 0.3333333333333333), (Cc...</td>\n",
       "      <td>CC(C)(C)OCCCCl</td>\n",
       "    </tr>\n",
       "    <tr>\n",
       "      <th>3</th>\n",
       "      <td>7.661297</td>\n",
       "      <td>[(CN(C)C(=O)C(=O)c1c[nH]c2ccc(NS(=O)(=O)c3ccc4...</td>\n",
       "      <td>CCN(CC)CCc1c[nH]c2ccc(N(CC)S(=O)(=O)c3ccc4cccc...</td>\n",
       "    </tr>\n",
       "    <tr>\n",
       "      <th>4</th>\n",
       "      <td>7.291514</td>\n",
       "      <td>[(CC(=O)Nc1cc2nc(C)c(-c3cc(NC(=O)OC(C)(C)C)c(F...</td>\n",
       "      <td>C=C(C)OC(=O)Nc1cc(-c2cc3cnc(SC)nc3nc2C)c(Br)cc1F</td>\n",
       "    </tr>\n",
       "    <tr>\n",
       "      <th>...</th>\n",
       "      <td>...</td>\n",
       "      <td>...</td>\n",
       "      <td>...</td>\n",
       "    </tr>\n",
       "    <tr>\n",
       "      <th>195</th>\n",
       "      <td>9.358720</td>\n",
       "      <td>[(Oc1ccc2c(c1)CCCC(c1ccccc1)=C2c1ccc(OCCCCCCCl...</td>\n",
       "      <td>O=S(CCCCCOc1ccc(C2=C(c3ccccc3)CCCc3cc(O)ccc32)...</td>\n",
       "    </tr>\n",
       "    <tr>\n",
       "      <th>196</th>\n",
       "      <td>11.295119</td>\n",
       "      <td>[(CCOC(=O)[C@@H](CCCCCCC1CCN(C(=O)OCc2ccccc2)C...</td>\n",
       "      <td>CCOC(=O)[C@@H](CCCCCC1CCN(C(=O)OCc2ccccc2)CC1)...</td>\n",
       "    </tr>\n",
       "    <tr>\n",
       "      <th>197</th>\n",
       "      <td>8.064274</td>\n",
       "      <td>[(O=C(NN=Cc1cccc2ccccc12)c1cc2ccccc2cc1O, 0.44...</td>\n",
       "      <td>O=C(N/N=C/c1ccccc1C(F)(F)F)c1ccc2ccccc2c1</td>\n",
       "    </tr>\n",
       "    <tr>\n",
       "      <th>198</th>\n",
       "      <td>8.755962</td>\n",
       "      <td>[(COC(=O)c1cccc(CSc2ccc(F)cc2NS(=O)(=O)c2cc3cc...</td>\n",
       "      <td>COC(=O)c1ccccc1CSc1ccccc1NS(=O)(=O)c1cc2ccccc2o1</td>\n",
       "    </tr>\n",
       "    <tr>\n",
       "      <th>199</th>\n",
       "      <td>9.276343</td>\n",
       "      <td>[(O=C(NCC(=O)N1CCC(Oc2cccc(C(F)(F)F)c2)CC1)c1c...</td>\n",
       "      <td>O=C(NCC(=O)N1CCC(Oc2cccc(C(F)(F)F)c2)CC1)c1cn(...</td>\n",
       "    </tr>\n",
       "  </tbody>\n",
       "</table>\n",
       "<p>200 rows × 3 columns</p>\n",
       "</div>"
      ],
      "text/plain": [
       "          time                                       similar_mols  \\\n",
       "0     5.878342  [(CN(Cc1nc2c(C(=O)O)cccc2[nH]1)C1CCCc2cccnc21,...   \n",
       "1     5.742337  [(O=C(O)c1ccc(N2CCCC2=O)cc1, 0.571428571428571...   \n",
       "2     4.818929  [(CC(C)(C)OCC(F)(F)F, 0.3333333333333333), (Cc...   \n",
       "3     7.661297  [(CN(C)C(=O)C(=O)c1c[nH]c2ccc(NS(=O)(=O)c3ccc4...   \n",
       "4     7.291514  [(CC(=O)Nc1cc2nc(C)c(-c3cc(NC(=O)OC(C)(C)C)c(F...   \n",
       "..         ...                                                ...   \n",
       "195   9.358720  [(Oc1ccc2c(c1)CCCC(c1ccccc1)=C2c1ccc(OCCCCCCCl...   \n",
       "196  11.295119  [(CCOC(=O)[C@@H](CCCCCCC1CCN(C(=O)OCc2ccccc2)C...   \n",
       "197   8.064274  [(O=C(NN=Cc1cccc2ccccc12)c1cc2ccccc2cc1O, 0.44...   \n",
       "198   8.755962  [(COC(=O)c1cccc(CSc2ccc(F)cc2NS(=O)(=O)c2cc3cc...   \n",
       "199   9.276343  [(O=C(NCC(=O)N1CCC(Oc2cccc(C(F)(F)F)c2)CC1)c1c...   \n",
       "\n",
       "                                                smiles  \n",
       "0                            CN(CC(=O)O)C1CCCc2cccnc21  \n",
       "1                               O=C1CCCCN1c1ccc(CO)cc1  \n",
       "2                                       CC(C)(C)OCCCCl  \n",
       "3    CCN(CC)CCc1c[nH]c2ccc(N(CC)S(=O)(=O)c3ccc4cccc...  \n",
       "4     C=C(C)OC(=O)Nc1cc(-c2cc3cnc(SC)nc3nc2C)c(Br)cc1F  \n",
       "..                                                 ...  \n",
       "195  O=S(CCCCCOc1ccc(C2=C(c3ccccc3)CCCc3cc(O)ccc32)...  \n",
       "196  CCOC(=O)[C@@H](CCCCCC1CCN(C(=O)OCc2ccccc2)CC1)...  \n",
       "197          O=C(N/N=C/c1ccccc1C(F)(F)F)c1ccc2ccccc2c1  \n",
       "198   COC(=O)c1ccccc1CSc1ccccc1NS(=O)(=O)c1cc2ccccc2o1  \n",
       "199  O=C(NCC(=O)N1CCC(Oc2cccc(C(F)(F)F)c2)CC1)c1cn(...  \n",
       "\n",
       "[200 rows x 3 columns]"
      ]
     },
     "execution_count": 19,
     "metadata": {},
     "output_type": "execute_result"
    }
   ],
   "source": [
    "df = pd.DataFrame.from_dict(Tam_Sims, orient = 'index')\n",
    "df.columns = ['time', 'similar_mols']\n",
    "df['smiles'] = smiles_list\n",
    "df['time'] = [t*len(all_molecules) for t in df['time']]\n",
    "df.to_csv('Tam_Sims.csv')\n",
    "df"
   ]
  }
 ],
 "metadata": {
  "kernelspec": {
   "display_name": "Python 3 (ipykernel)",
   "language": "python",
   "name": "python3"
  },
  "language_info": {
   "codemirror_mode": {
    "name": "ipython",
    "version": 3
   },
   "file_extension": ".py",
   "mimetype": "text/x-python",
   "name": "python",
   "nbconvert_exporter": "python",
   "pygments_lexer": "ipython3",
   "version": "3.9.7"
  }
 },
 "nbformat": 4,
 "nbformat_minor": 5
}
