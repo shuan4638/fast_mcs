{
 "cells": [
  {
   "cell_type": "code",
   "execution_count": null,
   "id": "21ad1659",
   "metadata": {},
   "outputs": [],
   "source": [
    "from MCS_similarity import *\n",
    "import pandas as pd\n",
    "\n",
    "df = pd.read_csv('USPTO_mutations.csv')\n",
    "all_smiles = df['molecule'].tolist()\n",
    "all_mutations = df['mutations'].tolist()"
   ]
  },
  {
   "cell_type": "code",
   "execution_count": null,
   "id": "53675b31",
   "metadata": {},
   "outputs": [],
   "source": [
    "idxs = np.random.choice(df.index.tolist(), 200)\n",
    "smiles_list = [all_smiles[i] for i in idxs]\n",
    "len(smiles_list)"
   ]
  },
  {
   "cell_type": "code",
   "execution_count": null,
   "id": "e7c4cc6c",
   "metadata": {},
   "outputs": [],
   "source": [
    "# finding the most similar molecule in dataset\n",
    "import math\n",
    "from tqdm import tqdm\n",
    "\n",
    "Tan_Sims = {}\n",
    "rdkit_MCS_Sims = {}\n",
    "fast_MCS_Sims = {}\n",
    "hybrid_Sims = {}\n",
    "\n",
    "for i, j in enumerate(idxs):\n",
    "    smi1 = all_smiles[i]\n",
    "    mol1 = Chem.MolFromSmiles(smi1)\n",
    "    print (i, j, smi1)\n",
    "    recorder1 = sim_recorder(smi1)\n",
    "    recorder2 = sim_recorder(smi1)\n",
    "    recorder3 = sim_recorder(smi1)\n",
    "    recorder4 = sim_recorder(smi1)\n",
    "    mutations = eval(all_mutations[i])\n",
    "    for smi2 in mutations:\n",
    "        mol2 = Chem.MolFromSmiles(smi2)\n",
    "        t1, sim1 = Tanimoto_Sim(mol1, mol2)\n",
    "        t2, sim2 = rdkit_MCS_Sim(mol1, mol2)\n",
    "        t3, sim3 = fast_MCS_Sim(mol1, mol2)\n",
    "        t4 = t1+t3\n",
    "        sim4 = math.sqrt(sim1*sim3) # hybrid similarity\n",
    "        recorder1.record(t1, sim1)\n",
    "        recorder2.record(t2, sim2)\n",
    "        recorder3.record(t3, sim3)\n",
    "        recorder4.record(t4, sim4)\n",
    "    Tan_Sims[i] = recorder1.summerize(mutations)\n",
    "    rdkit_MCS_Sims[i] = recorder2.summerize(mutations)\n",
    "    fast_MCS_Sims[i] = recorder3.summerize(mutations)\n",
    "    hybrid_Sims[i] = recorder4.summerize(mutations)"
   ]
  },
  {
   "cell_type": "code",
   "execution_count": null,
   "id": "4191e74d",
   "metadata": {},
   "outputs": [],
   "source": [
    "output_dict = {'Tanimoto': Tan_Sims, 'fast_MCS': fast_MCS_Sims, 'rdkit_MCS':rdkit_MCS_Sims, 'hybrid': hybrid_Sims}\n",
    "for k, v in output_dict.items():\n",
    "    print (k)\n",
    "    df = pd.DataFrame.from_dict(v, orient = 'index')\n",
    "    df.columns = ['time', 'similar_mols']\n",
    "    df['smiles'] = [all_smiles[i] for i in v.keys()]\n",
    "    df.to_csv('outputs/%s_Mutations.csv' % k)"
   ]
  }
 ],
 "metadata": {
  "kernelspec": {
   "display_name": "rdenv",
   "language": "python",
   "name": "rdenv"
  },
  "language_info": {
   "codemirror_mode": {
    "name": "ipython",
    "version": 3
   },
   "file_extension": ".py",
   "mimetype": "text/x-python",
   "name": "python",
   "nbconvert_exporter": "python",
   "pygments_lexer": "ipython3",
   "version": "3.9.7"
  }
 },
 "nbformat": 4,
 "nbformat_minor": 5
}
