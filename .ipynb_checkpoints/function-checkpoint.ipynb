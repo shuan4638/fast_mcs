{
 "cells": [
  {
   "cell_type": "code",
   "execution_count": 1,
   "id": "db013096",
   "metadata": {},
   "outputs": [
    {
     "data": {
      "image/png": "[encoded data removed]",
      "text/plain": [
       "<rdkit.Chem.rdchem.Mol at 0x2aa5810dbe0>"
      ]
     },
     "execution_count": 1,
     "metadata": {},
     "output_type": "execute_result"
    }
   ],
   "source": [
    "from rdkit import Chem\n",
    "\n",
    "smi = 'CCCc1ccccc1'\n",
    "mol = Chem.MolFromSmiles(smi)\n",
    "mol"
   ]
  },
  {
   "cell_type": "code",
   "execution_count": 4,
   "id": "7a557535",
   "metadata": {},
   "outputs": [],
   "source": []
  },
  {
   "cell_type": "code",
   "execution_count": 12,
   "id": "dd7b1e70",
   "metadata": {},
   "outputs": [
    {
     "data": {
      "text/plain": [
       "[[0, 1, 2, 3], [5, 6, 7]]"
      ]
     },
     "execution_count": 12,
     "metadata": {},
     "output_type": "execute_result"
    }
   ],
   "source": [
    "from rdkit.Chem import AllChem\n",
    "import time\n",
    "\n",
    "def dfs(node, graph, subgraph, visited, nodes):\n",
    "    visited.add(node)\n",
    "    for neighbor in graph[node]:\n",
    "        if neighbor in nodes and neighbor not in visited:\n",
    "            subgraph.append(neighbor)\n",
    "            dfs(neighbor, graph, subgraph, visited, nodes)\n",
    "\n",
    "def largest_subgraph(graph, nodes):\n",
    "    subgraphs = []\n",
    "    visited = set()\n",
    "    for node in nodes:\n",
    "        if node not in visited:\n",
    "            subgraph = [node]\n",
    "            dfs(node, graph, subgraph, visited, nodes)\n",
    "            subgraphs.append(subgraph)\n",
    "    return subgraphs\n",
    "\n",
    "def find_largest_frag(mol, atoms_to_use):\n",
    "    if len(atoms_to_use) == 0:\n",
    "        return ''\n",
    "    graph = {atom.GetIdx(): [n.GetIdx() for n in atom.GetNeighbors()] for atom in mol.GetAtoms()}\n",
    "    expanded_atoms_to_use = set(atoms_to_use)\n",
    "    [expanded_atoms_to_use.update(graph[idx]) for idx in atoms_to_use]\n",
    "    subgraphs = largest_subgraph(graph, expanded_atoms_to_use)\n",
    "    return subgraphs\n",
    "\n",
    "atoms_to_use = [1,2,6]\n",
    "m = find_largest_frag(mol, atoms_to_use)\n",
    "m\n",
    "# Chem.MolFromSmarts(m)"
   ]
  },
  {
   "cell_type": "code",
   "execution_count": 45,
   "id": "5d5d5ece",
   "metadata": {},
   "outputs": [
    {
     "data": {
      "text/plain": [
       "(array([0, 1, 1, 2, 2, 3, 3, 3, 4, 4, 5, 5, 6, 6, 7, 7, 8, 8], dtype=int64),\n",
       " array([1, 0, 2, 1, 3, 2, 4, 8, 3, 5, 4, 6, 5, 7, 6, 8, 3, 7], dtype=int64))"
      ]
     },
     "execution_count": 45,
     "metadata": {},
     "output_type": "execute_result"
    }
   ],
   "source": [
    "import numpy as np\n",
    "\n",
    "adj = Chem.GetAdjacencyMatrix(mol)\n",
    "raw, col = np.where(adj)\n",
    "\n",
    "# for a in atoms_to_use:\n",
    "#     print (a, adj[a])"
   ]
  },
  {
   "cell_type": "code",
   "execution_count": 14,
   "id": "c722c057",
   "metadata": {},
   "outputs": [
    {
     "ename": "ArgumentError",
     "evalue": "Python argument types in\n    rdkit.Chem.rdchem.GetMolSubstanceGroupWithIdx(Mol, list)\ndid not match C++ signature:\n    GetMolSubstanceGroupWithIdx(class RDKit::ROMol {lvalue}, unsigned int)",
     "output_type": "error",
     "traceback": [
      "\u001b[1;31m---------------------------------------------------------------------------\u001b[0m",
      "\u001b[1;31mArgumentError\u001b[0m                             Traceback (most recent call last)",
      "Input \u001b[1;32mIn [14]\u001b[0m, in \u001b[0;36m<module>\u001b[1;34m\u001b[0m\n\u001b[1;32m----> 1\u001b[0m \u001b[43mChem\u001b[49m\u001b[38;5;241;43m.\u001b[39;49m\u001b[43mGetMolSubstanceGroupWithIdx\u001b[49m\u001b[43m(\u001b[49m\u001b[43mmol\u001b[49m\u001b[43m,\u001b[49m\u001b[43m \u001b[49m\u001b[43matoms_to_use\u001b[49m\u001b[43m)\u001b[49m\n",
      "\u001b[1;31mArgumentError\u001b[0m: Python argument types in\n    rdkit.Chem.rdchem.GetMolSubstanceGroupWithIdx(Mol, list)\ndid not match C++ signature:\n    GetMolSubstanceGroupWithIdx(class RDKit::ROMol {lvalue}, unsigned int)"
     ]
    }
   ],
   "source": [
    "Chem.GetMolSubstanceGroupWithIdx(mol, atoms_to_use)"
   ]
  },
  {
   "cell_type": "code",
   "execution_count": 11,
   "id": "c55d7923",
   "metadata": {},
   "outputs": [
    {
     "data": {
      "image/png": "[encoded data removed]",
      "text/plain": [
       "<rdkit.Chem.rdchem.Mol at 0x1d15c661120>"
      ]
     },
     "execution_count": 11,
     "metadata": {},
     "output_type": "execute_result"
    }
   ],
   "source": [
    "mol_frags = Chem.GetMolFrags(mol, asMols=True)\n",
    "mol_frags[0]"
   ]
  }
 ],
 "metadata": {
  "kernelspec": {
   "display_name": "Python 3 (ipykernel)",
   "language": "python",
   "name": "python3"
  },
  "language_info": {
   "codemirror_mode": {
    "name": "ipython",
    "version": 3
   },
   "file_extension": ".py",
   "mimetype": "text/x-python",
   "name": "python",
   "nbconvert_exporter": "python",
   "pygments_lexer": "ipython3",
   "version": "3.9.7"
  }
 },
 "nbformat": 4,
 "nbformat_minor": 5
}
