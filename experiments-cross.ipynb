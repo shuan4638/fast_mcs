{
 "cells": [
  {
   "cell_type": "code",
   "execution_count": 1,
   "id": "21ad1659",
   "metadata": {},
   "outputs": [],
   "source": [
    "from MCS_similarity import *\n",
    "import pandas as pd\n",
    "\n",
    "df = pd.read_csv('USPTO_products.csv')\n",
    "all_smiles = df['Product'].tolist()\n",
    "all_molecules = [Chem.MolFromSmiles(smi) for smi in all_smiles]"
   ]
  },
  {
   "cell_type": "code",
   "execution_count": 2,
   "id": "e7c4cc6c",
   "metadata": {},
   "outputs": [
    {
     "name": "stdout",
     "output_type": "stream",
     "text": [
      "0 CSc1ccc(C(=O)O[C@@H](Cc2c(Cl)c[n+]([O-])cc2Cl)c2ccc(OC(F)F)c(OCC3CC3)c2)cc1N\n"
     ]
    },
    {
     "name": "stderr",
     "output_type": "stream",
     "text": [
      "100%|███████████████████████████████████████████████████████████████████████████| 50016/50016 [03:59<00:00, 208.73it/s]\n"
     ]
    },
    {
     "name": "stdout",
     "output_type": "stream",
     "text": [
      "1 Cc1c(OS(C)(=O)=O)ccc2c1C(=O)N(Cc1ccccc1-c1ccccc1)C2C(=O)NC(C)(C)C\n"
     ]
    },
    {
     "name": "stderr",
     "output_type": "stream",
     "text": [
      "100%|████████████████████████████████████████████████████████████████████████████| 50016/50016 [08:45<00:00, 95.17it/s]\n"
     ]
    },
    {
     "name": "stdout",
     "output_type": "stream",
     "text": [
      "2 CN1CCN(CCOc2ccn3c(C(=O)Nc4cccc5c4c(C4CC4)nn5Cc4cccn(C)c4=O)cnc3c2)CC1\n"
     ]
    },
    {
     "name": "stderr",
     "output_type": "stream",
     "text": [
      "100%|████████████████████████████████████████████████████████████████████████████| 50016/50016 [28:51<00:00, 28.88it/s]\n"
     ]
    },
    {
     "name": "stdout",
     "output_type": "stream",
     "text": [
      "3 CC/C(=C\\c1ccc(C(=O)OC(C)(C)C)s1)C(=O)O\n"
     ]
    },
    {
     "name": "stderr",
     "output_type": "stream",
     "text": [
      "100%|███████████████████████████████████████████████████████████████████████████| 50016/50016 [00:54<00:00, 913.87it/s]\n"
     ]
    },
    {
     "name": "stdout",
     "output_type": "stream",
     "text": [
      "4 C(=C/c1ccoc1)\\c1ccccc1\n"
     ]
    },
    {
     "name": "stderr",
     "output_type": "stream",
     "text": [
      "100%|██████████████████████████████████████████████████████████████████████████| 50016/50016 [00:44<00:00, 1130.28it/s]\n"
     ]
    },
    {
     "name": "stdout",
     "output_type": "stream",
     "text": [
      "5 c1ccc(-n2c3ccccc3c3ccccc32)cc1\n"
     ]
    },
    {
     "name": "stderr",
     "output_type": "stream",
     "text": [
      "100%|████████████████████████████████████████████████████████████████████████████| 50016/50016 [09:55<00:00, 83.96it/s]\n"
     ]
    },
    {
     "name": "stdout",
     "output_type": "stream",
     "text": [
      "6 CC(O)c1nc(-c2ccc3c(c2)c2cc(-c4ccc(Cl)cc4Cl)c(=O)n(C)c2n3C)cs1\n"
     ]
    },
    {
     "name": "stderr",
     "output_type": "stream",
     "text": [
      "100%|████████████████████████████████████████████████████████████████████████████| 50016/50016 [21:06<00:00, 39.49it/s]\n"
     ]
    },
    {
     "name": "stdout",
     "output_type": "stream",
     "text": [
      "7 C(#Cc1ncccn1)CCc1ccccc1\n"
     ]
    },
    {
     "name": "stderr",
     "output_type": "stream",
     "text": [
      "100%|███████████████████████████████████████████████████████████████████████████| 50016/50016 [00:52<00:00, 957.20it/s]\n"
     ]
    },
    {
     "name": "stdout",
     "output_type": "stream",
     "text": [
      "8 CC(C)(C)C(=O)Nc1cccc(Br)n1\n"
     ]
    },
    {
     "name": "stderr",
     "output_type": "stream",
     "text": [
      "100%|███████████████████████████████████████████████████████████████████████████| 50016/50016 [00:50<00:00, 998.18it/s]\n"
     ]
    },
    {
     "name": "stdout",
     "output_type": "stream",
     "text": [
      "9 CC(CCC(c1ccccc1)c1ccccc1)(c1ccc(O)cc1)c1ccc(O)cc1\n"
     ]
    },
    {
     "name": "stderr",
     "output_type": "stream",
     "text": [
      "100%|███████████████████████████████████████████████████████████████████████████| 50016/50016 [01:50<00:00, 454.61it/s]\n"
     ]
    },
    {
     "name": "stdout",
     "output_type": "stream",
     "text": [
      "10 CCc1ccc(S(=O)(=O)NC(=O)Nc2ccc(Cl)cc2)o1\n"
     ]
    },
    {
     "name": "stderr",
     "output_type": "stream",
     "text": [
      "100%|███████████████████████████████████████████████████████████████████████████| 50016/50016 [01:02<00:00, 795.20it/s]\n"
     ]
    },
    {
     "name": "stdout",
     "output_type": "stream",
     "text": [
      "11 CC1(C)CCC(C)(C)C1C=CC(N)(C(=O)OCc1ccccc1)C(=O)OCc1ccccc1\n"
     ]
    },
    {
     "name": "stderr",
     "output_type": "stream",
     "text": [
      "100%|███████████████████████████████████████████████████████████████████████████| 50016/50016 [01:55<00:00, 433.94it/s]\n"
     ]
    },
    {
     "name": "stdout",
     "output_type": "stream",
     "text": [
      "12 CCOC(=O)CCNC(=O)c1ccc(NC(c2oc3cccnc3c2C)C2CCCCC2)cc1\n"
     ]
    },
    {
     "name": "stderr",
     "output_type": "stream",
     "text": [
      "100%|███████████████████████████████████████████████████████████████████████████| 50016/50016 [03:58<00:00, 209.98it/s]\n"
     ]
    },
    {
     "name": "stdout",
     "output_type": "stream",
     "text": [
      "13 Cc1ccc(-c2onc(OCCNC(=O)OC(C)(C)C)c2C(C)C)cc1\n"
     ]
    },
    {
     "name": "stderr",
     "output_type": "stream",
     "text": [
      "100%|███████████████████████████████████████████████████████████████████████████| 50016/50016 [02:01<00:00, 410.91it/s]\n"
     ]
    },
    {
     "name": "stdout",
     "output_type": "stream",
     "text": [
      "14 COC(=O)c1cc(OC(C)C)ncc1Br\n"
     ]
    },
    {
     "name": "stderr",
     "output_type": "stream",
     "text": [
      "100%|███████████████████████████████████████████████████████████████████████████| 50016/50016 [01:05<00:00, 762.05it/s]\n"
     ]
    },
    {
     "name": "stdout",
     "output_type": "stream",
     "text": [
      "15 COC(=O)Cc1ccc(OC)cc1Oc1ccccc1\n"
     ]
    },
    {
     "name": "stderr",
     "output_type": "stream",
     "text": [
      "100%|███████████████████████████████████████████████████████████████████████████| 50016/50016 [01:39<00:00, 500.76it/s]\n"
     ]
    },
    {
     "name": "stdout",
     "output_type": "stream",
     "text": [
      "16 COc1ccc(-c2nc3cccnc3[nH]2)cc1N\n"
     ]
    },
    {
     "name": "stderr",
     "output_type": "stream",
     "text": [
      "100%|███████████████████████████████████████████████████████████████████████████| 50016/50016 [02:37<00:00, 318.54it/s]\n"
     ]
    },
    {
     "name": "stdout",
     "output_type": "stream",
     "text": [
      "17 CCCCCNN=Cc1ccc(C(=O)Nc2ccc3c(c2)CCC(CC(=O)O)O3)cc1\n"
     ]
    },
    {
     "name": "stderr",
     "output_type": "stream",
     "text": [
      "100%|███████████████████████████████████████████████████████████████████████████| 50016/50016 [04:05<00:00, 203.57it/s]\n"
     ]
    },
    {
     "name": "stdout",
     "output_type": "stream",
     "text": [
      "18 Cc1c(N2CCC(C3(N(C)C4CCNCC4)CC3)C2)c(F)cn2c(=O)c(C(=O)O)cc(C3CC3)c12\n"
     ]
    },
    {
     "name": "stderr",
     "output_type": "stream",
     "text": [
      "100%|███████████████████████████████████████████████████████████████████████████| 50016/50016 [06:51<00:00, 121.54it/s]\n"
     ]
    },
    {
     "name": "stdout",
     "output_type": "stream",
     "text": [
      "19 O=C(CC1CCNCC1)Nc1ccc(-c2ccccc2)cc1\n"
     ]
    },
    {
     "name": "stderr",
     "output_type": "stream",
     "text": [
      "100%|███████████████████████████████████████████████████████████████████████████| 50016/50016 [02:24<00:00, 346.40it/s]\n"
     ]
    },
    {
     "name": "stdout",
     "output_type": "stream",
     "text": [
      "20 CC1(C)OCC(c2ccc(N)cn2)O1\n"
     ]
    },
    {
     "name": "stderr",
     "output_type": "stream",
     "text": [
      "100%|███████████████████████████████████████████████████████████████████████████| 50016/50016 [00:54<00:00, 914.84it/s]\n"
     ]
    },
    {
     "name": "stdout",
     "output_type": "stream",
     "text": [
      "21 CCOC(=O)c1cn2cc(N)ccc2n1\n"
     ]
    },
    {
     "name": "stderr",
     "output_type": "stream",
     "text": [
      "100%|███████████████████████████████████████████████████████████████████████████| 50016/50016 [01:28<00:00, 562.85it/s]\n"
     ]
    },
    {
     "name": "stdout",
     "output_type": "stream",
     "text": [
      "22 CCOC(=O)c1sc(-c2ccc(O)cc2C)nc1C(C)C\n"
     ]
    },
    {
     "name": "stderr",
     "output_type": "stream",
     "text": [
      "100%|███████████████████████████████████████████████████████████████████████████| 50016/50016 [01:28<00:00, 567.38it/s]\n"
     ]
    },
    {
     "name": "stdout",
     "output_type": "stream",
     "text": [
      "23 O=C(Nc1ccc2[nH]cc(C3CCN(CCc4ccccc4)CC3)c2n1)c1ccsc1\n"
     ]
    },
    {
     "name": "stderr",
     "output_type": "stream",
     "text": [
      "100%|███████████████████████████████████████████████████████████████████████████| 50016/50016 [05:34<00:00, 149.31it/s]\n"
     ]
    },
    {
     "name": "stdout",
     "output_type": "stream",
     "text": [
      "24 CCCCOCCOc1ccc(-c2ccc3c(c2)C=C(C(=O)Nc2ccc4c(c2)nc(SCc2cncn2CCC)n4C)CCN3CC(C)C)cc1\n"
     ]
    },
    {
     "name": "stderr",
     "output_type": "stream",
     "text": [
      "100%|██████████████████████████████████████████████████████████████████████████| 50016/50016 [1:03:46<00:00, 13.07it/s]\n"
     ]
    },
    {
     "name": "stdout",
     "output_type": "stream",
     "text": [
      "25 CC(CO)N1CCN(c2ccc(Nc3ncc4cc(C(=O)N(C)C)n(C5CCCC5)c4n3)nc2)CC1\n"
     ]
    },
    {
     "name": "stderr",
     "output_type": "stream",
     "text": [
      "100%|████████████████████████████████████████████████████████████████████████████| 50016/50016 [30:15<00:00, 27.54it/s]\n"
     ]
    },
    {
     "name": "stdout",
     "output_type": "stream",
     "text": [
      "26 CC(=O)NCCC(NC(=O)OC(C)(C)C)c1ccc(Cl)cc1\n"
     ]
    },
    {
     "name": "stderr",
     "output_type": "stream",
     "text": [
      "100%|███████████████████████████████████████████████████████████████████████████| 50016/50016 [01:01<00:00, 813.85it/s]\n"
     ]
    },
    {
     "name": "stdout",
     "output_type": "stream",
     "text": [
      "27 CC(C)Oc1ccc(-n2c(C(=O)O)cc3c(-c4ccc(C(F)(F)F)cc4)nc(-c4ccc(C(F)(F)F)cc4)cc32)cc1\n"
     ]
    },
    {
     "name": "stderr",
     "output_type": "stream",
     "text": [
      "100%|████████████████████████████████████████████████████████████████████████████| 50016/50016 [10:36<00:00, 78.58it/s]\n"
     ]
    },
    {
     "name": "stdout",
     "output_type": "stream",
     "text": [
      "28 CC(=O)N1CCN(c2ccc(CCc3ccc(C(=O)O)s3)nc2)CC1\n"
     ]
    },
    {
     "name": "stderr",
     "output_type": "stream",
     "text": [
      "100%|███████████████████████████████████████████████████████████████████████████| 50016/50016 [02:06<00:00, 394.69it/s]\n"
     ]
    },
    {
     "name": "stdout",
     "output_type": "stream",
     "text": [
      "29 N#Cc1ccc(C2CCN(C(=O)c3cccc(-c4noc(C(F)(F)F)n4)c3)CC2)nc1\n"
     ]
    },
    {
     "name": "stderr",
     "output_type": "stream",
     "text": [
      "100%|███████████████████████████████████████████████████████████████████████████| 50016/50016 [04:13<00:00, 197.35it/s]\n"
     ]
    },
    {
     "name": "stdout",
     "output_type": "stream",
     "text": [
      "30 CC(C)(C)CCNC(=O)c1ccc(CC(C)(C)C)cc1\n"
     ]
    },
    {
     "name": "stderr",
     "output_type": "stream",
     "text": [
      "100%|███████████████████████████████████████████████████████████████████████████| 50016/50016 [01:36<00:00, 520.54it/s]\n"
     ]
    },
    {
     "name": "stdout",
     "output_type": "stream",
     "text": [
      "31 COC(=O)c1ccc[n+]([O-])c1-c1ccc(F)cc1\n"
     ]
    },
    {
     "name": "stderr",
     "output_type": "stream",
     "text": [
      "100%|███████████████████████████████████████████████████████████████████████████| 50016/50016 [01:56<00:00, 428.54it/s]\n"
     ]
    },
    {
     "name": "stdout",
     "output_type": "stream",
     "text": [
      "32 CC(C)C[C@H](NC(=O)c1ccc(NC2CC2)c(OCC2CC2)n1)C(N)=O\n"
     ]
    },
    {
     "name": "stderr",
     "output_type": "stream",
     "text": [
      "100%|███████████████████████████████████████████████████████████████████████████| 50016/50016 [01:46<00:00, 467.73it/s]\n"
     ]
    },
    {
     "name": "stdout",
     "output_type": "stream",
     "text": [
      "33 Brc1cnc(Nc2nc(CN3CCOCC3)cs2)c2ncnn12\n"
     ]
    },
    {
     "name": "stderr",
     "output_type": "stream",
     "text": [
      "100%|███████████████████████████████████████████████████████████████████████████| 50016/50016 [01:13<00:00, 684.32it/s]\n"
     ]
    },
    {
     "name": "stdout",
     "output_type": "stream",
     "text": [
      "34 COC(=O)C1(c2ccc(Nc3nc(C4CCCC4)nc4c3CCC4)cc2)CCCC1\n"
     ]
    },
    {
     "name": "stderr",
     "output_type": "stream",
     "text": [
      "100%|███████████████████████████████████████████████████████████████████████████| 50016/50016 [05:51<00:00, 142.32it/s]\n"
     ]
    },
    {
     "name": "stdout",
     "output_type": "stream",
     "text": [
      "35 CCCc1ccc(S(=O)(=O)c2ccc(F)cc2)cc1S(=O)(=O)NCCc1ccncc1\n"
     ]
    },
    {
     "name": "stderr",
     "output_type": "stream",
     "text": [
      "100%|███████████████████████████████████████████████████████████████████████████| 50016/50016 [01:45<00:00, 476.25it/s]\n"
     ]
    },
    {
     "name": "stdout",
     "output_type": "stream",
     "text": [
      "36 Cc1cc2c(=O)[nH]c(Cn3cc(C=O)c(C(F)(F)F)n3)nc2s1\n"
     ]
    },
    {
     "name": "stderr",
     "output_type": "stream",
     "text": [
      "100%|███████████████████████████████████████████████████████████████████████████| 50016/50016 [01:39<00:00, 504.33it/s]\n"
     ]
    },
    {
     "name": "stdout",
     "output_type": "stream",
     "text": [
      "37 Brc1cccc(-c2cc3ccccc3c3ccccc23)c1\n"
     ]
    },
    {
     "name": "stderr",
     "output_type": "stream",
     "text": [
      "100%|████████████████████████████████████████████████████████████████████████████| 50016/50016 [17:43<00:00, 47.05it/s]\n"
     ]
    },
    {
     "name": "stdout",
     "output_type": "stream",
     "text": [
      "38 COCCC(=O)N[C@@H]1c2ccccc2C[C@H]1NC(=O)c1cc2cc(Cl)ccc2[nH]1\n"
     ]
    },
    {
     "name": "stderr",
     "output_type": "stream",
     "text": [
      "100%|███████████████████████████████████████████████████████████████████████████| 50016/50016 [06:30<00:00, 128.00it/s]\n"
     ]
    },
    {
     "name": "stdout",
     "output_type": "stream",
     "text": [
      "39 COc1ccc2c(c1)c(CC(=O)NCCSSCCNC(=O)OC(C)(C)C)c(C)n2C(=O)c1ccc(Cl)cc1\n"
     ]
    },
    {
     "name": "stderr",
     "output_type": "stream",
     "text": [
      "100%|███████████████████████████████████████████████████████████████████████████| 50016/50016 [07:40<00:00, 108.73it/s]\n"
     ]
    },
    {
     "name": "stdout",
     "output_type": "stream",
     "text": [
      "40 O=C1CCc2c(Oc3ccc(C(F)(F)F)cn3)cccc21\n"
     ]
    },
    {
     "name": "stderr",
     "output_type": "stream",
     "text": [
      "100%|███████████████████████████████████████████████████████████████████████████| 50016/50016 [03:14<00:00, 256.71it/s]\n"
     ]
    },
    {
     "name": "stdout",
     "output_type": "stream",
     "text": [
      "41 CCO/C=C\\c1cnc(Cl)nc1\n"
     ]
    },
    {
     "name": "stderr",
     "output_type": "stream",
     "text": [
      "100%|██████████████████████████████████████████████████████████████████████████| 50016/50016 [00:38<00:00, 1286.80it/s]\n"
     ]
    },
    {
     "name": "stdout",
     "output_type": "stream",
     "text": [
      "42 COC(=O)COc1c(F)cccc1F\n"
     ]
    },
    {
     "name": "stderr",
     "output_type": "stream",
     "text": [
      "100%|██████████████████████████████████████████████████████████████████████████| 50016/50016 [00:44<00:00, 1120.44it/s]\n"
     ]
    },
    {
     "name": "stdout",
     "output_type": "stream",
     "text": [
      "43 CCOC(=O)CN(CCCc1ccc2cccnc2n1)C(=O)OC(C)(C)C\n"
     ]
    },
    {
     "name": "stderr",
     "output_type": "stream",
     "text": [
      "100%|███████████████████████████████████████████████████████████████████████████| 50016/50016 [02:15<00:00, 367.95it/s]\n"
     ]
    },
    {
     "name": "stdout",
     "output_type": "stream",
     "text": [
      "44 CC(C)[C@H]1c2ccc(F)cc2C(F)(F)C[C@]1(O)CC(=O)N(C)CCCc1nc2ccccc2[nH]1\n"
     ]
    },
    {
     "name": "stderr",
     "output_type": "stream",
     "text": [
      "100%|███████████████████████████████████████████████████████████████████████████| 50016/50016 [05:01<00:00, 166.09it/s]\n"
     ]
    },
    {
     "name": "stdout",
     "output_type": "stream",
     "text": [
      "45 CC(C)Sc1nc(N)c2ncn(Cc3ccccc3)c2n1\n"
     ]
    },
    {
     "name": "stderr",
     "output_type": "stream",
     "text": [
      "100%|███████████████████████████████████████████████████████████████████████████| 50016/50016 [01:46<00:00, 469.43it/s]\n"
     ]
    },
    {
     "name": "stdout",
     "output_type": "stream",
     "text": [
      "46 COc1ccc2ccc(NC(=O)c3ccccc3)nc2n1\n"
     ]
    },
    {
     "name": "stderr",
     "output_type": "stream",
     "text": [
      "100%|███████████████████████████████████████████████████████████████████████████| 50016/50016 [02:44<00:00, 304.56it/s]\n"
     ]
    },
    {
     "name": "stdout",
     "output_type": "stream",
     "text": [
      "47 CCCCCCC(O)c1cccc(Br)c1\n"
     ]
    },
    {
     "name": "stderr",
     "output_type": "stream",
     "text": [
      "100%|██████████████████████████████████████████████████████████████████████████| 50016/50016 [00:46<00:00, 1070.15it/s]\n"
     ]
    },
    {
     "name": "stdout",
     "output_type": "stream",
     "text": [
      "48 CN[C@@H](C)Cc1ccccc1\n"
     ]
    },
    {
     "name": "stderr",
     "output_type": "stream",
     "text": [
      "100%|██████████████████████████████████████████████████████████████████████████| 50016/50016 [00:38<00:00, 1286.69it/s]\n"
     ]
    },
    {
     "name": "stdout",
     "output_type": "stream",
     "text": [
      "49 O=C(NCc1cc(F)c(N2CCOCC2)c(F)c1)Nc1cccc2cnccc12\n"
     ]
    },
    {
     "name": "stderr",
     "output_type": "stream",
     "text": [
      "100%|███████████████████████████████████████████████████████████████████████████| 50016/50016 [03:19<00:00, 251.16it/s]\n"
     ]
    },
    {
     "name": "stdout",
     "output_type": "stream",
     "text": [
      "50 C[C@H]1COCCN1c1cc(C2(S(=O)(=O)C(C)(C)C)CC2)nc(-c2ccc(N)cc2)n1\n"
     ]
    },
    {
     "name": "stderr",
     "output_type": "stream",
     "text": [
      "100%|███████████████████████████████████████████████████████████████████████████| 50016/50016 [02:52<00:00, 290.69it/s]\n"
     ]
    },
    {
     "name": "stdout",
     "output_type": "stream",
     "text": [
      "51 CCc1c(C)c(C#N)c2nc3ccccc3n2c1N1CC[C@H](NC(=O)OCc2ccccc2)C1=O\n"
     ]
    },
    {
     "name": "stderr",
     "output_type": "stream",
     "text": [
      "100%|███████████████████████████████████████████████████████████████████████████| 50016/50016 [04:55<00:00, 169.24it/s]\n"
     ]
    },
    {
     "name": "stdout",
     "output_type": "stream",
     "text": [
      "52 O=c1oc2ccccc2n1CCCN1CCC(n2c(=O)[nH]c3cc(Cl)ccc32)CC1\n"
     ]
    },
    {
     "name": "stderr",
     "output_type": "stream",
     "text": [
      "100%|███████████████████████████████████████████████████████████████████████████| 50016/50016 [04:08<00:00, 201.02it/s]\n"
     ]
    },
    {
     "name": "stdout",
     "output_type": "stream",
     "text": [
      "53 COC(=O)c1ccc2c(C3CCCCC3)c(-c3ccc(OC)cc3O)[nH]c2c1\n"
     ]
    },
    {
     "name": "stderr",
     "output_type": "stream",
     "text": [
      "100%|████████████████████████████████████████████████████████████████████████████| 50016/50016 [10:36<00:00, 78.53it/s]\n"
     ]
    },
    {
     "name": "stdout",
     "output_type": "stream",
     "text": [
      "54 Cc1ccc(-c2ccc(S(C)(=O)=O)cc2)n1-c1ccc(-c2ccoc2)cc1\n"
     ]
    },
    {
     "name": "stderr",
     "output_type": "stream",
     "text": [
      "100%|███████████████████████████████████████████████████████████████████████████| 50016/50016 [03:37<00:00, 230.47it/s]\n"
     ]
    },
    {
     "name": "stdout",
     "output_type": "stream",
     "text": [
      "55 C[Si](C)(C)CCOCn1cc(I)c2c(N)ncnc21\n"
     ]
    },
    {
     "name": "stderr",
     "output_type": "stream",
     "text": [
      "100%|███████████████████████████████████████████████████████████████████████████| 50016/50016 [01:29<00:00, 560.24it/s]\n"
     ]
    },
    {
     "name": "stdout",
     "output_type": "stream",
     "text": [
      "56 CN(C)S(=O)(=O)Nc1ccc(C(CC2CCCC2)C(=O)Nc2nccs2)cc1\n"
     ]
    },
    {
     "name": "stderr",
     "output_type": "stream",
     "text": [
      "100%|███████████████████████████████████████████████████████████████████████████| 50016/50016 [01:47<00:00, 464.59it/s]\n"
     ]
    },
    {
     "name": "stdout",
     "output_type": "stream",
     "text": [
      "57 CC(C)(C)NS(=O)(=O)c1cccc(B2OC(C)(C)C(C)(C)O2)c1\n"
     ]
    },
    {
     "name": "stderr",
     "output_type": "stream",
     "text": [
      "100%|███████████████████████████████████████████████████████████████████████████| 50016/50016 [00:56<00:00, 878.98it/s]\n"
     ]
    },
    {
     "name": "stdout",
     "output_type": "stream",
     "text": [
      "58 CC(Cc1ccc(OCCN2CCCCC2)cc1)(C(=O)O)S(=O)(=O)c1ccc(Br)cc1\n"
     ]
    },
    {
     "name": "stderr",
     "output_type": "stream",
     "text": [
      "100%|███████████████████████████████████████████████████████████████████████████| 50016/50016 [01:53<00:00, 440.82it/s]\n"
     ]
    },
    {
     "name": "stdout",
     "output_type": "stream",
     "text": [
      "59 Nc1ncnc2c1c(-c1ccc(Oc3ccccc3)cc1)cn2C1CCN(Cc2ncc[nH]2)CC1\n"
     ]
    },
    {
     "name": "stderr",
     "output_type": "stream",
     "text": [
      "100%|████████████████████████████████████████████████████████████████████████████| 50016/50016 [09:04<00:00, 91.92it/s]\n"
     ]
    },
    {
     "name": "stdout",
     "output_type": "stream",
     "text": [
      "60 CCOC(=O)/C=C/c1cnc(N[C@@H]2CCN(Cc3ccccc3)C2)cn1\n"
     ]
    },
    {
     "name": "stderr",
     "output_type": "stream",
     "text": [
      "100%|███████████████████████████████████████████████████████████████████████████| 50016/50016 [01:54<00:00, 436.82it/s]\n"
     ]
    },
    {
     "name": "stdout",
     "output_type": "stream",
     "text": [
      "61 COC(=O)/C=C/c1ccc(Cl)c(OC)c1\n"
     ]
    },
    {
     "name": "stderr",
     "output_type": "stream",
     "text": [
      "100%|███████████████████████████████████████████████████████████████████████████| 50016/50016 [00:54<00:00, 925.72it/s]\n"
     ]
    },
    {
     "name": "stdout",
     "output_type": "stream",
     "text": [
      "62 O=C(O)C1CCc2sc3ccccc3c2C1\n"
     ]
    },
    {
     "name": "stderr",
     "output_type": "stream",
     "text": [
      "100%|███████████████████████████████████████████████████████████████████████████| 50016/50016 [03:45<00:00, 222.15it/s]\n"
     ]
    },
    {
     "name": "stdout",
     "output_type": "stream",
     "text": [
      "63 CCOC(=O)CCCCN1CCN(CCCCNC(=O)OC(C)(C)C)CC1\n"
     ]
    },
    {
     "name": "stderr",
     "output_type": "stream",
     "text": [
      "100%|███████████████████████████████████████████████████████████████████████████| 50016/50016 [01:04<00:00, 779.27it/s]\n"
     ]
    },
    {
     "name": "stdout",
     "output_type": "stream",
     "text": [
      "64 O=C(O)CCCCC#Cc1ncc(-c2ccccc2)c(-c2ccccc2)n1\n"
     ]
    },
    {
     "name": "stderr",
     "output_type": "stream",
     "text": [
      "100%|███████████████████████████████████████████████████████████████████████████| 50016/50016 [02:45<00:00, 302.13it/s]\n"
     ]
    },
    {
     "name": "stdout",
     "output_type": "stream",
     "text": [
      "65 Fc1ccccc1-c1nc(Nc2ccncc2)c2ccsc2n1\n"
     ]
    },
    {
     "name": "stderr",
     "output_type": "stream",
     "text": [
      "100%|███████████████████████████████████████████████████████████████████████████| 50016/50016 [02:33<00:00, 325.32it/s]\n"
     ]
    },
    {
     "name": "stdout",
     "output_type": "stream",
     "text": [
      "66 COC(=O)c1cc2ccccc2n1CCc1ccccc1\n"
     ]
    },
    {
     "name": "stderr",
     "output_type": "stream",
     "text": [
      "100%|███████████████████████████████████████████████████████████████████████████| 50016/50016 [03:00<00:00, 276.76it/s]\n"
     ]
    },
    {
     "name": "stdout",
     "output_type": "stream",
     "text": [
      "67 COc1ccc2c(c1)c(CCNC(C)=O)cn2S(=O)(=O)c1ccc(C)cc1\n"
     ]
    },
    {
     "name": "stderr",
     "output_type": "stream",
     "text": [
      "100%|███████████████████████████████████████████████████████████████████████████| 50016/50016 [04:25<00:00, 188.24it/s]\n"
     ]
    },
    {
     "name": "stdout",
     "output_type": "stream",
     "text": [
      "68 NC1(COCc2ccc(Cl)cc2)CCN(c2ncnc3[nH]ccc23)CC1\n"
     ]
    },
    {
     "name": "stderr",
     "output_type": "stream",
     "text": [
      "100%|███████████████████████████████████████████████████████████████████████████| 50016/50016 [02:16<00:00, 367.28it/s]\n"
     ]
    },
    {
     "name": "stdout",
     "output_type": "stream",
     "text": [
      "69 COC(=O)[C@@H](NC(=O)c1ccc(-c2ccc(OC)cc2)cc1N)C1CCCC1\n"
     ]
    },
    {
     "name": "stderr",
     "output_type": "stream",
     "text": [
      "100%|███████████████████████████████████████████████████████████████████████████| 50016/50016 [03:42<00:00, 224.50it/s]\n"
     ]
    },
    {
     "name": "stdout",
     "output_type": "stream",
     "text": [
      "70 CCC(O)[C@@H](CC)Nc1nc(NCc2ccccc2)c2ncn(C(C)C)c2n1\n"
     ]
    },
    {
     "name": "stderr",
     "output_type": "stream",
     "text": [
      "100%|███████████████████████████████████████████████████████████████████████████| 50016/50016 [01:55<00:00, 434.41it/s]\n"
     ]
    },
    {
     "name": "stdout",
     "output_type": "stream",
     "text": [
      "71 COC(=O)c1nc(C)sc1-c1cccc(NC(C)=O)c1\n"
     ]
    },
    {
     "name": "stderr",
     "output_type": "stream",
     "text": [
      "100%|███████████████████████████████████████████████████████████████████████████| 50016/50016 [01:24<00:00, 591.21it/s]\n"
     ]
    },
    {
     "name": "stdout",
     "output_type": "stream",
     "text": [
      "72 COc1ccc(-c2ncnc(Cl)c2C)cc1\n"
     ]
    },
    {
     "name": "stderr",
     "output_type": "stream",
     "text": [
      "100%|███████████████████████████████████████████████████████████████████████████| 50016/50016 [01:58<00:00, 421.49it/s]\n"
     ]
    },
    {
     "name": "stdout",
     "output_type": "stream",
     "text": [
      "73 Cc1ccccc1C(CC1(C2CCC(=O)CC2)OCCO1)c1ccc(S(C)(=O)=O)cc1\n"
     ]
    },
    {
     "name": "stderr",
     "output_type": "stream",
     "text": [
      "100%|███████████████████████████████████████████████████████████████████████████| 50016/50016 [02:04<00:00, 401.81it/s]\n"
     ]
    },
    {
     "name": "stdout",
     "output_type": "stream",
     "text": [
      "74 O=C1CCN(c2ccccn2)CC1\n"
     ]
    },
    {
     "name": "stderr",
     "output_type": "stream",
     "text": [
      "100%|███████████████████████████████████████████████████████████████████████████| 50016/50016 [01:06<00:00, 751.46it/s]\n"
     ]
    },
    {
     "name": "stdout",
     "output_type": "stream",
     "text": [
      "75 CCCn1cc(-c2ccccc2)c(=O)c(-c2ccccc2)n1\n"
     ]
    },
    {
     "name": "stderr",
     "output_type": "stream",
     "text": [
      "100%|███████████████████████████████████████████████████████████████████████████| 50016/50016 [02:21<00:00, 354.63it/s]\n"
     ]
    },
    {
     "name": "stdout",
     "output_type": "stream",
     "text": [
      "76 O=C1c2ccccc2C(=O)N1CCN1CCN2c3ccc(F)cc3Cc3ccccc3[C@H]2C1\n"
     ]
    },
    {
     "name": "stderr",
     "output_type": "stream",
     "text": [
      "100%|████████████████████████████████████████████████████████████████████████████| 50016/50016 [12:13<00:00, 68.18it/s]\n"
     ]
    },
    {
     "name": "stdout",
     "output_type": "stream",
     "text": [
      "77 C[C@@H]1C(=O)CC[C@]2(c3ccccc3)[C@@H](O)CCC[C@@H]12\n"
     ]
    },
    {
     "name": "stderr",
     "output_type": "stream",
     "text": [
      "100%|███████████████████████████████████████████████████████████████████████████| 50016/50016 [07:14<00:00, 115.20it/s]\n"
     ]
    },
    {
     "name": "stdout",
     "output_type": "stream",
     "text": [
      "78 COc1cc(O)c2c(c1C(=O)NCc1ccc(C)c3ccccc13)OC1=CC(O)=C(C(C)=O)C(=O)[C@]12C\n"
     ]
    },
    {
     "name": "stderr",
     "output_type": "stream",
     "text": [
      "100%|████████████████████████████████████████████████████████████████████████████| 50016/50016 [28:58<00:00, 28.78it/s]\n"
     ]
    },
    {
     "name": "stdout",
     "output_type": "stream",
     "text": [
      "79 CN(C)C1(c2ccccc2)CCC(NCCc2c[nH]c3ccc(OCc4ccccc4)cc23)CC1\n"
     ]
    },
    {
     "name": "stderr",
     "output_type": "stream",
     "text": [
      "100%|███████████████████████████████████████████████████████████████████████████| 50016/50016 [05:36<00:00, 148.44it/s]\n"
     ]
    },
    {
     "name": "stdout",
     "output_type": "stream",
     "text": [
      "80 COc1ccc2c(c1)C1CCCNC1CO2\n"
     ]
    },
    {
     "name": "stderr",
     "output_type": "stream",
     "text": [
      "100%|███████████████████████████████████████████████████████████████████████████| 50016/50016 [04:12<00:00, 198.10it/s]\n"
     ]
    },
    {
     "name": "stdout",
     "output_type": "stream",
     "text": [
      "81 N#Cc1cc(Oc2ccc(N)cc2)ccn1\n"
     ]
    },
    {
     "name": "stderr",
     "output_type": "stream",
     "text": [
      "100%|███████████████████████████████████████████████████████████████████████████| 50016/50016 [01:12<00:00, 693.47it/s]\n"
     ]
    },
    {
     "name": "stdout",
     "output_type": "stream",
     "text": [
      "82 CCCCn1c(-c2ccccc2)nc(C(OC)OC)c1C=O\n"
     ]
    },
    {
     "name": "stderr",
     "output_type": "stream",
     "text": [
      "100%|███████████████████████████████████████████████████████████████████████████| 50016/50016 [01:33<00:00, 535.24it/s]\n"
     ]
    },
    {
     "name": "stdout",
     "output_type": "stream",
     "text": [
      "83 CCCCCCCCOc1ccc2c(c1)CN(C(=O)OC(C)(C)C)[C@H](C(=O)O)C2\n"
     ]
    },
    {
     "name": "stderr",
     "output_type": "stream",
     "text": [
      "100%|███████████████████████████████████████████████████████████████████████████| 50016/50016 [04:44<00:00, 176.00it/s]\n"
     ]
    },
    {
     "name": "stdout",
     "output_type": "stream",
     "text": [
      "84 O=C(Nc1cccc([N+](=O)[O-])c1)c1ccc(F)cc1Cl\n"
     ]
    },
    {
     "name": "stderr",
     "output_type": "stream",
     "text": [
      "100%|███████████████████████████████████████████████████████████████████████████| 50016/50016 [01:34<00:00, 531.06it/s]\n"
     ]
    },
    {
     "name": "stdout",
     "output_type": "stream",
     "text": [
      "85 Cc1cccc(Oc2ccc(F)cc2)c1\n"
     ]
    },
    {
     "name": "stderr",
     "output_type": "stream",
     "text": [
      "100%|███████████████████████████████████████████████████████████████████████████| 50016/50016 [01:20<00:00, 622.60it/s]\n"
     ]
    },
    {
     "name": "stdout",
     "output_type": "stream",
     "text": [
      "86 COC(=O)CCc1ccc(OCCCCCc2ccccc2)cc1\n"
     ]
    },
    {
     "name": "stderr",
     "output_type": "stream",
     "text": [
      "100%|███████████████████████████████████████████████████████████████████████████| 50016/50016 [01:26<00:00, 578.98it/s]\n"
     ]
    },
    {
     "name": "stdout",
     "output_type": "stream",
     "text": [
      "87 COCOc1ccc(Br)nc1\n"
     ]
    },
    {
     "name": "stderr",
     "output_type": "stream",
     "text": [
      "100%|██████████████████████████████████████████████████████████████████████████| 50016/50016 [00:42<00:00, 1179.78it/s]\n"
     ]
    },
    {
     "name": "stdout",
     "output_type": "stream",
     "text": [
      "88 O=C(NCCCl)C(F)(F)F\n"
     ]
    },
    {
     "name": "stderr",
     "output_type": "stream",
     "text": [
      "100%|██████████████████████████████████████████████████████████████████████████| 50016/50016 [00:24<00:00, 2013.60it/s]\n"
     ]
    },
    {
     "name": "stdout",
     "output_type": "stream",
     "text": [
      "89 NC1C[C@@H](C(=O)O)N(C(=O)CP(=O)(O)CCCCc2ccccc2)C1\n"
     ]
    },
    {
     "name": "stderr",
     "output_type": "stream",
     "text": [
      "100%|███████████████████████████████████████████████████████████████████████████| 50016/50016 [01:29<00:00, 561.91it/s]\n"
     ]
    },
    {
     "name": "stdout",
     "output_type": "stream",
     "text": [
      "90 COC(=O)C1CC1CC#CC=O\n"
     ]
    },
    {
     "name": "stderr",
     "output_type": "stream",
     "text": [
      "100%|██████████████████████████████████████████████████████████████████████████| 50016/50016 [00:43<00:00, 1157.18it/s]\n"
     ]
    },
    {
     "name": "stdout",
     "output_type": "stream",
     "text": [
      "91 [N-]=[N+]=NCC1CN(Cc2ccccc2)CCO1\n"
     ]
    },
    {
     "name": "stderr",
     "output_type": "stream",
     "text": [
      "100%|███████████████████████████████████████████████████████████████████████████| 50016/50016 [01:07<00:00, 743.11it/s]\n"
     ]
    },
    {
     "name": "stdout",
     "output_type": "stream",
     "text": [
      "92 COc1ccc(N2CCN(c3cc(C)c4c(c3C)CC(C)(C)O4)CC2)cc1\n"
     ]
    },
    {
     "name": "stderr",
     "output_type": "stream",
     "text": [
      "100%|███████████████████████████████████████████████████████████████████████████| 50016/50016 [04:49<00:00, 172.82it/s]\n"
     ]
    },
    {
     "name": "stdout",
     "output_type": "stream",
     "text": [
      "93 C#Cc1c(F)cc(C(C)=O)c(-c2cccc(F)c2)c1/N=N/N(CC)CC\n"
     ]
    },
    {
     "name": "stderr",
     "output_type": "stream",
     "text": [
      "100%|███████████████████████████████████████████████████████████████████████████| 50016/50016 [03:01<00:00, 275.38it/s]\n"
     ]
    },
    {
     "name": "stdout",
     "output_type": "stream",
     "text": [
      "94 COc1ccccc1N1CCN(Cc2c(C3CC3)nn(-c3ccccc3)c2N)CC1\n"
     ]
    },
    {
     "name": "stderr",
     "output_type": "stream",
     "text": [
      "100%|███████████████████████████████████████████████████████████████████████████| 50016/50016 [03:11<00:00, 261.33it/s]\n"
     ]
    },
    {
     "name": "stdout",
     "output_type": "stream",
     "text": [
      "95 CC(C)c1nc2cc(Cl)c(S(N)(=O)=O)cc2[nH]1\n"
     ]
    },
    {
     "name": "stderr",
     "output_type": "stream",
     "text": [
      "100%|███████████████████████████████████████████████████████████████████████████| 50016/50016 [01:29<00:00, 558.67it/s]\n"
     ]
    },
    {
     "name": "stdout",
     "output_type": "stream",
     "text": [
      "96 CC(C)(C)n1nc(-c2ccncc2)c2c1CCC(C(=O)O)C2\n"
     ]
    },
    {
     "name": "stderr",
     "output_type": "stream",
     "text": [
      "100%|███████████████████████████████████████████████████████████████████████████| 50016/50016 [03:42<00:00, 224.79it/s]\n"
     ]
    },
    {
     "name": "stdout",
     "output_type": "stream",
     "text": [
      "97 Cc1ccccc1-c1cc2cc(O)c(Cl)c(Cl)c2s1\n"
     ]
    },
    {
     "name": "stderr",
     "output_type": "stream",
     "text": [
      "100%|███████████████████████████████████████████████████████████████████████████| 50016/50016 [03:15<00:00, 255.88it/s]\n"
     ]
    },
    {
     "name": "stdout",
     "output_type": "stream",
     "text": [
      "98 COc1cc(C=O)cc(OC)c1CCCCCCCCCCCCCCO[Si](C)(C)C(C)(C)C\n"
     ]
    },
    {
     "name": "stderr",
     "output_type": "stream",
     "text": [
      "100%|███████████████████████████████████████████████████████████████████████████| 50016/50016 [01:52<00:00, 446.00it/s]\n"
     ]
    },
    {
     "name": "stdout",
     "output_type": "stream",
     "text": [
      "99 C[C@@H]1CCCN1CCc1cc2ccc(-c3ccc(C#N)cc3)cc2cn1\n"
     ]
    },
    {
     "name": "stderr",
     "output_type": "stream",
     "text": [
      "100%|███████████████████████████████████████████████████████████████████████████| 50016/50016 [06:16<00:00, 132.71it/s]\n"
     ]
    },
    {
     "name": "stdout",
     "output_type": "stream",
     "text": [
      "100 Cc1cc(F)nc(N2CCN(C(=O)OC(C)(C)C)CC2)c1\n"
     ]
    },
    {
     "name": "stderr",
     "output_type": "stream",
     "text": [
      "100%|███████████████████████████████████████████████████████████████████████████| 50016/50016 [01:46<00:00, 467.49it/s]\n"
     ]
    },
    {
     "name": "stdout",
     "output_type": "stream",
     "text": [
      "101 CC(C)(C)OC(=O)N1CCN(c2nccc3ccc(Sc4ccccc4C(C)(C)C)cc23)CC1\n"
     ]
    },
    {
     "name": "stderr",
     "output_type": "stream",
     "text": [
      "100%|███████████████████████████████████████████████████████████████████████████| 50016/50016 [04:37<00:00, 180.02it/s]\n"
     ]
    },
    {
     "name": "stdout",
     "output_type": "stream",
     "text": [
      "102 COCCN(C(C)(C)C)S(=O)(=O)c1ccc(Nc2nccc(-c3cnc(C)n3CC3CC3)n2)cc1\n"
     ]
    },
    {
     "name": "stderr",
     "output_type": "stream",
     "text": [
      "100%|███████████████████████████████████████████████████████████████████████████| 50016/50016 [02:31<00:00, 330.88it/s]\n"
     ]
    },
    {
     "name": "stdout",
     "output_type": "stream",
     "text": [
      "103 COc1cc(C)cc2cc(-c3c(COCC(=O)O)cn4ncnc(N)c34)sc12\n"
     ]
    },
    {
     "name": "stderr",
     "output_type": "stream",
     "text": [
      "100%|███████████████████████████████████████████████████████████████████████████| 50016/50016 [04:29<00:00, 185.40it/s]\n"
     ]
    },
    {
     "name": "stdout",
     "output_type": "stream",
     "text": [
      "104 CNc1c(Br)cccc1[N+](=O)[O-]\n"
     ]
    },
    {
     "name": "stderr",
     "output_type": "stream",
     "text": [
      "100%|██████████████████████████████████████████████████████████████████████████| 50016/50016 [00:42<00:00, 1166.58it/s]\n"
     ]
    },
    {
     "name": "stdout",
     "output_type": "stream",
     "text": [
      "105 COc1cc(O)c(C(=O)c2ccc(F)cc2)cc1Cl\n"
     ]
    },
    {
     "name": "stderr",
     "output_type": "stream",
     "text": [
      "100%|███████████████████████████████████████████████████████████████████████████| 50016/50016 [01:58<00:00, 423.45it/s]\n"
     ]
    },
    {
     "name": "stdout",
     "output_type": "stream",
     "text": [
      "106 CCCC1CC(=O)N(Cc2cncn2CC(=O)NCc2ccccc2)C1\n"
     ]
    },
    {
     "name": "stderr",
     "output_type": "stream",
     "text": [
      "100%|███████████████████████████████████████████████████████████████████████████| 50016/50016 [01:43<00:00, 485.03it/s]\n"
     ]
    },
    {
     "name": "stdout",
     "output_type": "stream",
     "text": [
      "107 COC(=O)c1cccc(C(OCCN)c2ccccc2)c1\n"
     ]
    },
    {
     "name": "stderr",
     "output_type": "stream",
     "text": [
      "100%|███████████████████████████████████████████████████████████████████████████| 50016/50016 [01:55<00:00, 433.36it/s]\n"
     ]
    },
    {
     "name": "stdout",
     "output_type": "stream",
     "text": [
      "108 CC(C)(C)OC(=O)N1CCC(CCCCc2ccc(NS(C)(=O)=O)cc2)CC1\n"
     ]
    },
    {
     "name": "stderr",
     "output_type": "stream",
     "text": [
      "100%|███████████████████████████████████████████████████████████████████████████| 50016/50016 [01:50<00:00, 450.93it/s]\n"
     ]
    },
    {
     "name": "stdout",
     "output_type": "stream",
     "text": [
      "109 CCCCC/C=C\\C/C=C\\CCCCCCCCOS(C)(=O)=O\n"
     ]
    },
    {
     "name": "stderr",
     "output_type": "stream",
     "text": [
      "100%|██████████████████████████████████████████████████████████████████████████| 50016/50016 [00:33<00:00, 1479.75it/s]\n"
     ]
    },
    {
     "name": "stdout",
     "output_type": "stream",
     "text": [
      "110 CC(=O)N(Cc1cccnc1)c1ccc(Cl)cc1\n"
     ]
    },
    {
     "name": "stderr",
     "output_type": "stream",
     "text": [
      "100%|███████████████████████████████████████████████████████████████████████████| 50016/50016 [01:19<00:00, 630.74it/s]\n"
     ]
    },
    {
     "name": "stdout",
     "output_type": "stream",
     "text": [
      "111 OC1CCC2(CCOC2)CC1\n"
     ]
    },
    {
     "name": "stderr",
     "output_type": "stream",
     "text": [
      "100%|███████████████████████████████████████████████████████████████████████████| 50016/50016 [01:21<00:00, 613.39it/s]\n"
     ]
    },
    {
     "name": "stdout",
     "output_type": "stream",
     "text": [
      "112 COC(=O)CCc1ccc(Oc2ccccc2)c(Br)c1\n"
     ]
    },
    {
     "name": "stderr",
     "output_type": "stream",
     "text": [
      "100%|███████████████████████████████████████████████████████████████████████████| 50016/50016 [01:28<00:00, 565.43it/s]\n"
     ]
    },
    {
     "name": "stdout",
     "output_type": "stream",
     "text": [
      "113 CCc1ccc(-c2ccc(Cl)cc2Cl)cc1C1OC12C(=O)C(C)(C)OC2(C)C\n"
     ]
    },
    {
     "name": "stderr",
     "output_type": "stream",
     "text": [
      "100%|███████████████████████████████████████████████████████████████████████████| 50016/50016 [04:12<00:00, 198.39it/s]\n"
     ]
    },
    {
     "name": "stdout",
     "output_type": "stream",
     "text": [
      "114 CC#CC(O)(Cn1cncn1)c1ccc(Oc2ccc(Cl)cc2)cc1Cl\n"
     ]
    },
    {
     "name": "stderr",
     "output_type": "stream",
     "text": [
      "100%|███████████████████████████████████████████████████████████████████████████| 50016/50016 [01:49<00:00, 458.26it/s]\n"
     ]
    },
    {
     "name": "stdout",
     "output_type": "stream",
     "text": [
      "115 CN(C)c1c(F)cc(-c2cc(=O)c3ccc4[nH]c(=O)[nH]c4c3o2)cc1F\n"
     ]
    },
    {
     "name": "stderr",
     "output_type": "stream",
     "text": [
      "100%|███████████████████████████████████████████████████████████████████████████| 50016/50016 [05:39<00:00, 147.23it/s]\n"
     ]
    },
    {
     "name": "stdout",
     "output_type": "stream",
     "text": [
      "116 COc1ccnc(CSc2nc3cc(F)c(F)cc3[nH]2)c1C\n"
     ]
    },
    {
     "name": "stderr",
     "output_type": "stream",
     "text": [
      "100%|███████████████████████████████████████████████████████████████████████████| 50016/50016 [01:58<00:00, 423.54it/s]\n"
     ]
    },
    {
     "name": "stdout",
     "output_type": "stream",
     "text": [
      "117 CC(COc1ccccc1)Oc1c(C(=O)O)ccc2ccccc12\n"
     ]
    },
    {
     "name": "stderr",
     "output_type": "stream",
     "text": [
      "100%|███████████████████████████████████████████████████████████████████████████| 50016/50016 [03:21<00:00, 248.12it/s]\n"
     ]
    },
    {
     "name": "stdout",
     "output_type": "stream",
     "text": [
      "118 Nc1cccc(C(=O)c2ccc3c(c2)CC(=O)N3)c1\n"
     ]
    },
    {
     "name": "stderr",
     "output_type": "stream",
     "text": [
      "100%|███████████████████████████████████████████████████████████████████████████| 50016/50016 [03:45<00:00, 222.18it/s]\n"
     ]
    },
    {
     "name": "stdout",
     "output_type": "stream",
     "text": [
      "119 CN(C)C(=O)COc1ccc(I)cc1\n"
     ]
    },
    {
     "name": "stderr",
     "output_type": "stream",
     "text": [
      "100%|██████████████████████████████████████████████████████████████████████████| 50016/50016 [00:41<00:00, 1198.42it/s]\n"
     ]
    },
    {
     "name": "stdout",
     "output_type": "stream",
     "text": [
      "120 CCCCCCCCC#Cc1ccc(CN(C(C)=O)c2ccc3c(c2)C(=O)OC(C)(C)O3)cc1\n"
     ]
    },
    {
     "name": "stderr",
     "output_type": "stream",
     "text": [
      "100%|███████████████████████████████████████████████████████████████████████████| 50016/50016 [02:56<00:00, 283.83it/s]\n"
     ]
    },
    {
     "name": "stdout",
     "output_type": "stream",
     "text": [
      "121 CCCCCC1C(=O)CCC1CC(C)=O\n"
     ]
    },
    {
     "name": "stderr",
     "output_type": "stream",
     "text": [
      "100%|███████████████████████████████████████████████████████████████████████████| 50016/50016 [01:16<00:00, 657.60it/s]\n"
     ]
    },
    {
     "name": "stdout",
     "output_type": "stream",
     "text": [
      "122 COc1ccc(-c2nc(S(=O)c3ccccc3NC(C)=O)[nH]c2-c2ccc(OC)cc2)cc1\n"
     ]
    },
    {
     "name": "stderr",
     "output_type": "stream",
     "text": [
      "100%|███████████████████████████████████████████████████████████████████████████| 50016/50016 [03:20<00:00, 249.13it/s]\n"
     ]
    },
    {
     "name": "stdout",
     "output_type": "stream",
     "text": [
      "123 CC(O)(c1ccc(Cl)cc1)C1CC1C#N\n"
     ]
    },
    {
     "name": "stderr",
     "output_type": "stream",
     "text": [
      "100%|███████████████████████████████████████████████████████████████████████████| 50016/50016 [00:58<00:00, 860.82it/s]\n"
     ]
    },
    {
     "name": "stdout",
     "output_type": "stream",
     "text": [
      "124 COC(=O)c1ccc(-c2ccccc2)c(Cl)c1\n"
     ]
    },
    {
     "name": "stderr",
     "output_type": "stream",
     "text": [
      "100%|███████████████████████████████████████████████████████████████████████████| 50016/50016 [02:07<00:00, 390.81it/s]\n"
     ]
    },
    {
     "name": "stdout",
     "output_type": "stream",
     "text": [
      "125 Cn1c(=O)cc(CCc2cccc(Cl)c2)c2cc(C(N)(c3ccc(Cl)cc3)c3cccnc3)ccc21\n"
     ]
    },
    {
     "name": "stderr",
     "output_type": "stream",
     "text": [
      "100%|███████████████████████████████████████████████████████████████████████████| 50016/50016 [07:02<00:00, 118.46it/s]\n"
     ]
    },
    {
     "name": "stdout",
     "output_type": "stream",
     "text": [
      "126 O=C(c1ccccc1)c1ccc(Nc2ccccc2C(=O)O)c([N+](=O)[O-])c1\n"
     ]
    },
    {
     "name": "stderr",
     "output_type": "stream",
     "text": [
      "100%|███████████████████████████████████████████████████████████████████████████| 50016/50016 [02:20<00:00, 355.82it/s]\n"
     ]
    },
    {
     "name": "stdout",
     "output_type": "stream",
     "text": [
      "127 CCCCC1CCC(c2ccc(-c3cc(F)c(C(F)(F)Oc4cc(F)c(C(F)(F)F)c(F)c4)c(F)c3)c(F)c2)OC1\n"
     ]
    },
    {
     "name": "stderr",
     "output_type": "stream",
     "text": [
      "100%|███████████████████████████████████████████████████████████████████████████| 50016/50016 [04:40<00:00, 178.00it/s]\n"
     ]
    },
    {
     "name": "stdout",
     "output_type": "stream",
     "text": [
      "128 CC(C)(C)OC(=O)N(c1csc(C(=O)O)c1)S(C)(=O)=O\n"
     ]
    },
    {
     "name": "stderr",
     "output_type": "stream",
     "text": [
      "100%|███████████████████████████████████████████████████████████████████████████| 50016/50016 [00:55<00:00, 906.15it/s]\n"
     ]
    },
    {
     "name": "stdout",
     "output_type": "stream",
     "text": [
      "129 CC(=O)NNC(=O)[C@@H]1CCCCN1S(=O)(=O)c1ccc(F)cc1\n"
     ]
    },
    {
     "name": "stderr",
     "output_type": "stream",
     "text": [
      "100%|███████████████████████████████████████████████████████████████████████████| 50016/50016 [01:31<00:00, 549.32it/s]\n"
     ]
    },
    {
     "name": "stdout",
     "output_type": "stream",
     "text": [
      "130 COc1cc(F)c(F)cc1O\n"
     ]
    },
    {
     "name": "stderr",
     "output_type": "stream",
     "text": [
      "100%|██████████████████████████████████████████████████████████████████████████| 50016/50016 [00:43<00:00, 1140.17it/s]\n"
     ]
    },
    {
     "name": "stdout",
     "output_type": "stream",
     "text": [
      "131 CN(C)CC1CNc2ccccc2N1C=O\n"
     ]
    },
    {
     "name": "stderr",
     "output_type": "stream",
     "text": [
      "100%|███████████████████████████████████████████████████████████████████████████| 50016/50016 [02:05<00:00, 397.35it/s]\n"
     ]
    },
    {
     "name": "stdout",
     "output_type": "stream",
     "text": [
      "132 COc1cc2c(cc1OC)C(Cc1ccc(OCC3CC3)c(OC)c1)N(CC(=O)NCc1ccccc1)CC2\n"
     ]
    },
    {
     "name": "stderr",
     "output_type": "stream",
     "text": [
      "100%|████████████████████████████████████████████████████████████████████████████| 50016/50016 [11:26<00:00, 72.84it/s]\n"
     ]
    },
    {
     "name": "stdout",
     "output_type": "stream",
     "text": [
      "133 C=C(CCCCCCCCCCCCCCCC)CC(CO)COCCCCCCCCCCCCCCCC\n"
     ]
    },
    {
     "name": "stderr",
     "output_type": "stream",
     "text": [
      "100%|███████████████████████████████████████████████████████████████████████████| 50016/50016 [00:50<00:00, 993.79it/s]\n"
     ]
    },
    {
     "name": "stdout",
     "output_type": "stream",
     "text": [
      "134 COC(=O)c1ccc(C2(NC(=O)[C@H]3CCCCN3)CC2)cc1\n"
     ]
    },
    {
     "name": "stderr",
     "output_type": "stream",
     "text": [
      "100%|███████████████████████████████████████████████████████████████████████████| 50016/50016 [02:04<00:00, 400.96it/s]\n"
     ]
    },
    {
     "name": "stdout",
     "output_type": "stream",
     "text": [
      "135 CC(C)(C)OC(=O)N[C@H]1CCCN(c2ccncc2NC(=O)c2csc(-c3ccccc3F)n2)C1\n"
     ]
    },
    {
     "name": "stderr",
     "output_type": "stream",
     "text": [
      "100%|███████████████████████████████████████████████████████████████████████████| 50016/50016 [07:20<00:00, 113.61it/s]\n"
     ]
    },
    {
     "name": "stdout",
     "output_type": "stream",
     "text": [
      "136 COc1cc(Cl)ccc1-c1nc(C)c(N)s1\n"
     ]
    },
    {
     "name": "stderr",
     "output_type": "stream",
     "text": [
      "100%|███████████████████████████████████████████████████████████████████████████| 50016/50016 [01:18<00:00, 639.35it/s]\n"
     ]
    },
    {
     "name": "stdout",
     "output_type": "stream",
     "text": [
      "137 CC(C)(C)OC(=O)N1CCC(Nc2nc(Cl)cc3ccccc23)CC1\n"
     ]
    },
    {
     "name": "stderr",
     "output_type": "stream",
     "text": [
      "100%|███████████████████████████████████████████████████████████████████████████| 50016/50016 [03:15<00:00, 255.47it/s]\n"
     ]
    },
    {
     "name": "stdout",
     "output_type": "stream",
     "text": [
      "138 CCOC(=O)c1cc(-c2ccc(C)cn2)n(-c2ccc(C)nc2)n1\n"
     ]
    },
    {
     "name": "stderr",
     "output_type": "stream",
     "text": [
      "100%|███████████████████████████████████████████████████████████████████████████| 50016/50016 [02:17<00:00, 363.16it/s]\n"
     ]
    },
    {
     "name": "stdout",
     "output_type": "stream",
     "text": [
      "139 CCCCCCCOc1cccc(CNC(=O)c2cccnc2N)c1F\n"
     ]
    },
    {
     "name": "stderr",
     "output_type": "stream",
     "text": [
      "100%|███████████████████████████████████████████████████████████████████████████| 50016/50016 [02:05<00:00, 397.58it/s]\n"
     ]
    },
    {
     "name": "stdout",
     "output_type": "stream",
     "text": [
      "140 CSc1nnc(-c2ccc3c(c2)c(-c2nccc(N4CCOCC4)n2)cn3C(=O)OC(C)(C)C)s1\n"
     ]
    },
    {
     "name": "stderr",
     "output_type": "stream",
     "text": [
      "100%|███████████████████████████████████████████████████████████████████████████| 50016/50016 [05:28<00:00, 152.25it/s]\n"
     ]
    },
    {
     "name": "stdout",
     "output_type": "stream",
     "text": [
      "141 Nc1nc(NC2CCN(C(=O)COc3ccccc3)CC2)c2nc(-c3ccc(F)cc3)ccc2n1\n"
     ]
    },
    {
     "name": "stderr",
     "output_type": "stream",
     "text": [
      "100%|███████████████████████████████████████████████████████████████████████████| 50016/50016 [05:07<00:00, 162.73it/s]\n"
     ]
    },
    {
     "name": "stdout",
     "output_type": "stream",
     "text": [
      "142 Cc1ccc(C=Cc2csc3ccccc23)s1\n"
     ]
    },
    {
     "name": "stderr",
     "output_type": "stream",
     "text": [
      "100%|███████████████████████████████████████████████████████████████████████████| 50016/50016 [01:29<00:00, 561.27it/s]\n"
     ]
    },
    {
     "name": "stdout",
     "output_type": "stream",
     "text": [
      "143 Cc1onc(-c2ccccc2)c1-c1cn(-c2ccccn2)cn1\n"
     ]
    },
    {
     "name": "stderr",
     "output_type": "stream",
     "text": [
      "100%|███████████████████████████████████████████████████████████████████████████| 50016/50016 [02:08<00:00, 387.94it/s]\n"
     ]
    },
    {
     "name": "stdout",
     "output_type": "stream",
     "text": [
      "144 Cc1cc(Br)cc2c1-n1c(nnc1N1CCN(C)CC1)CN=C2c1ccccn1\n"
     ]
    },
    {
     "name": "stderr",
     "output_type": "stream",
     "text": [
      "100%|███████████████████████████████████████████████████████████████████████████| 50016/50016 [05:07<00:00, 162.59it/s]\n"
     ]
    },
    {
     "name": "stdout",
     "output_type": "stream",
     "text": [
      "145 CCS(=O)(=O)CCn1c([N+](=O)[O-])cnc1C\n"
     ]
    },
    {
     "name": "stderr",
     "output_type": "stream",
     "text": [
      "100%|██████████████████████████████████████████████████████████████████████████| 50016/50016 [00:44<00:00, 1114.52it/s]\n"
     ]
    },
    {
     "name": "stdout",
     "output_type": "stream",
     "text": [
      "146 CC(C)(C)OC(=O)Nc1cccc(-c2cnc(N)c(C(=O)Nc3ccncc3)c2)c1\n"
     ]
    },
    {
     "name": "stderr",
     "output_type": "stream",
     "text": [
      "100%|███████████████████████████████████████████████████████████████████████████| 50016/50016 [04:17<00:00, 194.40it/s]\n"
     ]
    },
    {
     "name": "stdout",
     "output_type": "stream",
     "text": [
      "147 Nc1ncc(-c2ccc(-c3ccccc3S(=O)(=O)CCCS(=O)(=O)C3CCCCC3)cc2F)cn1\n"
     ]
    },
    {
     "name": "stderr",
     "output_type": "stream",
     "text": [
      "100%|███████████████████████████████████████████████████████████████████████████| 50016/50016 [03:29<00:00, 239.02it/s]\n"
     ]
    },
    {
     "name": "stdout",
     "output_type": "stream",
     "text": [
      "148 CC(C)(C)OC(=O)N1CCN(C(=O)OC(C)(C)C)[C@@H](CCCCO)C1\n"
     ]
    },
    {
     "name": "stderr",
     "output_type": "stream",
     "text": [
      "100%|███████████████████████████████████████████████████████████████████████████| 50016/50016 [01:32<00:00, 543.44it/s]\n"
     ]
    },
    {
     "name": "stdout",
     "output_type": "stream",
     "text": [
      "149 COc1ccnc(CCc2nc3cc(-c4ccc(S(=O)(=O)N5CCN(C(C)=O)CC5)cc4)cnc3[nH]2)c1\n"
     ]
    },
    {
     "name": "stderr",
     "output_type": "stream",
     "text": [
      "100%|███████████████████████████████████████████████████████████████████████████| 50016/50016 [05:02<00:00, 165.11it/s]\n"
     ]
    },
    {
     "name": "stdout",
     "output_type": "stream",
     "text": [
      "150 CNC(=O)c1ccc(-c2nn(-c3c(F)cccc3F)c3ccnc(OC)c23)cc1\n"
     ]
    },
    {
     "name": "stderr",
     "output_type": "stream",
     "text": [
      "100%|███████████████████████████████████████████████████████████████████████████| 50016/50016 [05:45<00:00, 144.65it/s]\n"
     ]
    },
    {
     "name": "stdout",
     "output_type": "stream",
     "text": [
      "151 C=CC[C@@]1(C)C[C@H](c2cccc(Cl)c2)[C@@H](c2ccc(Cl)cc2)N([C@@H](CC)CN2CCN(S(=O)(=O)C3CC3)CC2)C1=O\n"
     ]
    },
    {
     "name": "stderr",
     "output_type": "stream",
     "text": [
      "100%|███████████████████████████████████████████████████████████████████████████| 50016/50016 [08:16<00:00, 100.66it/s]\n"
     ]
    },
    {
     "name": "stdout",
     "output_type": "stream",
     "text": [
      "152 O=C(O)C1CCN1Cc1ccccc1\n"
     ]
    },
    {
     "name": "stderr",
     "output_type": "stream",
     "text": [
      "100%|███████████████████████████████████████████████████████████████████████████| 50016/50016 [01:16<00:00, 650.83it/s]\n"
     ]
    },
    {
     "name": "stdout",
     "output_type": "stream",
     "text": [
      "153 Nc1nc(SCCOCCO)nc2c1nc(O)n2Cc1ccccc1\n"
     ]
    },
    {
     "name": "stderr",
     "output_type": "stream",
     "text": [
      "100%|███████████████████████████████████████████████████████████████████████████| 50016/50016 [02:06<00:00, 396.59it/s]\n"
     ]
    },
    {
     "name": "stdout",
     "output_type": "stream",
     "text": [
      "154 COc1ccc2c(c1)CCC13CN(C)CC1CCC23\n"
     ]
    },
    {
     "name": "stderr",
     "output_type": "stream",
     "text": [
      "100%|████████████████████████████████████████████████████████████████████████████| 50016/50016 [19:53<00:00, 41.92it/s]\n"
     ]
    },
    {
     "name": "stdout",
     "output_type": "stream",
     "text": [
      "155 Cc1ccc(COc2cc(F)ccc2-c2ncnc(Nc3cccc(CS(C)(=O)=O)c3)n2)cc1\n"
     ]
    },
    {
     "name": "stderr",
     "output_type": "stream",
     "text": [
      "100%|███████████████████████████████████████████████████████████████████████████| 50016/50016 [03:38<00:00, 228.81it/s]\n"
     ]
    },
    {
     "name": "stdout",
     "output_type": "stream",
     "text": [
      "156 CCOC(=O)N1CCC(N2CCC[C@@H](NC(=O)c3cccc(OC)c3)C2)CC1\n"
     ]
    },
    {
     "name": "stderr",
     "output_type": "stream",
     "text": [
      "100%|███████████████████████████████████████████████████████████████████████████| 50016/50016 [02:58<00:00, 279.89it/s]\n"
     ]
    },
    {
     "name": "stdout",
     "output_type": "stream",
     "text": [
      "157 C[C@@H](Cn1ccc(-c2ccc(C#N)c(Cl)c2)n1)NC(=O)c1cn(COCC[Si](C)(C)C)c(C(N)=O)n1\n"
     ]
    },
    {
     "name": "stderr",
     "output_type": "stream",
     "text": [
      "100%|███████████████████████████████████████████████████████████████████████████| 50016/50016 [02:56<00:00, 282.74it/s]\n"
     ]
    },
    {
     "name": "stdout",
     "output_type": "stream",
     "text": [
      "158 COCCOc1ccc2c(c1)[nH]c1c(C(N)=O)ncc(-c3cccc(Nc4ncnc5ccccc45)c3C)c12\n"
     ]
    },
    {
     "name": "stderr",
     "output_type": "stream",
     "text": [
      "100%|████████████████████████████████████████████████████████████████████████████| 50016/50016 [17:21<00:00, 48.04it/s]\n"
     ]
    },
    {
     "name": "stdout",
     "output_type": "stream",
     "text": [
      "159 O=C(COc1ccc2c(c1)C(C1(c3ccc(Cl)cc3)CCC1)=NCC2)N1CCNCC1\n"
     ]
    },
    {
     "name": "stderr",
     "output_type": "stream",
     "text": [
      "100%|███████████████████████████████████████████████████████████████████████████| 50016/50016 [04:45<00:00, 175.31it/s]\n"
     ]
    },
    {
     "name": "stdout",
     "output_type": "stream",
     "text": [
      "160 COC(=O)c1cc(Br)cc2c1cnn2-c1ccc(F)cc1\n"
     ]
    },
    {
     "name": "stderr",
     "output_type": "stream",
     "text": [
      "100%|███████████████████████████████████████████████████████████████████████████| 50016/50016 [02:47<00:00, 298.22it/s]\n"
     ]
    },
    {
     "name": "stdout",
     "output_type": "stream",
     "text": [
      "161 O=c1cc2sccn2c(=O)n1Cc1ccc(Cl)cc1\n"
     ]
    },
    {
     "name": "stderr",
     "output_type": "stream",
     "text": [
      "100%|███████████████████████████████████████████████████████████████████████████| 50016/50016 [01:44<00:00, 479.38it/s]\n"
     ]
    },
    {
     "name": "stdout",
     "output_type": "stream",
     "text": [
      "162 CC(=O)OCC(O)(C#Cc1ccc([C@@H]2[C@@H](CC[C@H](OC(C)=O)c3ccc(F)cc3)C(=O)N2c2ccc(C#C[Si](C)(C)C)cc2)cc1)COC(C)=O\n"
     ]
    },
    {
     "name": "stderr",
     "output_type": "stream",
     "text": [
      "100%|███████████████████████████████████████████████████████████████████████████| 50016/50016 [04:58<00:00, 167.66it/s]\n"
     ]
    },
    {
     "name": "stdout",
     "output_type": "stream",
     "text": [
      "163 CCCCCCCCC[C@H](C#CC#C[C@@H](O)c1ccc(OCC)cc1)NCCCC\n"
     ]
    },
    {
     "name": "stderr",
     "output_type": "stream",
     "text": [
      "100%|███████████████████████████████████████████████████████████████████████████| 50016/50016 [01:23<00:00, 598.29it/s]\n"
     ]
    },
    {
     "name": "stdout",
     "output_type": "stream",
     "text": [
      "164 CCn1c(=O)nc(-c2cccc(Cl)c2)c2ccc(C=NO)nc21\n"
     ]
    },
    {
     "name": "stderr",
     "output_type": "stream",
     "text": [
      "100%|███████████████████████████████████████████████████████████████████████████| 50016/50016 [03:53<00:00, 214.25it/s]\n"
     ]
    },
    {
     "name": "stdout",
     "output_type": "stream",
     "text": [
      "165 CCCc1c(Cn2ccnc2-c2cccc(C#N)n2)ncn2ncnc12\n"
     ]
    },
    {
     "name": "stderr",
     "output_type": "stream",
     "text": [
      "100%|███████████████████████████████████████████████████████████████████████████| 50016/50016 [02:05<00:00, 397.81it/s]\n"
     ]
    },
    {
     "name": "stdout",
     "output_type": "stream",
     "text": [
      "166 COc1ccc(COC(=O)CO)cc1\n"
     ]
    },
    {
     "name": "stderr",
     "output_type": "stream",
     "text": [
      "100%|███████████████████████████████████████████████████████████████████████████| 50016/50016 [01:12<00:00, 688.12it/s]\n"
     ]
    },
    {
     "name": "stdout",
     "output_type": "stream",
     "text": [
      "167 CC(C)(C)OC(=O)N1C(=O)CC12CCC2\n"
     ]
    },
    {
     "name": "stderr",
     "output_type": "stream",
     "text": [
      "100%|███████████████████████████████████████████████████████████████████████████| 50016/50016 [01:58<00:00, 423.67it/s]\n"
     ]
    },
    {
     "name": "stdout",
     "output_type": "stream",
     "text": [
      "168 C[C@H]1[C@@H]2CCC[C@H](O)[C@@]2(c2ccc(O)cc2)CCC12OCCO2\n"
     ]
    },
    {
     "name": "stderr",
     "output_type": "stream",
     "text": [
      "100%|████████████████████████████████████████████████████████████████████████████| 50016/50016 [08:59<00:00, 92.65it/s]\n"
     ]
    },
    {
     "name": "stdout",
     "output_type": "stream",
     "text": [
      "169 C[C@H](Nc1nccc(-n2cc(-c3ccncc3)nc2-c2ccc(F)cc2)n1)c1ccccc1\n"
     ]
    },
    {
     "name": "stderr",
     "output_type": "stream",
     "text": [
      "100%|███████████████████████████████████████████████████████████████████████████| 50016/50016 [03:11<00:00, 261.59it/s]\n"
     ]
    },
    {
     "name": "stdout",
     "output_type": "stream",
     "text": [
      "170 C=CC(=O)N(C)c1cccc(-n2c(=O)n(-c3ccc(C)c(OC)c3)c3c(N)ncnc32)c1\n"
     ]
    },
    {
     "name": "stderr",
     "output_type": "stream",
     "text": [
      "100%|███████████████████████████████████████████████████████████████████████████| 50016/50016 [05:02<00:00, 165.43it/s]\n"
     ]
    },
    {
     "name": "stdout",
     "output_type": "stream",
     "text": [
      "171 Cc1nc2sccn2c1C(=O)NC[C@@H]1[C@H]2CC(C)C[C@H]2CN1C(=O)c1nc(N)sc1-c1ccccc1\n"
     ]
    },
    {
     "name": "stderr",
     "output_type": "stream",
     "text": [
      "100%|████████████████████████████████████████████████████████████████████████████| 50016/50016 [15:33<00:00, 53.59it/s]\n"
     ]
    },
    {
     "name": "stdout",
     "output_type": "stream",
     "text": [
      "172 CCc1ccccc1Sc1ccc(-c2ccnc(NCCN3C(=O)NC(=O)C3(C)C)n2)s1\n"
     ]
    },
    {
     "name": "stderr",
     "output_type": "stream",
     "text": [
      "100%|███████████████████████████████████████████████████████████████████████████| 50016/50016 [02:11<00:00, 381.70it/s]\n"
     ]
    },
    {
     "name": "stdout",
     "output_type": "stream",
     "text": [
      "173 Nc1ccncc1C(=NO)C1CCCCC1\n"
     ]
    },
    {
     "name": "stderr",
     "output_type": "stream",
     "text": [
      "100%|███████████████████████████████████████████████████████████████████████████| 50016/50016 [01:21<00:00, 616.20it/s]\n"
     ]
    },
    {
     "name": "stdout",
     "output_type": "stream",
     "text": [
      "174 CCO[C@H]1CN(c2ccccn2)C[C@H]1Nc1nc(CC)c(-c2ccc(OC)cc2C)nc1CC\n"
     ]
    },
    {
     "name": "stderr",
     "output_type": "stream",
     "text": [
      "100%|███████████████████████████████████████████████████████████████████████████| 50016/50016 [03:43<00:00, 223.61it/s]\n"
     ]
    },
    {
     "name": "stdout",
     "output_type": "stream",
     "text": [
      "175 CCCCCCCOc1ccc(C=O)cc1\n"
     ]
    },
    {
     "name": "stderr",
     "output_type": "stream",
     "text": [
      "100%|███████████████████████████████████████████████████████████████████████████| 50016/50016 [00:57<00:00, 864.18it/s]\n"
     ]
    },
    {
     "name": "stdout",
     "output_type": "stream",
     "text": [
      "176 CCCn1c(COC)nc2c(N)nc3ccc(OCC4CCCN(C)C4)cc3c21\n"
     ]
    },
    {
     "name": "stderr",
     "output_type": "stream",
     "text": [
      "100%|███████████████████████████████████████████████████████████████████████████| 50016/50016 [06:10<00:00, 135.07it/s]\n"
     ]
    },
    {
     "name": "stdout",
     "output_type": "stream",
     "text": [
      "177 CCS(=O)(=O)N(C)CCOc1cncc(-c2ccc3c(c2)CCC(=O)N3C)c1\n"
     ]
    },
    {
     "name": "stderr",
     "output_type": "stream",
     "text": [
      "100%|███████████████████████████████████████████████████████████████████████████| 50016/50016 [05:42<00:00, 146.04it/s]\n"
     ]
    },
    {
     "name": "stdout",
     "output_type": "stream",
     "text": [
      "178 C=CCOc1c(Cl)cccc1C(=O)NC1(C(=O)O)Cc2ccccc2C1\n"
     ]
    },
    {
     "name": "stderr",
     "output_type": "stream",
     "text": [
      "100%|███████████████████████████████████████████████████████████████████████████| 50016/50016 [05:42<00:00, 145.90it/s]\n"
     ]
    },
    {
     "name": "stdout",
     "output_type": "stream",
     "text": [
      "179 C[C@H]1NC(=O)OC12CN(Cc1ccccc1)C2\n"
     ]
    },
    {
     "name": "stderr",
     "output_type": "stream",
     "text": [
      "100%|███████████████████████████████████████████████████████████████████████████| 50016/50016 [01:43<00:00, 481.63it/s]\n"
     ]
    },
    {
     "name": "stdout",
     "output_type": "stream",
     "text": [
      "180 Cc1cc2c(OCc3ccccc3)cccc2n1Cc1ccccc1\n"
     ]
    },
    {
     "name": "stderr",
     "output_type": "stream",
     "text": [
      "100%|███████████████████████████████████████████████████████████████████████████| 50016/50016 [05:25<00:00, 153.88it/s]\n"
     ]
    },
    {
     "name": "stdout",
     "output_type": "stream",
     "text": [
      "181 CCOC(=O)C1CCN(C(=O)c2cccc(Nc3ncc(F)c(Nc4cccc(O)c4)n3)c2)CC1\n"
     ]
    },
    {
     "name": "stderr",
     "output_type": "stream",
     "text": [
      "100%|███████████████████████████████████████████████████████████████████████████| 50016/50016 [04:03<00:00, 205.64it/s]\n"
     ]
    },
    {
     "name": "stdout",
     "output_type": "stream",
     "text": [
      "182 Nc1cccc(N(C(F)(F)F)C(F)(F)F)c1\n"
     ]
    },
    {
     "name": "stderr",
     "output_type": "stream",
     "text": [
      "100%|███████████████████████████████████████████████████████████████████████████| 50016/50016 [00:59<00:00, 838.32it/s]\n"
     ]
    },
    {
     "name": "stdout",
     "output_type": "stream",
     "text": [
      "183 CC(C)(Br)C(=O)NCc1ccccc1\n"
     ]
    },
    {
     "name": "stderr",
     "output_type": "stream",
     "text": [
      "100%|██████████████████████████████████████████████████████████████████████████| 50016/50016 [00:45<00:00, 1105.09it/s]\n"
     ]
    },
    {
     "name": "stdout",
     "output_type": "stream",
     "text": [
      "184 CCCCCC(=O)NS(=O)(=O)c1ccccc1NC(=O)c1cccc(OCc2ccccc2)c1\n"
     ]
    },
    {
     "name": "stderr",
     "output_type": "stream",
     "text": [
      "100%|███████████████████████████████████████████████████████████████████████████| 50016/50016 [02:48<00:00, 297.71it/s]\n"
     ]
    },
    {
     "name": "stdout",
     "output_type": "stream",
     "text": [
      "185 C#Cc1cc(OCc2ccccc2)c(OCc2ccccc2)nn1\n"
     ]
    },
    {
     "name": "stderr",
     "output_type": "stream",
     "text": [
      "100%|███████████████████████████████████████████████████████████████████████████| 50016/50016 [01:32<00:00, 538.02it/s]\n"
     ]
    },
    {
     "name": "stdout",
     "output_type": "stream",
     "text": [
      "186 CCCC(C(=O)O)c1c(C)nc2sc3c(c2c1-c1ccc(CC)cc1)CCC3\n"
     ]
    },
    {
     "name": "stderr",
     "output_type": "stream",
     "text": [
      "100%|████████████████████████████████████████████████████████████████████████████| 50016/50016 [10:04<00:00, 82.75it/s]\n"
     ]
    },
    {
     "name": "stdout",
     "output_type": "stream",
     "text": [
      "187 COc1cc(-c2nc3ccc(OCCN4CCCCC4)cc3n2Cc2ccccc2C(F)(F)F)cc(OC)c1OC\n"
     ]
    },
    {
     "name": "stderr",
     "output_type": "stream",
     "text": [
      "100%|███████████████████████████████████████████████████████████████████████████| 50016/50016 [07:13<00:00, 115.28it/s]\n"
     ]
    },
    {
     "name": "stdout",
     "output_type": "stream",
     "text": [
      "188 CCOc1cc(CC(CC)NC=O)ccc1Cl\n"
     ]
    },
    {
     "name": "stderr",
     "output_type": "stream",
     "text": [
      "100%|███████████████████████████████████████████████████████████████████████████| 50016/50016 [01:12<00:00, 693.87it/s]\n"
     ]
    },
    {
     "name": "stdout",
     "output_type": "stream",
     "text": [
      "189 CCc1ccc(-c2ccc(Cl)cc2Cl)cc1C1OC12C(=O)C(C)(C)OC2(C)C\n"
     ]
    },
    {
     "name": "stderr",
     "output_type": "stream",
     "text": [
      "100%|███████████████████████████████████████████████████████████████████████████| 50016/50016 [04:11<00:00, 198.84it/s]\n"
     ]
    },
    {
     "name": "stdout",
     "output_type": "stream",
     "text": [
      "190 Cc1cc(C)cc(CC(=O)N2CCC2(C)C(=O)O)c1\n"
     ]
    },
    {
     "name": "stderr",
     "output_type": "stream",
     "text": [
      "100%|███████████████████████████████████████████████████████████████████████████| 50016/50016 [01:45<00:00, 475.49it/s]\n"
     ]
    },
    {
     "name": "stdout",
     "output_type": "stream",
     "text": [
      "191 CN1CC[C@H](N(Cc2ccccc2C(F)(F)F)c2ccc(C#N)c(Cl)c2)C1\n"
     ]
    },
    {
     "name": "stderr",
     "output_type": "stream",
     "text": [
      "100%|███████████████████████████████████████████████████████████████████████████| 50016/50016 [02:35<00:00, 320.75it/s]\n"
     ]
    },
    {
     "name": "stdout",
     "output_type": "stream",
     "text": [
      "192 O=C(Nc1ccc(Cl)c(-c2ccccn2)c1)c1ccc(N2CCCC2=O)cc1Cl\n"
     ]
    },
    {
     "name": "stderr",
     "output_type": "stream",
     "text": [
      "100%|███████████████████████████████████████████████████████████████████████████| 50016/50016 [04:35<00:00, 181.34it/s]\n"
     ]
    },
    {
     "name": "stdout",
     "output_type": "stream",
     "text": [
      "193 CCOC(=O)c1ccc(-n2cnc3ccccc32)nc1\n"
     ]
    },
    {
     "name": "stderr",
     "output_type": "stream",
     "text": [
      "100%|███████████████████████████████████████████████████████████████████████████| 50016/50016 [02:23<00:00, 348.83it/s]\n"
     ]
    },
    {
     "name": "stdout",
     "output_type": "stream",
     "text": [
      "194 COc1ccc(C[C@H](C)[C@H](C)Cc2ccc(OC)c(OCCOCCOCCOCCn3ccnc3[N+](=O)[O-])c2)cc1OC\n"
     ]
    },
    {
     "name": "stderr",
     "output_type": "stream",
     "text": [
      "100%|███████████████████████████████████████████████████████████████████████████| 50016/50016 [02:22<00:00, 351.19it/s]\n"
     ]
    },
    {
     "name": "stdout",
     "output_type": "stream",
     "text": [
      "195 COC(=O)c1ccc(-c2ccccc2)cc1NC(=O)c1cc(OCCN2CCN(CCCO)CC2)ccc1O\n"
     ]
    },
    {
     "name": "stderr",
     "output_type": "stream",
     "text": [
      "100%|███████████████████████████████████████████████████████████████████████████| 50016/50016 [07:36<00:00, 109.59it/s]\n"
     ]
    },
    {
     "name": "stdout",
     "output_type": "stream",
     "text": [
      "196 COC[C@H]1C[C@@](Cc2cscn2)(C(=O)O)N(C(=O)c2ccc(C(C)(C)C)c(OC)c2)[C@H]1c1ncc(C)s1\n"
     ]
    },
    {
     "name": "stderr",
     "output_type": "stream",
     "text": [
      "100%|███████████████████████████████████████████████████████████████████████████| 50016/50016 [03:57<00:00, 210.59it/s]\n"
     ]
    },
    {
     "name": "stdout",
     "output_type": "stream",
     "text": [
      "197 Cn1nnn(-c2cc(Cl)cc([N+](=O)[O-])c2)c1=O\n"
     ]
    },
    {
     "name": "stderr",
     "output_type": "stream",
     "text": [
      "100%|███████████████████████████████████████████████████████████████████████████| 50016/50016 [00:53<00:00, 936.91it/s]\n"
     ]
    },
    {
     "name": "stdout",
     "output_type": "stream",
     "text": [
      "198 COc1ccccc1C#Cc1ccc(OC(C)C)c(C(=O)NC(CO)Cc2c[nH]c3ccncc23)c1\n"
     ]
    },
    {
     "name": "stderr",
     "output_type": "stream",
     "text": [
      "100%|███████████████████████████████████████████████████████████████████████████| 50016/50016 [04:30<00:00, 184.65it/s]\n"
     ]
    },
    {
     "name": "stdout",
     "output_type": "stream",
     "text": [
      "199 COC(=O)CCc1cc(C(c2cc(F)ccc2F)S(=O)(=O)c2ccc(Cl)cc2)c(F)cn1\n"
     ]
    },
    {
     "name": "stderr",
     "output_type": "stream",
     "text": [
      "100%|███████████████████████████████████████████████████████████████████████████| 50016/50016 [02:17<00:00, 364.83it/s]\n"
     ]
    }
   ],
   "source": [
    "# finding the most similar molecule in dataset\n",
    "import math\n",
    "from tqdm import tqdm\n",
    "\n",
    "Tam_Sims = {}\n",
    "rdkit_MCS_Sims = {}\n",
    "fast_MCS_Sims = {}\n",
    "hybrid_Sims = {}\n",
    "\n",
    "molecules = np.random.choice(all_molecules, 200)\n",
    "for i, mol1 in enumerate(molecules):\n",
    "    smiles = Chem.MolToSmiles(mol1)\n",
    "    print (i, smiles)\n",
    "    recorder1 = sim_recorder(all_smiles[i])\n",
    "    recorder2 = sim_recorder(all_smiles[i])\n",
    "    recorder3 = sim_recorder(all_smiles[i])\n",
    "    recorder4 = sim_recorder(all_smiles[i])\n",
    "    for j, mol2 in tqdm(enumerate(all_molecules), total=len(all_molecules)):\n",
    "        if all_smiles[j] == smiles:\n",
    "            t1, t2, t3, t4 = 0, 0, 0, 0\n",
    "            sim1, sim2, sim3, sim4 = 0, 0, 0, 0\n",
    "        else:\n",
    "            t1, sim1 = Tam_Sim(mol1, mol2)\n",
    "            t2, sim2 = rdkit_MCS_Sim(mol1, mol2)\n",
    "            t3, sim3 = fast_MCS_Sim(mol1, mol2)\n",
    "            t4 = t1+t3\n",
    "            sim4 = math.sqrt(sim1*sim3) # hybrid similarity\n",
    "        recorder1.record(t1, sim1)\n",
    "        recorder2.record(t2, sim2)\n",
    "        recorder3.record(t3, sim3)\n",
    "        recorder4.record(t4, sim4)\n",
    "    Tam_Sims[i] = recorder1.summerize(all_smiles)\n",
    "    rdkit_MCS_Sims[i] = recorder2.summerize(all_smiles)\n",
    "    fast_MCS_Sims[i] = recorder3.summerize(all_smiles)\n",
    "    hybrid_Sims[i] = recorder4.summerize(all_smiles)"
   ]
  },
  {
   "cell_type": "code",
   "execution_count": 3,
   "id": "cd93b315",
   "metadata": {},
   "outputs": [
    {
     "data": {
      "text/plain": [
       "(0.004468899165936581, 0.00037591141818524716)"
      ]
     },
     "execution_count": 3,
     "metadata": {},
     "output_type": "execute_result"
    }
   ],
   "source": [
    "import numpy as np\n",
    "\n",
    "def get_average_time(d):\n",
    "    return np.mean([v[0] for v in d.values()])\n",
    "\n",
    "get_average_time(rdkit_MCS_Sims), get_average_time(fast_MCS_Sims)"
   ]
  },
  {
   "cell_type": "code",
   "execution_count": 4,
   "id": "1f3ebf34",
   "metadata": {},
   "outputs": [],
   "source": [
    "smiles_list = [Chem.MolToSmiles(mol) for mol in molecules]"
   ]
  },
  {
   "cell_type": "code",
   "execution_count": 5,
   "id": "a7ebddac",
   "metadata": {},
   "outputs": [
    {
     "data": {
      "text/html": [
       "<div>\n",
       "<style scoped>\n",
       "    .dataframe tbody tr th:only-of-type {\n",
       "        vertical-align: middle;\n",
       "    }\n",
       "\n",
       "    .dataframe tbody tr th {\n",
       "        vertical-align: top;\n",
       "    }\n",
       "\n",
       "    .dataframe thead th {\n",
       "        text-align: right;\n",
       "    }\n",
       "</style>\n",
       "<table border=\"1\" class=\"dataframe\">\n",
       "  <thead>\n",
       "    <tr style=\"text-align: right;\">\n",
       "      <th></th>\n",
       "      <th>time</th>\n",
       "      <th>similar_mols</th>\n",
       "      <th>smiles</th>\n",
       "    </tr>\n",
       "  </thead>\n",
       "  <tbody>\n",
       "    <tr>\n",
       "      <th>0</th>\n",
       "      <td>0.000656</td>\n",
       "      <td>[(CSc1ccc(C(=O)O[C@@H](Cc2c(Cl)c[n+]([O-])cc2C...</td>\n",
       "      <td>CSc1ccc(C(=O)O[C@@H](Cc2c(Cl)c[n+]([O-])cc2Cl)...</td>\n",
       "    </tr>\n",
       "    <tr>\n",
       "      <th>1</th>\n",
       "      <td>0.000659</td>\n",
       "      <td>[(COC(=O)c1cccc(-c2ccc(CN3C(=O)c4ccccc4C3=O)cc...</td>\n",
       "      <td>Cc1c(OS(C)(=O)=O)ccc2c1C(=O)N(Cc1ccccc1-c1cccc...</td>\n",
       "    </tr>\n",
       "    <tr>\n",
       "      <th>2</th>\n",
       "      <td>0.000746</td>\n",
       "      <td>[(COCCOc1ccn2c(C(=O)Nc3cccc4c3c(C3CC3)nn4Cc3cc...</td>\n",
       "      <td>CN1CCN(CCOc2ccn3c(C(=O)Nc4cccc5c4c(C4CC4)nn5Cc...</td>\n",
       "    </tr>\n",
       "    <tr>\n",
       "      <th>3</th>\n",
       "      <td>0.000469</td>\n",
       "      <td>[(CC(=Cc1ccc(C(=O)Oc2ccc(C(=N)N)cc2)s1)C(=O)OC...</td>\n",
       "      <td>CC/C(=C\\c1ccc(C(=O)OC(C)(C)C)s1)C(=O)O</td>\n",
       "    </tr>\n",
       "    <tr>\n",
       "      <th>4</th>\n",
       "      <td>0.000396</td>\n",
       "      <td>[(C(=Cc1ccccc1)c1ccccc1, 0.7126966450997984), ...</td>\n",
       "      <td>C(=C/c1ccoc1)\\c1ccccc1</td>\n",
       "    </tr>\n",
       "    <tr>\n",
       "      <th>...</th>\n",
       "      <td>...</td>\n",
       "      <td>...</td>\n",
       "      <td>...</td>\n",
       "    </tr>\n",
       "    <tr>\n",
       "      <th>195</th>\n",
       "      <td>0.000658</td>\n",
       "      <td>[(COC(=O)c1ccc(-c2ccccc2)cc1NC(=O)c1cc(OCCN2CC...</td>\n",
       "      <td>COC(=O)c1ccc(-c2ccccc2)cc1NC(=O)c1cc(OCCN2CCN(...</td>\n",
       "    </tr>\n",
       "    <tr>\n",
       "      <th>196</th>\n",
       "      <td>0.000643</td>\n",
       "      <td>[(COC[C@H]1C[C@@](Cc2cscn2)(C(=O)OC(C)(C)C)N(C...</td>\n",
       "      <td>COC[C@H]1C[C@@](Cc2cscn2)(C(=O)O)N(C(=O)c2ccc(...</td>\n",
       "    </tr>\n",
       "    <tr>\n",
       "      <th>197</th>\n",
       "      <td>0.000396</td>\n",
       "      <td>[(Cn1nnn(-c2cc([N+](=O)[O-])cc(Br)c2F)c1=O, 0....</td>\n",
       "      <td>Cn1nnn(-c2cc(Cl)cc([N+](=O)[O-])c2)c1=O</td>\n",
       "    </tr>\n",
       "    <tr>\n",
       "      <th>198</th>\n",
       "      <td>0.000634</td>\n",
       "      <td>[(COc1ccccc1C#Cc1ccc(OC(C)C)c(C(=O)NC(CO)Cc2c[...</td>\n",
       "      <td>COc1ccccc1C#Cc1ccc(OC(C)C)c(C(=O)NC(CO)Cc2c[nH...</td>\n",
       "    </tr>\n",
       "    <tr>\n",
       "      <th>199</th>\n",
       "      <td>0.000588</td>\n",
       "      <td>[(NNc1cc(C(c2cc(F)ccc2F)S(=O)(=O)c2ccc(Cl)cc2)...</td>\n",
       "      <td>COC(=O)CCc1cc(C(c2cc(F)ccc2F)S(=O)(=O)c2ccc(Cl...</td>\n",
       "    </tr>\n",
       "  </tbody>\n",
       "</table>\n",
       "<p>200 rows × 3 columns</p>\n",
       "</div>"
      ],
      "text/plain": [
       "         time                                       similar_mols  \\\n",
       "0    0.000656  [(CSc1ccc(C(=O)O[C@@H](Cc2c(Cl)c[n+]([O-])cc2C...   \n",
       "1    0.000659  [(COC(=O)c1cccc(-c2ccc(CN3C(=O)c4ccccc4C3=O)cc...   \n",
       "2    0.000746  [(COCCOc1ccn2c(C(=O)Nc3cccc4c3c(C3CC3)nn4Cc3cc...   \n",
       "3    0.000469  [(CC(=Cc1ccc(C(=O)Oc2ccc(C(=N)N)cc2)s1)C(=O)OC...   \n",
       "4    0.000396  [(C(=Cc1ccccc1)c1ccccc1, 0.7126966450997984), ...   \n",
       "..        ...                                                ...   \n",
       "195  0.000658  [(COC(=O)c1ccc(-c2ccccc2)cc1NC(=O)c1cc(OCCN2CC...   \n",
       "196  0.000643  [(COC[C@H]1C[C@@](Cc2cscn2)(C(=O)OC(C)(C)C)N(C...   \n",
       "197  0.000396  [(Cn1nnn(-c2cc([N+](=O)[O-])cc(Br)c2F)c1=O, 0....   \n",
       "198  0.000634  [(COc1ccccc1C#Cc1ccc(OC(C)C)c(C(=O)NC(CO)Cc2c[...   \n",
       "199  0.000588  [(NNc1cc(C(c2cc(F)ccc2F)S(=O)(=O)c2ccc(Cl)cc2)...   \n",
       "\n",
       "                                                smiles  \n",
       "0    CSc1ccc(C(=O)O[C@@H](Cc2c(Cl)c[n+]([O-])cc2Cl)...  \n",
       "1    Cc1c(OS(C)(=O)=O)ccc2c1C(=O)N(Cc1ccccc1-c1cccc...  \n",
       "2    CN1CCN(CCOc2ccn3c(C(=O)Nc4cccc5c4c(C4CC4)nn5Cc...  \n",
       "3               CC/C(=C\\c1ccc(C(=O)OC(C)(C)C)s1)C(=O)O  \n",
       "4                               C(=C/c1ccoc1)\\c1ccccc1  \n",
       "..                                                 ...  \n",
       "195  COC(=O)c1ccc(-c2ccccc2)cc1NC(=O)c1cc(OCCN2CCN(...  \n",
       "196  COC[C@H]1C[C@@](Cc2cscn2)(C(=O)O)N(C(=O)c2ccc(...  \n",
       "197            Cn1nnn(-c2cc(Cl)cc([N+](=O)[O-])c2)c1=O  \n",
       "198  COc1ccccc1C#Cc1ccc(OC(C)C)c(C(=O)NC(CO)Cc2c[nH...  \n",
       "199  COC(=O)CCc1cc(C(c2cc(F)ccc2F)S(=O)(=O)c2ccc(Cl...  \n",
       "\n",
       "[200 rows x 3 columns]"
      ]
     },
     "execution_count": 5,
     "metadata": {},
     "output_type": "execute_result"
    }
   ],
   "source": [
    "df = pd.DataFrame.from_dict(hybrid_Sims, orient = 'index')\n",
    "df.columns = ['time', 'similar_mols']\n",
    "df['smiles'] = smiles_list\n",
    "# df['time'] = [t for t in df['time']]\n",
    "df.to_csv('hybrid_Sims.csv')\n",
    "df"
   ]
  }
 ],
 "metadata": {
  "kernelspec": {
   "display_name": "Python 3 (ipykernel)",
   "language": "python",
   "name": "python3"
  },
  "language_info": {
   "codemirror_mode": {
    "name": "ipython",
    "version": 3
   },
   "file_extension": ".py",
   "mimetype": "text/x-python",
   "name": "python",
   "nbconvert_exporter": "python",
   "pygments_lexer": "ipython3",
   "version": "3.9.7"
  }
 },
 "nbformat": 4,
 "nbformat_minor": 5
}
